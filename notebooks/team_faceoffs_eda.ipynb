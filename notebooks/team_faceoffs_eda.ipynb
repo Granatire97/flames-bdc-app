{
 "cells": [
  {
   "cell_type": "code",
   "execution_count": 1,
   "metadata": {},
   "outputs": [
    {
     "name": "stdout",
     "output_type": "stream",
     "text": [
      "['game_date', 'Home Team', 'Away Team', 'Period', 'Clock', 'Home Team Skaters', 'Away Team Skaters', 'Home Team Goals', 'Away Team Goals', 'Team', 'Player', 'Event', 'X Coordinate', 'Y Coordinate', 'Detail 1', 'Detail 2', 'Detail 3', 'Detail 4', 'Player 2', 'X Coordinate 2', 'Y Coordinate 2']\n"
     ]
    },
    {
     "data": {
      "text/html": [
       "<div>\n",
       "<style scoped>\n",
       "    .dataframe tbody tr th:only-of-type {\n",
       "        vertical-align: middle;\n",
       "    }\n",
       "\n",
       "    .dataframe tbody tr th {\n",
       "        vertical-align: top;\n",
       "    }\n",
       "\n",
       "    .dataframe thead th {\n",
       "        text-align: right;\n",
       "    }\n",
       "</style>\n",
       "<table border=\"1\" class=\"dataframe\">\n",
       "  <thead>\n",
       "    <tr style=\"text-align: right;\">\n",
       "      <th></th>\n",
       "      <th>game_date</th>\n",
       "      <th>Home Team</th>\n",
       "      <th>Away Team</th>\n",
       "      <th>Period</th>\n",
       "      <th>Home Team Skaters</th>\n",
       "      <th>Away Team Skaters</th>\n",
       "      <th>Team</th>\n",
       "      <th>Player</th>\n",
       "      <th>Event</th>\n",
       "      <th>X Coordinate</th>\n",
       "      <th>Y Coordinate</th>\n",
       "      <th>Detail 1</th>\n",
       "      <th>Detail 2</th>\n",
       "      <th>Detail 3</th>\n",
       "      <th>Detail 4</th>\n",
       "      <th>Player 2</th>\n",
       "    </tr>\n",
       "  </thead>\n",
       "  <tbody>\n",
       "    <tr>\n",
       "      <th>0</th>\n",
       "      <td>2018-02-11</td>\n",
       "      <td>Olympic (Women) - Canada</td>\n",
       "      <td>Olympic (Women) - Olympic Athletes from Russia</td>\n",
       "      <td>1</td>\n",
       "      <td>5</td>\n",
       "      <td>5</td>\n",
       "      <td>Olympic (Women) - Canada</td>\n",
       "      <td>Emily Clark</td>\n",
       "      <td>Faceoff Win</td>\n",
       "      <td>100</td>\n",
       "      <td>42</td>\n",
       "      <td>Backhand</td>\n",
       "      <td>NaN</td>\n",
       "      <td>NaN</td>\n",
       "      <td>NaN</td>\n",
       "      <td>Lyudmila Belyakova</td>\n",
       "    </tr>\n",
       "    <tr>\n",
       "      <th>1</th>\n",
       "      <td>2018-02-11</td>\n",
       "      <td>Olympic (Women) - Canada</td>\n",
       "      <td>Olympic (Women) - Olympic Athletes from Russia</td>\n",
       "      <td>1</td>\n",
       "      <td>5</td>\n",
       "      <td>5</td>\n",
       "      <td>Olympic (Women) - Canada</td>\n",
       "      <td>Meaghan Mikkelson</td>\n",
       "      <td>Puck Recovery</td>\n",
       "      <td>91</td>\n",
       "      <td>67</td>\n",
       "      <td>NaN</td>\n",
       "      <td>NaN</td>\n",
       "      <td>NaN</td>\n",
       "      <td>NaN</td>\n",
       "      <td>NaN</td>\n",
       "    </tr>\n",
       "    <tr>\n",
       "      <th>2</th>\n",
       "      <td>2018-02-11</td>\n",
       "      <td>Olympic (Women) - Canada</td>\n",
       "      <td>Olympic (Women) - Olympic Athletes from Russia</td>\n",
       "      <td>1</td>\n",
       "      <td>5</td>\n",
       "      <td>5</td>\n",
       "      <td>Olympic (Women) - Canada</td>\n",
       "      <td>Meaghan Mikkelson</td>\n",
       "      <td>Dump In/Out</td>\n",
       "      <td>106</td>\n",
       "      <td>81</td>\n",
       "      <td>Retained</td>\n",
       "      <td>NaN</td>\n",
       "      <td>NaN</td>\n",
       "      <td>NaN</td>\n",
       "      <td>NaN</td>\n",
       "    </tr>\n",
       "    <tr>\n",
       "      <th>3</th>\n",
       "      <td>2018-02-11</td>\n",
       "      <td>Olympic (Women) - Canada</td>\n",
       "      <td>Olympic (Women) - Olympic Athletes from Russia</td>\n",
       "      <td>1</td>\n",
       "      <td>5</td>\n",
       "      <td>5</td>\n",
       "      <td>Olympic (Women) - Canada</td>\n",
       "      <td>Meaghan Mikkelson</td>\n",
       "      <td>Zone Entry</td>\n",
       "      <td>106</td>\n",
       "      <td>81</td>\n",
       "      <td>Dumped</td>\n",
       "      <td>NaN</td>\n",
       "      <td>NaN</td>\n",
       "      <td>NaN</td>\n",
       "      <td>Liana Ganeyeva</td>\n",
       "    </tr>\n",
       "    <tr>\n",
       "      <th>4</th>\n",
       "      <td>2018-02-11</td>\n",
       "      <td>Olympic (Women) - Canada</td>\n",
       "      <td>Olympic (Women) - Olympic Athletes from Russia</td>\n",
       "      <td>1</td>\n",
       "      <td>5</td>\n",
       "      <td>5</td>\n",
       "      <td>Olympic (Women) - Canada</td>\n",
       "      <td>Sarah Nurse</td>\n",
       "      <td>Puck Recovery</td>\n",
       "      <td>168</td>\n",
       "      <td>1</td>\n",
       "      <td>NaN</td>\n",
       "      <td>NaN</td>\n",
       "      <td>NaN</td>\n",
       "      <td>NaN</td>\n",
       "      <td>NaN</td>\n",
       "    </tr>\n",
       "  </tbody>\n",
       "</table>\n",
       "</div>"
      ],
      "text/plain": [
       "   game_date                 Home Team  \\\n",
       "0 2018-02-11  Olympic (Women) - Canada   \n",
       "1 2018-02-11  Olympic (Women) - Canada   \n",
       "2 2018-02-11  Olympic (Women) - Canada   \n",
       "3 2018-02-11  Olympic (Women) - Canada   \n",
       "4 2018-02-11  Olympic (Women) - Canada   \n",
       "\n",
       "                                        Away Team  Period  Home Team Skaters  \\\n",
       "0  Olympic (Women) - Olympic Athletes from Russia       1                  5   \n",
       "1  Olympic (Women) - Olympic Athletes from Russia       1                  5   \n",
       "2  Olympic (Women) - Olympic Athletes from Russia       1                  5   \n",
       "3  Olympic (Women) - Olympic Athletes from Russia       1                  5   \n",
       "4  Olympic (Women) - Olympic Athletes from Russia       1                  5   \n",
       "\n",
       "   Away Team Skaters                      Team             Player  \\\n",
       "0                  5  Olympic (Women) - Canada        Emily Clark   \n",
       "1                  5  Olympic (Women) - Canada  Meaghan Mikkelson   \n",
       "2                  5  Olympic (Women) - Canada  Meaghan Mikkelson   \n",
       "3                  5  Olympic (Women) - Canada  Meaghan Mikkelson   \n",
       "4                  5  Olympic (Women) - Canada        Sarah Nurse   \n",
       "\n",
       "           Event  X Coordinate  Y Coordinate  Detail 1 Detail 2 Detail 3  \\\n",
       "0    Faceoff Win           100            42  Backhand      NaN      NaN   \n",
       "1  Puck Recovery            91            67       NaN      NaN      NaN   \n",
       "2    Dump In/Out           106            81  Retained      NaN      NaN   \n",
       "3     Zone Entry           106            81    Dumped      NaN      NaN   \n",
       "4  Puck Recovery           168             1       NaN      NaN      NaN   \n",
       "\n",
       "  Detail 4            Player 2  \n",
       "0      NaN  Lyudmila Belyakova  \n",
       "1      NaN                 NaN  \n",
       "2      NaN                 NaN  \n",
       "3      NaN      Liana Ganeyeva  \n",
       "4      NaN                 NaN  "
      ]
     },
     "execution_count": 1,
     "metadata": {},
     "output_type": "execute_result"
    }
   ],
   "source": [
    "import pandas as pd\n",
    "\n",
    "df = pd.read_csv(\"/Users/markgranatire/Documents/flames-bdc-app/data/files/olympic_womens_dataset.csv\")\n",
    "df.head()\n",
    "print(df.columns.tolist())\n",
    "\n",
    "df = df.drop([\"Clock\", \"Home Team Goals\", \"Away Team Goals\", \"X Coordinate 2\", \"Y Coordinate 2\"], axis=1)\n",
    "df['game_date'] = pd.to_datetime(df['game_date'])\n",
    "df.head()"
   ]
  },
  {
   "cell_type": "code",
   "execution_count": 2,
   "metadata": {},
   "outputs": [
    {
     "name": "stdout",
     "output_type": "stream",
     "text": [
      "<class 'pandas.core.frame.DataFrame'>\n",
      "RangeIndex: 24002 entries, 0 to 24001\n",
      "Data columns (total 16 columns):\n",
      " #   Column             Non-Null Count  Dtype         \n",
      "---  ------             --------------  -----         \n",
      " 0   game_date          24002 non-null  datetime64[ns]\n",
      " 1   Home Team          24002 non-null  object        \n",
      " 2   Away Team          24002 non-null  object        \n",
      " 3   Period             24002 non-null  int64         \n",
      " 4   Home Team Skaters  24002 non-null  int64         \n",
      " 5   Away Team Skaters  24002 non-null  int64         \n",
      " 6   Team               24002 non-null  object        \n",
      " 7   Player             24002 non-null  object        \n",
      " 8   Event              24002 non-null  object        \n",
      " 9   X Coordinate       24002 non-null  int64         \n",
      " 10  Y Coordinate       24002 non-null  int64         \n",
      " 11  Detail 1           16157 non-null  object        \n",
      " 12  Detail 2           1671 non-null   object        \n",
      " 13  Detail 3           1671 non-null   object        \n",
      " 14  Detail 4           1671 non-null   object        \n",
      " 15  Player 2           12800 non-null  object        \n",
      "dtypes: datetime64[ns](1), int64(5), object(10)\n",
      "memory usage: 2.9+ MB\n"
     ]
    },
    {
     "data": {
      "text/plain": [
       "game_date                0\n",
       "Home Team                0\n",
       "Away Team                0\n",
       "Period                   0\n",
       "Home Team Skaters        0\n",
       "Away Team Skaters        0\n",
       "Team                     0\n",
       "Player                   0\n",
       "Event                    0\n",
       "X Coordinate             0\n",
       "Y Coordinate             0\n",
       "Detail 1              7845\n",
       "Detail 2             22331\n",
       "Detail 3             22331\n",
       "Detail 4             22331\n",
       "Player 2             11202\n",
       "dtype: int64"
      ]
     },
     "execution_count": 2,
     "metadata": {},
     "output_type": "execute_result"
    }
   ],
   "source": [
    "df.info()\n",
    "df.isnull().sum()"
   ]
  },
  {
   "cell_type": "code",
   "execution_count": 3,
   "metadata": {},
   "outputs": [],
   "source": [
    "df = df.drop(df[df[\"Team\"].isin([\"St. Lawrence Saints\", \"Clarkson Golden Knights\"])].index)\n",
    "df[\"Team\"] = df[\"Team\"].replace({\n",
    "    \"Olympic (Women) - Canada\": \"Canada\",\n",
    "    \"Olympic (Women) - Olympic Athletes from Russia\": \"Russia\",\n",
    "    \"Olympic (Women) - Finland\": \"Finland\",\n",
    "    \"Olympic (Women) - United States\": \"USA\"\n",
    "})"
   ]
  },
  {
   "cell_type": "code",
   "execution_count": 4,
   "metadata": {},
   "outputs": [
    {
     "data": {
      "text/html": [
       "<div>\n",
       "<style scoped>\n",
       "    .dataframe tbody tr th:only-of-type {\n",
       "        vertical-align: middle;\n",
       "    }\n",
       "\n",
       "    .dataframe tbody tr th {\n",
       "        vertical-align: top;\n",
       "    }\n",
       "\n",
       "    .dataframe thead th {\n",
       "        text-align: right;\n",
       "    }\n",
       "</style>\n",
       "<table border=\"1\" class=\"dataframe\">\n",
       "  <thead>\n",
       "    <tr style=\"text-align: right;\">\n",
       "      <th></th>\n",
       "      <th>game_date</th>\n",
       "      <th>Home Team</th>\n",
       "      <th>Away Team</th>\n",
       "      <th>Period</th>\n",
       "      <th>Home Team Skaters</th>\n",
       "      <th>Away Team Skaters</th>\n",
       "      <th>Team</th>\n",
       "      <th>Player</th>\n",
       "      <th>Event</th>\n",
       "      <th>X Coordinate</th>\n",
       "      <th>Y Coordinate</th>\n",
       "      <th>Detail 1</th>\n",
       "      <th>Detail 2</th>\n",
       "      <th>Detail 3</th>\n",
       "      <th>Detail 4</th>\n",
       "      <th>Player 2</th>\n",
       "    </tr>\n",
       "  </thead>\n",
       "  <tbody>\n",
       "    <tr>\n",
       "      <th>0</th>\n",
       "      <td>2018-02-11</td>\n",
       "      <td>Olympic (Women) - Canada</td>\n",
       "      <td>Olympic (Women) - Olympic Athletes from Russia</td>\n",
       "      <td>1</td>\n",
       "      <td>5</td>\n",
       "      <td>5</td>\n",
       "      <td>Canada</td>\n",
       "      <td>Emily Clark</td>\n",
       "      <td>Faceoff Win</td>\n",
       "      <td>100</td>\n",
       "      <td>42</td>\n",
       "      <td>Backhand</td>\n",
       "      <td>NaN</td>\n",
       "      <td>NaN</td>\n",
       "      <td>NaN</td>\n",
       "      <td>Lyudmila Belyakova</td>\n",
       "    </tr>\n",
       "    <tr>\n",
       "      <th>16</th>\n",
       "      <td>2018-02-11</td>\n",
       "      <td>Olympic (Women) - Canada</td>\n",
       "      <td>Olympic (Women) - Olympic Athletes from Russia</td>\n",
       "      <td>1</td>\n",
       "      <td>5</td>\n",
       "      <td>5</td>\n",
       "      <td>Canada</td>\n",
       "      <td>Marie-Philip Poulin</td>\n",
       "      <td>Faceoff Win</td>\n",
       "      <td>80</td>\n",
       "      <td>20</td>\n",
       "      <td>Backhand</td>\n",
       "      <td>NaN</td>\n",
       "      <td>NaN</td>\n",
       "      <td>NaN</td>\n",
       "      <td>Yelena Dergachyova</td>\n",
       "    </tr>\n",
       "    <tr>\n",
       "      <th>38</th>\n",
       "      <td>2018-02-11</td>\n",
       "      <td>Olympic (Women) - Canada</td>\n",
       "      <td>Olympic (Women) - Olympic Athletes from Russia</td>\n",
       "      <td>1</td>\n",
       "      <td>5</td>\n",
       "      <td>4</td>\n",
       "      <td>Russia</td>\n",
       "      <td>Olga Sosina</td>\n",
       "      <td>Faceoff Win</td>\n",
       "      <td>31</td>\n",
       "      <td>65</td>\n",
       "      <td>Backhand</td>\n",
       "      <td>NaN</td>\n",
       "      <td>NaN</td>\n",
       "      <td>NaN</td>\n",
       "      <td>Melodie Daoust</td>\n",
       "    </tr>\n",
       "    <tr>\n",
       "      <th>55</th>\n",
       "      <td>2018-02-11</td>\n",
       "      <td>Olympic (Women) - Canada</td>\n",
       "      <td>Olympic (Women) - Olympic Athletes from Russia</td>\n",
       "      <td>1</td>\n",
       "      <td>5</td>\n",
       "      <td>4</td>\n",
       "      <td>Canada</td>\n",
       "      <td>Brianne Jenner</td>\n",
       "      <td>Faceoff Win</td>\n",
       "      <td>169</td>\n",
       "      <td>64</td>\n",
       "      <td>Backhand</td>\n",
       "      <td>NaN</td>\n",
       "      <td>NaN</td>\n",
       "      <td>NaN</td>\n",
       "      <td>Yevgenia Dyupina</td>\n",
       "    </tr>\n",
       "    <tr>\n",
       "      <th>112</th>\n",
       "      <td>2018-02-11</td>\n",
       "      <td>Olympic (Women) - Canada</td>\n",
       "      <td>Olympic (Women) - Olympic Athletes from Russia</td>\n",
       "      <td>1</td>\n",
       "      <td>5</td>\n",
       "      <td>5</td>\n",
       "      <td>Russia</td>\n",
       "      <td>Yevgenia Dyupina</td>\n",
       "      <td>Faceoff Win</td>\n",
       "      <td>169</td>\n",
       "      <td>21</td>\n",
       "      <td>Backhand</td>\n",
       "      <td>NaN</td>\n",
       "      <td>NaN</td>\n",
       "      <td>NaN</td>\n",
       "      <td>Blayre Turnbull</td>\n",
       "    </tr>\n",
       "  </tbody>\n",
       "</table>\n",
       "</div>"
      ],
      "text/plain": [
       "     game_date                 Home Team  \\\n",
       "0   2018-02-11  Olympic (Women) - Canada   \n",
       "16  2018-02-11  Olympic (Women) - Canada   \n",
       "38  2018-02-11  Olympic (Women) - Canada   \n",
       "55  2018-02-11  Olympic (Women) - Canada   \n",
       "112 2018-02-11  Olympic (Women) - Canada   \n",
       "\n",
       "                                          Away Team  Period  \\\n",
       "0    Olympic (Women) - Olympic Athletes from Russia       1   \n",
       "16   Olympic (Women) - Olympic Athletes from Russia       1   \n",
       "38   Olympic (Women) - Olympic Athletes from Russia       1   \n",
       "55   Olympic (Women) - Olympic Athletes from Russia       1   \n",
       "112  Olympic (Women) - Olympic Athletes from Russia       1   \n",
       "\n",
       "     Home Team Skaters  Away Team Skaters    Team               Player  \\\n",
       "0                    5                  5  Canada          Emily Clark   \n",
       "16                   5                  5  Canada  Marie-Philip Poulin   \n",
       "38                   5                  4  Russia          Olga Sosina   \n",
       "55                   5                  4  Canada       Brianne Jenner   \n",
       "112                  5                  5  Russia     Yevgenia Dyupina   \n",
       "\n",
       "           Event  X Coordinate  Y Coordinate  Detail 1 Detail 2 Detail 3  \\\n",
       "0    Faceoff Win           100            42  Backhand      NaN      NaN   \n",
       "16   Faceoff Win            80            20  Backhand      NaN      NaN   \n",
       "38   Faceoff Win            31            65  Backhand      NaN      NaN   \n",
       "55   Faceoff Win           169            64  Backhand      NaN      NaN   \n",
       "112  Faceoff Win           169            21  Backhand      NaN      NaN   \n",
       "\n",
       "    Detail 4            Player 2  \n",
       "0        NaN  Lyudmila Belyakova  \n",
       "16       NaN  Yelena Dergachyova  \n",
       "38       NaN      Melodie Daoust  \n",
       "55       NaN    Yevgenia Dyupina  \n",
       "112      NaN     Blayre Turnbull  "
      ]
     },
     "execution_count": 4,
     "metadata": {},
     "output_type": "execute_result"
    }
   ],
   "source": [
    "faceoff_df = df[df[\"Event\"].str.contains(\"Faceoff\")]\n",
    "faceoff_df.head()\n",
    "\n"
   ]
  },
  {
   "cell_type": "code",
   "execution_count": 5,
   "metadata": {},
   "outputs": [
    {
     "data": {
      "text/html": [
       "<div>\n",
       "<style scoped>\n",
       "    .dataframe tbody tr th:only-of-type {\n",
       "        vertical-align: middle;\n",
       "    }\n",
       "\n",
       "    .dataframe tbody tr th {\n",
       "        vertical-align: top;\n",
       "    }\n",
       "\n",
       "    .dataframe thead th {\n",
       "        text-align: right;\n",
       "    }\n",
       "</style>\n",
       "<table border=\"1\" class=\"dataframe\">\n",
       "  <thead>\n",
       "    <tr style=\"text-align: right;\">\n",
       "      <th></th>\n",
       "      <th>game_date</th>\n",
       "      <th>Home Team</th>\n",
       "      <th>Away Team</th>\n",
       "      <th>Period</th>\n",
       "      <th>Home Team Skaters</th>\n",
       "      <th>Away Team Skaters</th>\n",
       "      <th>Team</th>\n",
       "      <th>Player</th>\n",
       "      <th>Event</th>\n",
       "      <th>X Coordinate</th>\n",
       "      <th>Y Coordinate</th>\n",
       "      <th>Detail 1</th>\n",
       "      <th>Player 2</th>\n",
       "    </tr>\n",
       "  </thead>\n",
       "  <tbody>\n",
       "    <tr>\n",
       "      <th>0</th>\n",
       "      <td>2018-02-11</td>\n",
       "      <td>Olympic (Women) - Canada</td>\n",
       "      <td>Olympic (Women) - Olympic Athletes from Russia</td>\n",
       "      <td>1</td>\n",
       "      <td>5</td>\n",
       "      <td>5</td>\n",
       "      <td>Canada</td>\n",
       "      <td>Emily Clark</td>\n",
       "      <td>Faceoff Win</td>\n",
       "      <td>100</td>\n",
       "      <td>42</td>\n",
       "      <td>Backhand</td>\n",
       "      <td>Lyudmila Belyakova</td>\n",
       "    </tr>\n",
       "    <tr>\n",
       "      <th>16</th>\n",
       "      <td>2018-02-11</td>\n",
       "      <td>Olympic (Women) - Canada</td>\n",
       "      <td>Olympic (Women) - Olympic Athletes from Russia</td>\n",
       "      <td>1</td>\n",
       "      <td>5</td>\n",
       "      <td>5</td>\n",
       "      <td>Canada</td>\n",
       "      <td>Marie-Philip Poulin</td>\n",
       "      <td>Faceoff Win</td>\n",
       "      <td>80</td>\n",
       "      <td>20</td>\n",
       "      <td>Backhand</td>\n",
       "      <td>Yelena Dergachyova</td>\n",
       "    </tr>\n",
       "    <tr>\n",
       "      <th>38</th>\n",
       "      <td>2018-02-11</td>\n",
       "      <td>Olympic (Women) - Canada</td>\n",
       "      <td>Olympic (Women) - Olympic Athletes from Russia</td>\n",
       "      <td>1</td>\n",
       "      <td>5</td>\n",
       "      <td>4</td>\n",
       "      <td>Russia</td>\n",
       "      <td>Olga Sosina</td>\n",
       "      <td>Faceoff Win</td>\n",
       "      <td>31</td>\n",
       "      <td>65</td>\n",
       "      <td>Backhand</td>\n",
       "      <td>Melodie Daoust</td>\n",
       "    </tr>\n",
       "    <tr>\n",
       "      <th>55</th>\n",
       "      <td>2018-02-11</td>\n",
       "      <td>Olympic (Women) - Canada</td>\n",
       "      <td>Olympic (Women) - Olympic Athletes from Russia</td>\n",
       "      <td>1</td>\n",
       "      <td>5</td>\n",
       "      <td>4</td>\n",
       "      <td>Canada</td>\n",
       "      <td>Brianne Jenner</td>\n",
       "      <td>Faceoff Win</td>\n",
       "      <td>169</td>\n",
       "      <td>64</td>\n",
       "      <td>Backhand</td>\n",
       "      <td>Yevgenia Dyupina</td>\n",
       "    </tr>\n",
       "    <tr>\n",
       "      <th>112</th>\n",
       "      <td>2018-02-11</td>\n",
       "      <td>Olympic (Women) - Canada</td>\n",
       "      <td>Olympic (Women) - Olympic Athletes from Russia</td>\n",
       "      <td>1</td>\n",
       "      <td>5</td>\n",
       "      <td>5</td>\n",
       "      <td>Russia</td>\n",
       "      <td>Yevgenia Dyupina</td>\n",
       "      <td>Faceoff Win</td>\n",
       "      <td>169</td>\n",
       "      <td>21</td>\n",
       "      <td>Backhand</td>\n",
       "      <td>Blayre Turnbull</td>\n",
       "    </tr>\n",
       "  </tbody>\n",
       "</table>\n",
       "</div>"
      ],
      "text/plain": [
       "     game_date                 Home Team  \\\n",
       "0   2018-02-11  Olympic (Women) - Canada   \n",
       "16  2018-02-11  Olympic (Women) - Canada   \n",
       "38  2018-02-11  Olympic (Women) - Canada   \n",
       "55  2018-02-11  Olympic (Women) - Canada   \n",
       "112 2018-02-11  Olympic (Women) - Canada   \n",
       "\n",
       "                                          Away Team  Period  \\\n",
       "0    Olympic (Women) - Olympic Athletes from Russia       1   \n",
       "16   Olympic (Women) - Olympic Athletes from Russia       1   \n",
       "38   Olympic (Women) - Olympic Athletes from Russia       1   \n",
       "55   Olympic (Women) - Olympic Athletes from Russia       1   \n",
       "112  Olympic (Women) - Olympic Athletes from Russia       1   \n",
       "\n",
       "     Home Team Skaters  Away Team Skaters    Team               Player  \\\n",
       "0                    5                  5  Canada          Emily Clark   \n",
       "16                   5                  5  Canada  Marie-Philip Poulin   \n",
       "38                   5                  4  Russia          Olga Sosina   \n",
       "55                   5                  4  Canada       Brianne Jenner   \n",
       "112                  5                  5  Russia     Yevgenia Dyupina   \n",
       "\n",
       "           Event  X Coordinate  Y Coordinate  Detail 1            Player 2  \n",
       "0    Faceoff Win           100            42  Backhand  Lyudmila Belyakova  \n",
       "16   Faceoff Win            80            20  Backhand  Yelena Dergachyova  \n",
       "38   Faceoff Win            31            65  Backhand      Melodie Daoust  \n",
       "55   Faceoff Win           169            64  Backhand    Yevgenia Dyupina  \n",
       "112  Faceoff Win           169            21  Backhand     Blayre Turnbull  "
      ]
     },
     "execution_count": 5,
     "metadata": {},
     "output_type": "execute_result"
    }
   ],
   "source": [
    "faceoff_df = faceoff_df.drop([\"Detail 2\", \"Detail 3\", \"Detail 4\"], axis=1)\n",
    "faceoff_df.head()"
   ]
  },
  {
   "cell_type": "code",
   "execution_count": 6,
   "metadata": {},
   "outputs": [],
   "source": [
    "def rink_area(x):\n",
    "    if 0 <= x < 75:\n",
    "        return \"Defensive Zone\"\n",
    "    elif 75 <= x <= 125:\n",
    "        return \"Neutral Zone\"\n",
    "    else: \n",
    "        return \"Offensive Zone\""
   ]
  },
  {
   "cell_type": "code",
   "execution_count": 7,
   "metadata": {},
   "outputs": [
    {
     "data": {
      "text/html": [
       "<div>\n",
       "<style scoped>\n",
       "    .dataframe tbody tr th:only-of-type {\n",
       "        vertical-align: middle;\n",
       "    }\n",
       "\n",
       "    .dataframe tbody tr th {\n",
       "        vertical-align: top;\n",
       "    }\n",
       "\n",
       "    .dataframe thead th {\n",
       "        text-align: right;\n",
       "    }\n",
       "</style>\n",
       "<table border=\"1\" class=\"dataframe\">\n",
       "  <thead>\n",
       "    <tr style=\"text-align: right;\">\n",
       "      <th></th>\n",
       "      <th>game_date</th>\n",
       "      <th>Home Team</th>\n",
       "      <th>Away Team</th>\n",
       "      <th>Period</th>\n",
       "      <th>Home Team Skaters</th>\n",
       "      <th>Away Team Skaters</th>\n",
       "      <th>Team</th>\n",
       "      <th>Player</th>\n",
       "      <th>Event</th>\n",
       "      <th>X Coordinate</th>\n",
       "      <th>Y Coordinate</th>\n",
       "      <th>Detail 1</th>\n",
       "      <th>Player 2</th>\n",
       "      <th>Zone</th>\n",
       "    </tr>\n",
       "  </thead>\n",
       "  <tbody>\n",
       "    <tr>\n",
       "      <th>0</th>\n",
       "      <td>2018-02-11</td>\n",
       "      <td>Olympic (Women) - Canada</td>\n",
       "      <td>Olympic (Women) - Olympic Athletes from Russia</td>\n",
       "      <td>1</td>\n",
       "      <td>5</td>\n",
       "      <td>5</td>\n",
       "      <td>Canada</td>\n",
       "      <td>Emily Clark</td>\n",
       "      <td>Faceoff Win</td>\n",
       "      <td>100</td>\n",
       "      <td>42</td>\n",
       "      <td>Backhand</td>\n",
       "      <td>Lyudmila Belyakova</td>\n",
       "      <td>Neutral Zone</td>\n",
       "    </tr>\n",
       "    <tr>\n",
       "      <th>16</th>\n",
       "      <td>2018-02-11</td>\n",
       "      <td>Olympic (Women) - Canada</td>\n",
       "      <td>Olympic (Women) - Olympic Athletes from Russia</td>\n",
       "      <td>1</td>\n",
       "      <td>5</td>\n",
       "      <td>5</td>\n",
       "      <td>Canada</td>\n",
       "      <td>Marie-Philip Poulin</td>\n",
       "      <td>Faceoff Win</td>\n",
       "      <td>80</td>\n",
       "      <td>20</td>\n",
       "      <td>Backhand</td>\n",
       "      <td>Yelena Dergachyova</td>\n",
       "      <td>Neutral Zone</td>\n",
       "    </tr>\n",
       "    <tr>\n",
       "      <th>38</th>\n",
       "      <td>2018-02-11</td>\n",
       "      <td>Olympic (Women) - Canada</td>\n",
       "      <td>Olympic (Women) - Olympic Athletes from Russia</td>\n",
       "      <td>1</td>\n",
       "      <td>5</td>\n",
       "      <td>4</td>\n",
       "      <td>Russia</td>\n",
       "      <td>Olga Sosina</td>\n",
       "      <td>Faceoff Win</td>\n",
       "      <td>31</td>\n",
       "      <td>65</td>\n",
       "      <td>Backhand</td>\n",
       "      <td>Melodie Daoust</td>\n",
       "      <td>Defensive Zone</td>\n",
       "    </tr>\n",
       "    <tr>\n",
       "      <th>55</th>\n",
       "      <td>2018-02-11</td>\n",
       "      <td>Olympic (Women) - Canada</td>\n",
       "      <td>Olympic (Women) - Olympic Athletes from Russia</td>\n",
       "      <td>1</td>\n",
       "      <td>5</td>\n",
       "      <td>4</td>\n",
       "      <td>Canada</td>\n",
       "      <td>Brianne Jenner</td>\n",
       "      <td>Faceoff Win</td>\n",
       "      <td>169</td>\n",
       "      <td>64</td>\n",
       "      <td>Backhand</td>\n",
       "      <td>Yevgenia Dyupina</td>\n",
       "      <td>Offensive Zone</td>\n",
       "    </tr>\n",
       "    <tr>\n",
       "      <th>112</th>\n",
       "      <td>2018-02-11</td>\n",
       "      <td>Olympic (Women) - Canada</td>\n",
       "      <td>Olympic (Women) - Olympic Athletes from Russia</td>\n",
       "      <td>1</td>\n",
       "      <td>5</td>\n",
       "      <td>5</td>\n",
       "      <td>Russia</td>\n",
       "      <td>Yevgenia Dyupina</td>\n",
       "      <td>Faceoff Win</td>\n",
       "      <td>169</td>\n",
       "      <td>21</td>\n",
       "      <td>Backhand</td>\n",
       "      <td>Blayre Turnbull</td>\n",
       "      <td>Offensive Zone</td>\n",
       "    </tr>\n",
       "  </tbody>\n",
       "</table>\n",
       "</div>"
      ],
      "text/plain": [
       "     game_date                 Home Team  \\\n",
       "0   2018-02-11  Olympic (Women) - Canada   \n",
       "16  2018-02-11  Olympic (Women) - Canada   \n",
       "38  2018-02-11  Olympic (Women) - Canada   \n",
       "55  2018-02-11  Olympic (Women) - Canada   \n",
       "112 2018-02-11  Olympic (Women) - Canada   \n",
       "\n",
       "                                          Away Team  Period  \\\n",
       "0    Olympic (Women) - Olympic Athletes from Russia       1   \n",
       "16   Olympic (Women) - Olympic Athletes from Russia       1   \n",
       "38   Olympic (Women) - Olympic Athletes from Russia       1   \n",
       "55   Olympic (Women) - Olympic Athletes from Russia       1   \n",
       "112  Olympic (Women) - Olympic Athletes from Russia       1   \n",
       "\n",
       "     Home Team Skaters  Away Team Skaters    Team               Player  \\\n",
       "0                    5                  5  Canada          Emily Clark   \n",
       "16                   5                  5  Canada  Marie-Philip Poulin   \n",
       "38                   5                  4  Russia          Olga Sosina   \n",
       "55                   5                  4  Canada       Brianne Jenner   \n",
       "112                  5                  5  Russia     Yevgenia Dyupina   \n",
       "\n",
       "           Event  X Coordinate  Y Coordinate  Detail 1            Player 2  \\\n",
       "0    Faceoff Win           100            42  Backhand  Lyudmila Belyakova   \n",
       "16   Faceoff Win            80            20  Backhand  Yelena Dergachyova   \n",
       "38   Faceoff Win            31            65  Backhand      Melodie Daoust   \n",
       "55   Faceoff Win           169            64  Backhand    Yevgenia Dyupina   \n",
       "112  Faceoff Win           169            21  Backhand     Blayre Turnbull   \n",
       "\n",
       "               Zone  \n",
       "0      Neutral Zone  \n",
       "16     Neutral Zone  \n",
       "38   Defensive Zone  \n",
       "55   Offensive Zone  \n",
       "112  Offensive Zone  "
      ]
     },
     "execution_count": 7,
     "metadata": {},
     "output_type": "execute_result"
    }
   ],
   "source": [
    "faceoff_df[\"Zone\"] = faceoff_df.apply(lambda x: rink_area(x[\"X Coordinate\"]), axis = 1)\n",
    "\n",
    "faceoff_df.head()"
   ]
  },
  {
   "cell_type": "code",
   "execution_count": 8,
   "metadata": {},
   "outputs": [],
   "source": [
    "def situation(home_team, home_team_skaters, away_team_skaters, team):\n",
    "    if team == home_team:\n",
    "        if home_team_skaters < 5 and away_team_skaters == 5:\n",
    "            return \"PK\"\n",
    "        elif home_team_skaters == 5 and away_team_skaters < 5:\n",
    "            return \"PP\"\n",
    "        elif (home_team_skaters > 5 and away_team_skaters <= 5) or (away_team_skaters > 5 and home_team_skaters <= 5):\n",
    "            return \"Empty Net\"\n",
    "        else:\n",
    "            return \"Even Strength\"\n",
    "    else:\n",
    "        if home_team_skaters < 5 and away_team_skaters == 5:\n",
    "            return \"PP\"\n",
    "        elif home_team_skaters == 5 and away_team_skaters < 5:\n",
    "            return \"PK\"\n",
    "        elif (home_team_skaters > 5 and away_team_skaters <= 5) or (away_team_skaters > 5 and home_team_skaters <= 5):\n",
    "            return \"Empty Net\"\n",
    "        else:\n",
    "            return \"Even Strength\"\n"
   ]
  },
  {
   "cell_type": "code",
   "execution_count": 9,
   "metadata": {},
   "outputs": [
    {
     "data": {
      "text/html": [
       "<div>\n",
       "<style scoped>\n",
       "    .dataframe tbody tr th:only-of-type {\n",
       "        vertical-align: middle;\n",
       "    }\n",
       "\n",
       "    .dataframe tbody tr th {\n",
       "        vertical-align: top;\n",
       "    }\n",
       "\n",
       "    .dataframe thead th {\n",
       "        text-align: right;\n",
       "    }\n",
       "</style>\n",
       "<table border=\"1\" class=\"dataframe\">\n",
       "  <thead>\n",
       "    <tr style=\"text-align: right;\">\n",
       "      <th></th>\n",
       "      <th>game_date</th>\n",
       "      <th>Home Team</th>\n",
       "      <th>Away Team</th>\n",
       "      <th>Period</th>\n",
       "      <th>Home Team Skaters</th>\n",
       "      <th>Away Team Skaters</th>\n",
       "      <th>Team</th>\n",
       "      <th>Player</th>\n",
       "      <th>Event</th>\n",
       "      <th>X Coordinate</th>\n",
       "      <th>Y Coordinate</th>\n",
       "      <th>Detail 1</th>\n",
       "      <th>Player 2</th>\n",
       "      <th>Zone</th>\n",
       "      <th>Game Situation</th>\n",
       "    </tr>\n",
       "  </thead>\n",
       "  <tbody>\n",
       "    <tr>\n",
       "      <th>0</th>\n",
       "      <td>2018-02-11</td>\n",
       "      <td>Olympic (Women) - Canada</td>\n",
       "      <td>Olympic (Women) - Olympic Athletes from Russia</td>\n",
       "      <td>1</td>\n",
       "      <td>5</td>\n",
       "      <td>5</td>\n",
       "      <td>Canada</td>\n",
       "      <td>Emily Clark</td>\n",
       "      <td>Faceoff Win</td>\n",
       "      <td>100</td>\n",
       "      <td>42</td>\n",
       "      <td>Backhand</td>\n",
       "      <td>Lyudmila Belyakova</td>\n",
       "      <td>Neutral Zone</td>\n",
       "      <td>Even Strength</td>\n",
       "    </tr>\n",
       "    <tr>\n",
       "      <th>16</th>\n",
       "      <td>2018-02-11</td>\n",
       "      <td>Olympic (Women) - Canada</td>\n",
       "      <td>Olympic (Women) - Olympic Athletes from Russia</td>\n",
       "      <td>1</td>\n",
       "      <td>5</td>\n",
       "      <td>5</td>\n",
       "      <td>Canada</td>\n",
       "      <td>Marie-Philip Poulin</td>\n",
       "      <td>Faceoff Win</td>\n",
       "      <td>80</td>\n",
       "      <td>20</td>\n",
       "      <td>Backhand</td>\n",
       "      <td>Yelena Dergachyova</td>\n",
       "      <td>Neutral Zone</td>\n",
       "      <td>Even Strength</td>\n",
       "    </tr>\n",
       "    <tr>\n",
       "      <th>38</th>\n",
       "      <td>2018-02-11</td>\n",
       "      <td>Olympic (Women) - Canada</td>\n",
       "      <td>Olympic (Women) - Olympic Athletes from Russia</td>\n",
       "      <td>1</td>\n",
       "      <td>5</td>\n",
       "      <td>4</td>\n",
       "      <td>Russia</td>\n",
       "      <td>Olga Sosina</td>\n",
       "      <td>Faceoff Win</td>\n",
       "      <td>31</td>\n",
       "      <td>65</td>\n",
       "      <td>Backhand</td>\n",
       "      <td>Melodie Daoust</td>\n",
       "      <td>Defensive Zone</td>\n",
       "      <td>PK</td>\n",
       "    </tr>\n",
       "    <tr>\n",
       "      <th>55</th>\n",
       "      <td>2018-02-11</td>\n",
       "      <td>Olympic (Women) - Canada</td>\n",
       "      <td>Olympic (Women) - Olympic Athletes from Russia</td>\n",
       "      <td>1</td>\n",
       "      <td>5</td>\n",
       "      <td>4</td>\n",
       "      <td>Canada</td>\n",
       "      <td>Brianne Jenner</td>\n",
       "      <td>Faceoff Win</td>\n",
       "      <td>169</td>\n",
       "      <td>64</td>\n",
       "      <td>Backhand</td>\n",
       "      <td>Yevgenia Dyupina</td>\n",
       "      <td>Offensive Zone</td>\n",
       "      <td>PK</td>\n",
       "    </tr>\n",
       "    <tr>\n",
       "      <th>112</th>\n",
       "      <td>2018-02-11</td>\n",
       "      <td>Olympic (Women) - Canada</td>\n",
       "      <td>Olympic (Women) - Olympic Athletes from Russia</td>\n",
       "      <td>1</td>\n",
       "      <td>5</td>\n",
       "      <td>5</td>\n",
       "      <td>Russia</td>\n",
       "      <td>Yevgenia Dyupina</td>\n",
       "      <td>Faceoff Win</td>\n",
       "      <td>169</td>\n",
       "      <td>21</td>\n",
       "      <td>Backhand</td>\n",
       "      <td>Blayre Turnbull</td>\n",
       "      <td>Offensive Zone</td>\n",
       "      <td>Even Strength</td>\n",
       "    </tr>\n",
       "  </tbody>\n",
       "</table>\n",
       "</div>"
      ],
      "text/plain": [
       "     game_date                 Home Team  \\\n",
       "0   2018-02-11  Olympic (Women) - Canada   \n",
       "16  2018-02-11  Olympic (Women) - Canada   \n",
       "38  2018-02-11  Olympic (Women) - Canada   \n",
       "55  2018-02-11  Olympic (Women) - Canada   \n",
       "112 2018-02-11  Olympic (Women) - Canada   \n",
       "\n",
       "                                          Away Team  Period  \\\n",
       "0    Olympic (Women) - Olympic Athletes from Russia       1   \n",
       "16   Olympic (Women) - Olympic Athletes from Russia       1   \n",
       "38   Olympic (Women) - Olympic Athletes from Russia       1   \n",
       "55   Olympic (Women) - Olympic Athletes from Russia       1   \n",
       "112  Olympic (Women) - Olympic Athletes from Russia       1   \n",
       "\n",
       "     Home Team Skaters  Away Team Skaters    Team               Player  \\\n",
       "0                    5                  5  Canada          Emily Clark   \n",
       "16                   5                  5  Canada  Marie-Philip Poulin   \n",
       "38                   5                  4  Russia          Olga Sosina   \n",
       "55                   5                  4  Canada       Brianne Jenner   \n",
       "112                  5                  5  Russia     Yevgenia Dyupina   \n",
       "\n",
       "           Event  X Coordinate  Y Coordinate  Detail 1            Player 2  \\\n",
       "0    Faceoff Win           100            42  Backhand  Lyudmila Belyakova   \n",
       "16   Faceoff Win            80            20  Backhand  Yelena Dergachyova   \n",
       "38   Faceoff Win            31            65  Backhand      Melodie Daoust   \n",
       "55   Faceoff Win           169            64  Backhand    Yevgenia Dyupina   \n",
       "112  Faceoff Win           169            21  Backhand     Blayre Turnbull   \n",
       "\n",
       "               Zone Game Situation  \n",
       "0      Neutral Zone  Even Strength  \n",
       "16     Neutral Zone  Even Strength  \n",
       "38   Defensive Zone             PK  \n",
       "55   Offensive Zone             PK  \n",
       "112  Offensive Zone  Even Strength  "
      ]
     },
     "execution_count": 9,
     "metadata": {},
     "output_type": "execute_result"
    }
   ],
   "source": [
    "faceoff_df[\"Game Situation\"] = faceoff_df.apply(lambda x: situation(x[\"Home Team\"], x[\"Home Team Skaters\"], x[\"Away Team Skaters\"], x[\"Team\"]), axis = 1)\n",
    "\n",
    "faceoff_df.head()"
   ]
  },
  {
   "cell_type": "code",
   "execution_count": 10,
   "metadata": {},
   "outputs": [
    {
     "data": {
      "text/html": [
       "<div>\n",
       "<style scoped>\n",
       "    .dataframe tbody tr th:only-of-type {\n",
       "        vertical-align: middle;\n",
       "    }\n",
       "\n",
       "    .dataframe tbody tr th {\n",
       "        vertical-align: top;\n",
       "    }\n",
       "\n",
       "    .dataframe thead th {\n",
       "        text-align: right;\n",
       "    }\n",
       "</style>\n",
       "<table border=\"1\" class=\"dataframe\">\n",
       "  <thead>\n",
       "    <tr style=\"text-align: right;\">\n",
       "      <th></th>\n",
       "      <th>game_date</th>\n",
       "      <th>Team</th>\n",
       "      <th>Zone</th>\n",
       "      <th>Period</th>\n",
       "      <th>Count</th>\n",
       "    </tr>\n",
       "  </thead>\n",
       "  <tbody>\n",
       "    <tr>\n",
       "      <th>0</th>\n",
       "      <td>2018-02-11</td>\n",
       "      <td>Canada</td>\n",
       "      <td>Defensive Zone</td>\n",
       "      <td>1</td>\n",
       "      <td>2</td>\n",
       "    </tr>\n",
       "    <tr>\n",
       "      <th>1</th>\n",
       "      <td>2018-02-11</td>\n",
       "      <td>Canada</td>\n",
       "      <td>Defensive Zone</td>\n",
       "      <td>2</td>\n",
       "      <td>2</td>\n",
       "    </tr>\n",
       "    <tr>\n",
       "      <th>2</th>\n",
       "      <td>2018-02-11</td>\n",
       "      <td>Canada</td>\n",
       "      <td>Defensive Zone</td>\n",
       "      <td>3</td>\n",
       "      <td>4</td>\n",
       "    </tr>\n",
       "    <tr>\n",
       "      <th>3</th>\n",
       "      <td>2018-02-11</td>\n",
       "      <td>Canada</td>\n",
       "      <td>Neutral Zone</td>\n",
       "      <td>1</td>\n",
       "      <td>6</td>\n",
       "    </tr>\n",
       "    <tr>\n",
       "      <th>4</th>\n",
       "      <td>2018-02-11</td>\n",
       "      <td>Canada</td>\n",
       "      <td>Neutral Zone</td>\n",
       "      <td>2</td>\n",
       "      <td>7</td>\n",
       "    </tr>\n",
       "  </tbody>\n",
       "</table>\n",
       "</div>"
      ],
      "text/plain": [
       "   game_date    Team            Zone  Period  Count\n",
       "0 2018-02-11  Canada  Defensive Zone       1      2\n",
       "1 2018-02-11  Canada  Defensive Zone       2      2\n",
       "2 2018-02-11  Canada  Defensive Zone       3      4\n",
       "3 2018-02-11  Canada    Neutral Zone       1      6\n",
       "4 2018-02-11  Canada    Neutral Zone       2      7"
      ]
     },
     "execution_count": 10,
     "metadata": {},
     "output_type": "execute_result"
    }
   ],
   "source": [
    "faceoff_period_zone_counts = faceoff_df.groupby([\"game_date\",\"Team\", \"Zone\", \"Period\"]).size().reset_index(name=\"Count\")\n",
    "\n",
    "faceoff_period_zone_counts.head()"
   ]
  },
  {
   "cell_type": "code",
   "execution_count": 11,
   "metadata": {},
   "outputs": [
    {
     "name": "stdout",
     "output_type": "stream",
     "text": [
      "3    211\n",
      "Name: Count, dtype: int64\n"
     ]
    }
   ],
   "source": [
    "faceoff_counts = faceoff_df.groupby([\"Team\"]).size().reset_index(name=\"Count\")\n",
    "\n",
    "faceoff_counts.head()\n",
    "\n",
    "boston_faceoff_counts = faceoff_counts[faceoff_counts['Team'].str.contains(\"USA\")]['Count']\n",
    "boston_faceoff_counts\n",
    "\n",
    "counts = boston_faceoff_counts\n",
    "print(counts)"
   ]
  },
  {
   "cell_type": "code",
   "execution_count": 12,
   "metadata": {},
   "outputs": [
    {
     "data": {
      "text/plain": [
       "211"
      ]
     },
     "execution_count": 12,
     "metadata": {},
     "output_type": "execute_result"
    }
   ],
   "source": [
    "faceoff_counts = faceoff_df.groupby([\"Team\"]).size().reset_index(name=\"Count\")\n",
    "selected_team = 'USA'\n",
    "    #team_faceoff_counts = faceoff_counts[faceoff_counts['Team'].str.contains(\"Boston\")]['Count']\n",
    "row = faceoff_counts.loc[faceoff_counts['Team'] == selected_team, 'Count']\n",
    "team_faceoff_counts = int(row.iloc[0]) if not row.empty else 0\n",
    "\n",
    "team_faceoff_counts"
   ]
  },
  {
   "cell_type": "code",
   "execution_count": 34,
   "metadata": {},
   "outputs": [],
   "source": [
    "faceoff_df = df[df[\"Event\"].str.contains(\"Faceoff\")]\n",
    "num_of_games = faceoff_df.groupby([\"Team\", \"game_date\"]).size().reset_index(name=\"Count\")\n",
    "faceoff_counts = faceoff_df.groupby([\"Team\"]).size().reset_index(name=\"Count\")\n",
    "team_faceoff_counts_total = faceoff_counts[faceoff_counts['Team'].str.contains(selected_team)]['Count']\n",
    "#team_faceoff_counts = team_faceoff_counts_total[0]\n",
    "faceoff_row = faceoff_counts.loc[faceoff_counts['Team'] == selected_team, 'Count']\n",
    "    #team_faceoff_counts = int(faceoff_row.iloc[0])\n",
    "if faceoff_row.empty:\n",
    "    team_faceoff_counts = 0\n",
    "else:\n",
    "    team_faceoff_counts = int(faceoff_row.iloc[0])"
   ]
  },
  {
   "cell_type": "code",
   "execution_count": 14,
   "metadata": {},
   "outputs": [
    {
     "data": {
      "text/plain": [
       "<DatetimeArray>\n",
       "['2018-02-11 00:00:00', '2018-02-13 00:00:00', '2018-02-14 00:00:00',\n",
       " '2018-02-19 00:00:00', '2018-02-21 00:00:00', '2019-02-12 00:00:00',\n",
       " '2019-02-14 00:00:00', '2019-02-17 00:00:00', '2019-04-06 00:00:00',\n",
       " '2019-04-13 00:00:00', '2019-04-14 00:00:00']\n",
       "Length: 11, dtype: datetime64[ns]"
      ]
     },
     "execution_count": 14,
     "metadata": {},
     "output_type": "execute_result"
    }
   ],
   "source": [
    "num_of_games\n",
    "unique_games = num_of_games[\"game_date\"].unique()\n",
    "unique_games"
   ]
  },
  {
   "cell_type": "code",
   "execution_count": 15,
   "metadata": {},
   "outputs": [
    {
     "data": {
      "text/plain": [
       "'19.18'"
      ]
     },
     "execution_count": 15,
     "metadata": {},
     "output_type": "execute_result"
    }
   ],
   "source": [
    "avg_faceoff_wins = team_faceoff_counts / len(unique_games)\n",
    "formatted_avg_faceoff_wins = f\"{avg_faceoff_wins:.2f}\"\n",
    "formatted_avg_faceoff_wins"
   ]
  },
  {
   "cell_type": "code",
   "execution_count": null,
   "metadata": {},
   "outputs": [
    {
     "data": {
      "text/html": [
       "<div>\n",
       "<style scoped>\n",
       "    .dataframe tbody tr th:only-of-type {\n",
       "        vertical-align: middle;\n",
       "    }\n",
       "\n",
       "    .dataframe tbody tr th {\n",
       "        vertical-align: top;\n",
       "    }\n",
       "\n",
       "    .dataframe thead th {\n",
       "        text-align: right;\n",
       "    }\n",
       "</style>\n",
       "<table border=\"1\" class=\"dataframe\">\n",
       "  <thead>\n",
       "    <tr style=\"text-align: right;\">\n",
       "      <th></th>\n",
       "      <th>game_date</th>\n",
       "      <th>Team</th>\n",
       "      <th>Zone</th>\n",
       "      <th>Period</th>\n",
       "      <th>Count</th>\n",
       "    </tr>\n",
       "  </thead>\n",
       "  <tbody>\n",
       "    <tr>\n",
       "      <th>43</th>\n",
       "      <td>2018-02-14</td>\n",
       "      <td>USA</td>\n",
       "      <td>Defensive Zone</td>\n",
       "      <td>1</td>\n",
       "      <td>2</td>\n",
       "    </tr>\n",
       "    <tr>\n",
       "      <th>44</th>\n",
       "      <td>2018-02-14</td>\n",
       "      <td>USA</td>\n",
       "      <td>Defensive Zone</td>\n",
       "      <td>2</td>\n",
       "      <td>1</td>\n",
       "    </tr>\n",
       "    <tr>\n",
       "      <th>45</th>\n",
       "      <td>2018-02-14</td>\n",
       "      <td>USA</td>\n",
       "      <td>Defensive Zone</td>\n",
       "      <td>3</td>\n",
       "      <td>1</td>\n",
       "    </tr>\n",
       "    <tr>\n",
       "      <th>46</th>\n",
       "      <td>2018-02-14</td>\n",
       "      <td>USA</td>\n",
       "      <td>Neutral Zone</td>\n",
       "      <td>1</td>\n",
       "      <td>6</td>\n",
       "    </tr>\n",
       "    <tr>\n",
       "      <th>47</th>\n",
       "      <td>2018-02-14</td>\n",
       "      <td>USA</td>\n",
       "      <td>Neutral Zone</td>\n",
       "      <td>2</td>\n",
       "      <td>5</td>\n",
       "    </tr>\n",
       "  </tbody>\n",
       "</table>\n",
       "</div>"
      ],
      "text/plain": [
       "    game_date Team            Zone  Period  Count\n",
       "43 2018-02-14  USA  Defensive Zone       1      2\n",
       "44 2018-02-14  USA  Defensive Zone       2      1\n",
       "45 2018-02-14  USA  Defensive Zone       3      1\n",
       "46 2018-02-14  USA    Neutral Zone       1      6\n",
       "47 2018-02-14  USA    Neutral Zone       2      5"
      ]
     },
     "execution_count": 16,
     "metadata": {},
     "output_type": "execute_result"
    }
   ],
   "source": [
    "usa_counts = faceoff_period_zone_counts[faceoff_period_zone_counts[\"Team\"].str.contains(\"USA\")]\n",
    "usa_counts.head()"
   ]
  },
  {
   "cell_type": "code",
   "execution_count": 17,
   "metadata": {},
   "outputs": [
    {
     "data": {
      "text/html": [
       "<div>\n",
       "<style scoped>\n",
       "    .dataframe tbody tr th:only-of-type {\n",
       "        vertical-align: middle;\n",
       "    }\n",
       "\n",
       "    .dataframe tbody tr th {\n",
       "        vertical-align: top;\n",
       "    }\n",
       "\n",
       "    .dataframe thead th {\n",
       "        text-align: right;\n",
       "    }\n",
       "</style>\n",
       "<table border=\"1\" class=\"dataframe\">\n",
       "  <thead>\n",
       "    <tr style=\"text-align: right;\">\n",
       "      <th></th>\n",
       "      <th>game_date</th>\n",
       "      <th>Team</th>\n",
       "      <th>Zone</th>\n",
       "      <th>Period</th>\n",
       "      <th>Count</th>\n",
       "    </tr>\n",
       "  </thead>\n",
       "  <tbody>\n",
       "    <tr>\n",
       "      <th>9</th>\n",
       "      <td>2018-02-11</td>\n",
       "      <td>Russia</td>\n",
       "      <td>Defensive Zone</td>\n",
       "      <td>1</td>\n",
       "      <td>5</td>\n",
       "    </tr>\n",
       "    <tr>\n",
       "      <th>10</th>\n",
       "      <td>2018-02-11</td>\n",
       "      <td>Russia</td>\n",
       "      <td>Defensive Zone</td>\n",
       "      <td>2</td>\n",
       "      <td>2</td>\n",
       "    </tr>\n",
       "    <tr>\n",
       "      <th>11</th>\n",
       "      <td>2018-02-11</td>\n",
       "      <td>Russia</td>\n",
       "      <td>Neutral Zone</td>\n",
       "      <td>1</td>\n",
       "      <td>1</td>\n",
       "    </tr>\n",
       "    <tr>\n",
       "      <th>12</th>\n",
       "      <td>2018-02-11</td>\n",
       "      <td>Russia</td>\n",
       "      <td>Neutral Zone</td>\n",
       "      <td>2</td>\n",
       "      <td>2</td>\n",
       "    </tr>\n",
       "    <tr>\n",
       "      <th>13</th>\n",
       "      <td>2018-02-11</td>\n",
       "      <td>Russia</td>\n",
       "      <td>Neutral Zone</td>\n",
       "      <td>3</td>\n",
       "      <td>1</td>\n",
       "    </tr>\n",
       "  </tbody>\n",
       "</table>\n",
       "</div>"
      ],
      "text/plain": [
       "    game_date    Team            Zone  Period  Count\n",
       "9  2018-02-11  Russia  Defensive Zone       1      5\n",
       "10 2018-02-11  Russia  Defensive Zone       2      2\n",
       "11 2018-02-11  Russia    Neutral Zone       1      1\n",
       "12 2018-02-11  Russia    Neutral Zone       2      2\n",
       "13 2018-02-11  Russia    Neutral Zone       3      1"
      ]
     },
     "execution_count": 17,
     "metadata": {},
     "output_type": "execute_result"
    }
   ],
   "source": [
    "russia_counts = faceoff_period_zone_counts[faceoff_period_zone_counts[\"Team\"].str.contains(\"Russia\")]\n",
    "russia_counts.head()"
   ]
  },
  {
   "cell_type": "code",
   "execution_count": 18,
   "metadata": {},
   "outputs": [
    {
     "data": {
      "text/html": [
       "<div>\n",
       "<style scoped>\n",
       "    .dataframe tbody tr th:only-of-type {\n",
       "        vertical-align: middle;\n",
       "    }\n",
       "\n",
       "    .dataframe tbody tr th {\n",
       "        vertical-align: top;\n",
       "    }\n",
       "\n",
       "    .dataframe thead th {\n",
       "        text-align: right;\n",
       "    }\n",
       "</style>\n",
       "<table border=\"1\" class=\"dataframe\">\n",
       "  <thead>\n",
       "    <tr style=\"text-align: right;\">\n",
       "      <th></th>\n",
       "      <th>game_date</th>\n",
       "      <th>Team</th>\n",
       "      <th>Zone</th>\n",
       "      <th>Period</th>\n",
       "      <th>Count</th>\n",
       "    </tr>\n",
       "  </thead>\n",
       "  <tbody>\n",
       "    <tr>\n",
       "      <th>0</th>\n",
       "      <td>2018-02-11</td>\n",
       "      <td>Canada</td>\n",
       "      <td>Defensive Zone</td>\n",
       "      <td>1</td>\n",
       "      <td>2</td>\n",
       "    </tr>\n",
       "    <tr>\n",
       "      <th>1</th>\n",
       "      <td>2018-02-11</td>\n",
       "      <td>Canada</td>\n",
       "      <td>Defensive Zone</td>\n",
       "      <td>2</td>\n",
       "      <td>2</td>\n",
       "    </tr>\n",
       "    <tr>\n",
       "      <th>2</th>\n",
       "      <td>2018-02-11</td>\n",
       "      <td>Canada</td>\n",
       "      <td>Defensive Zone</td>\n",
       "      <td>3</td>\n",
       "      <td>4</td>\n",
       "    </tr>\n",
       "    <tr>\n",
       "      <th>3</th>\n",
       "      <td>2018-02-11</td>\n",
       "      <td>Canada</td>\n",
       "      <td>Neutral Zone</td>\n",
       "      <td>1</td>\n",
       "      <td>6</td>\n",
       "    </tr>\n",
       "    <tr>\n",
       "      <th>4</th>\n",
       "      <td>2018-02-11</td>\n",
       "      <td>Canada</td>\n",
       "      <td>Neutral Zone</td>\n",
       "      <td>2</td>\n",
       "      <td>7</td>\n",
       "    </tr>\n",
       "  </tbody>\n",
       "</table>\n",
       "</div>"
      ],
      "text/plain": [
       "   game_date    Team            Zone  Period  Count\n",
       "0 2018-02-11  Canada  Defensive Zone       1      2\n",
       "1 2018-02-11  Canada  Defensive Zone       2      2\n",
       "2 2018-02-11  Canada  Defensive Zone       3      4\n",
       "3 2018-02-11  Canada    Neutral Zone       1      6\n",
       "4 2018-02-11  Canada    Neutral Zone       2      7"
      ]
     },
     "execution_count": 18,
     "metadata": {},
     "output_type": "execute_result"
    }
   ],
   "source": [
    "canada_counts = faceoff_period_zone_counts[faceoff_period_zone_counts[\"Team\"].str.contains(\"Canada\")]\n",
    "canada_counts.head()"
   ]
  },
  {
   "cell_type": "code",
   "execution_count": 19,
   "metadata": {},
   "outputs": [
    {
     "data": {
      "text/html": [
       "<div>\n",
       "<style scoped>\n",
       "    .dataframe tbody tr th:only-of-type {\n",
       "        vertical-align: middle;\n",
       "    }\n",
       "\n",
       "    .dataframe tbody tr th {\n",
       "        vertical-align: top;\n",
       "    }\n",
       "\n",
       "    .dataframe thead th {\n",
       "        text-align: right;\n",
       "    }\n",
       "</style>\n",
       "<table border=\"1\" class=\"dataframe\">\n",
       "  <thead>\n",
       "    <tr style=\"text-align: right;\">\n",
       "      <th></th>\n",
       "      <th>game_date</th>\n",
       "      <th>Team</th>\n",
       "      <th>Zone</th>\n",
       "      <th>Period</th>\n",
       "      <th>Count</th>\n",
       "    </tr>\n",
       "  </thead>\n",
       "  <tbody>\n",
       "    <tr>\n",
       "      <th>25</th>\n",
       "      <td>2018-02-13</td>\n",
       "      <td>Finland</td>\n",
       "      <td>Defensive Zone</td>\n",
       "      <td>1</td>\n",
       "      <td>3</td>\n",
       "    </tr>\n",
       "    <tr>\n",
       "      <th>26</th>\n",
       "      <td>2018-02-13</td>\n",
       "      <td>Finland</td>\n",
       "      <td>Defensive Zone</td>\n",
       "      <td>2</td>\n",
       "      <td>3</td>\n",
       "    </tr>\n",
       "    <tr>\n",
       "      <th>27</th>\n",
       "      <td>2018-02-13</td>\n",
       "      <td>Finland</td>\n",
       "      <td>Defensive Zone</td>\n",
       "      <td>3</td>\n",
       "      <td>2</td>\n",
       "    </tr>\n",
       "    <tr>\n",
       "      <th>28</th>\n",
       "      <td>2018-02-13</td>\n",
       "      <td>Finland</td>\n",
       "      <td>Neutral Zone</td>\n",
       "      <td>1</td>\n",
       "      <td>2</td>\n",
       "    </tr>\n",
       "    <tr>\n",
       "      <th>29</th>\n",
       "      <td>2018-02-13</td>\n",
       "      <td>Finland</td>\n",
       "      <td>Neutral Zone</td>\n",
       "      <td>2</td>\n",
       "      <td>3</td>\n",
       "    </tr>\n",
       "  </tbody>\n",
       "</table>\n",
       "</div>"
      ],
      "text/plain": [
       "    game_date     Team            Zone  Period  Count\n",
       "25 2018-02-13  Finland  Defensive Zone       1      3\n",
       "26 2018-02-13  Finland  Defensive Zone       2      3\n",
       "27 2018-02-13  Finland  Defensive Zone       3      2\n",
       "28 2018-02-13  Finland    Neutral Zone       1      2\n",
       "29 2018-02-13  Finland    Neutral Zone       2      3"
      ]
     },
     "execution_count": 19,
     "metadata": {},
     "output_type": "execute_result"
    }
   ],
   "source": [
    "finland_counts = faceoff_period_zone_counts[faceoff_period_zone_counts[\"Team\"].str.contains(\"Finland\")]\n",
    "finland_counts.head()"
   ]
  },
  {
   "cell_type": "code",
   "execution_count": 20,
   "metadata": {},
   "outputs": [
    {
     "data": {
      "text/html": [
       "<div>\n",
       "<style scoped>\n",
       "    .dataframe tbody tr th:only-of-type {\n",
       "        vertical-align: middle;\n",
       "    }\n",
       "\n",
       "    .dataframe tbody tr th {\n",
       "        vertical-align: top;\n",
       "    }\n",
       "\n",
       "    .dataframe thead th {\n",
       "        text-align: right;\n",
       "    }\n",
       "</style>\n",
       "<table border=\"1\" class=\"dataframe\">\n",
       "  <thead>\n",
       "    <tr style=\"text-align: right;\">\n",
       "      <th></th>\n",
       "      <th>game_date</th>\n",
       "      <th>Home Team</th>\n",
       "      <th>Away Team</th>\n",
       "      <th>Period</th>\n",
       "      <th>Home Team Skaters</th>\n",
       "      <th>Away Team Skaters</th>\n",
       "      <th>Team</th>\n",
       "      <th>Player</th>\n",
       "      <th>Event</th>\n",
       "      <th>X Coordinate</th>\n",
       "      <th>Y Coordinate</th>\n",
       "      <th>Detail 1</th>\n",
       "      <th>Detail 2</th>\n",
       "      <th>Detail 3</th>\n",
       "      <th>Detail 4</th>\n",
       "      <th>Player 2</th>\n",
       "    </tr>\n",
       "  </thead>\n",
       "  <tbody>\n",
       "    <tr>\n",
       "      <th>0</th>\n",
       "      <td>2018-02-11</td>\n",
       "      <td>Olympic (Women) - Canada</td>\n",
       "      <td>Olympic (Women) - Olympic Athletes from Russia</td>\n",
       "      <td>1</td>\n",
       "      <td>5</td>\n",
       "      <td>5</td>\n",
       "      <td>Canada</td>\n",
       "      <td>Emily Clark</td>\n",
       "      <td>Faceoff Win</td>\n",
       "      <td>100</td>\n",
       "      <td>42</td>\n",
       "      <td>Backhand</td>\n",
       "      <td>NaN</td>\n",
       "      <td>NaN</td>\n",
       "      <td>NaN</td>\n",
       "      <td>Lyudmila Belyakova</td>\n",
       "    </tr>\n",
       "    <tr>\n",
       "      <th>16</th>\n",
       "      <td>2018-02-11</td>\n",
       "      <td>Olympic (Women) - Canada</td>\n",
       "      <td>Olympic (Women) - Olympic Athletes from Russia</td>\n",
       "      <td>1</td>\n",
       "      <td>5</td>\n",
       "      <td>5</td>\n",
       "      <td>Canada</td>\n",
       "      <td>Marie-Philip Poulin</td>\n",
       "      <td>Faceoff Win</td>\n",
       "      <td>80</td>\n",
       "      <td>20</td>\n",
       "      <td>Backhand</td>\n",
       "      <td>NaN</td>\n",
       "      <td>NaN</td>\n",
       "      <td>NaN</td>\n",
       "      <td>Yelena Dergachyova</td>\n",
       "    </tr>\n",
       "    <tr>\n",
       "      <th>38</th>\n",
       "      <td>2018-02-11</td>\n",
       "      <td>Olympic (Women) - Canada</td>\n",
       "      <td>Olympic (Women) - Olympic Athletes from Russia</td>\n",
       "      <td>1</td>\n",
       "      <td>5</td>\n",
       "      <td>4</td>\n",
       "      <td>Russia</td>\n",
       "      <td>Olga Sosina</td>\n",
       "      <td>Faceoff Win</td>\n",
       "      <td>31</td>\n",
       "      <td>65</td>\n",
       "      <td>Backhand</td>\n",
       "      <td>NaN</td>\n",
       "      <td>NaN</td>\n",
       "      <td>NaN</td>\n",
       "      <td>Melodie Daoust</td>\n",
       "    </tr>\n",
       "    <tr>\n",
       "      <th>55</th>\n",
       "      <td>2018-02-11</td>\n",
       "      <td>Olympic (Women) - Canada</td>\n",
       "      <td>Olympic (Women) - Olympic Athletes from Russia</td>\n",
       "      <td>1</td>\n",
       "      <td>5</td>\n",
       "      <td>4</td>\n",
       "      <td>Canada</td>\n",
       "      <td>Brianne Jenner</td>\n",
       "      <td>Faceoff Win</td>\n",
       "      <td>169</td>\n",
       "      <td>64</td>\n",
       "      <td>Backhand</td>\n",
       "      <td>NaN</td>\n",
       "      <td>NaN</td>\n",
       "      <td>NaN</td>\n",
       "      <td>Yevgenia Dyupina</td>\n",
       "    </tr>\n",
       "    <tr>\n",
       "      <th>112</th>\n",
       "      <td>2018-02-11</td>\n",
       "      <td>Olympic (Women) - Canada</td>\n",
       "      <td>Olympic (Women) - Olympic Athletes from Russia</td>\n",
       "      <td>1</td>\n",
       "      <td>5</td>\n",
       "      <td>5</td>\n",
       "      <td>Russia</td>\n",
       "      <td>Yevgenia Dyupina</td>\n",
       "      <td>Faceoff Win</td>\n",
       "      <td>169</td>\n",
       "      <td>21</td>\n",
       "      <td>Backhand</td>\n",
       "      <td>NaN</td>\n",
       "      <td>NaN</td>\n",
       "      <td>NaN</td>\n",
       "      <td>Blayre Turnbull</td>\n",
       "    </tr>\n",
       "  </tbody>\n",
       "</table>\n",
       "</div>"
      ],
      "text/plain": [
       "     game_date                 Home Team  \\\n",
       "0   2018-02-11  Olympic (Women) - Canada   \n",
       "16  2018-02-11  Olympic (Women) - Canada   \n",
       "38  2018-02-11  Olympic (Women) - Canada   \n",
       "55  2018-02-11  Olympic (Women) - Canada   \n",
       "112 2018-02-11  Olympic (Women) - Canada   \n",
       "\n",
       "                                          Away Team  Period  \\\n",
       "0    Olympic (Women) - Olympic Athletes from Russia       1   \n",
       "16   Olympic (Women) - Olympic Athletes from Russia       1   \n",
       "38   Olympic (Women) - Olympic Athletes from Russia       1   \n",
       "55   Olympic (Women) - Olympic Athletes from Russia       1   \n",
       "112  Olympic (Women) - Olympic Athletes from Russia       1   \n",
       "\n",
       "     Home Team Skaters  Away Team Skaters    Team               Player  \\\n",
       "0                    5                  5  Canada          Emily Clark   \n",
       "16                   5                  5  Canada  Marie-Philip Poulin   \n",
       "38                   5                  4  Russia          Olga Sosina   \n",
       "55                   5                  4  Canada       Brianne Jenner   \n",
       "112                  5                  5  Russia     Yevgenia Dyupina   \n",
       "\n",
       "           Event  X Coordinate  Y Coordinate  Detail 1 Detail 2 Detail 3  \\\n",
       "0    Faceoff Win           100            42  Backhand      NaN      NaN   \n",
       "16   Faceoff Win            80            20  Backhand      NaN      NaN   \n",
       "38   Faceoff Win            31            65  Backhand      NaN      NaN   \n",
       "55   Faceoff Win           169            64  Backhand      NaN      NaN   \n",
       "112  Faceoff Win           169            21  Backhand      NaN      NaN   \n",
       "\n",
       "    Detail 4            Player 2  \n",
       "0        NaN  Lyudmila Belyakova  \n",
       "16       NaN  Yelena Dergachyova  \n",
       "38       NaN      Melodie Daoust  \n",
       "55       NaN    Yevgenia Dyupina  \n",
       "112      NaN     Blayre Turnbull  "
      ]
     },
     "execution_count": 20,
     "metadata": {},
     "output_type": "execute_result"
    }
   ],
   "source": [
    "faceoff_df.head()"
   ]
  },
  {
   "cell_type": "code",
   "execution_count": 21,
   "metadata": {},
   "outputs": [
    {
     "data": {
      "text/html": [
       "<div>\n",
       "<style scoped>\n",
       "    .dataframe tbody tr th:only-of-type {\n",
       "        vertical-align: middle;\n",
       "    }\n",
       "\n",
       "    .dataframe tbody tr th {\n",
       "        vertical-align: top;\n",
       "    }\n",
       "\n",
       "    .dataframe thead th {\n",
       "        text-align: right;\n",
       "    }\n",
       "</style>\n",
       "<table border=\"1\" class=\"dataframe\">\n",
       "  <thead>\n",
       "    <tr style=\"text-align: right;\">\n",
       "      <th></th>\n",
       "      <th>game_date</th>\n",
       "      <th>Team</th>\n",
       "      <th>Zone</th>\n",
       "      <th>Period</th>\n",
       "      <th>Count</th>\n",
       "    </tr>\n",
       "  </thead>\n",
       "  <tbody>\n",
       "    <tr>\n",
       "      <th>0</th>\n",
       "      <td>2018-02-11</td>\n",
       "      <td>Canada</td>\n",
       "      <td>Defensive Zone</td>\n",
       "      <td>1</td>\n",
       "      <td>2</td>\n",
       "    </tr>\n",
       "    <tr>\n",
       "      <th>1</th>\n",
       "      <td>2018-02-11</td>\n",
       "      <td>Canada</td>\n",
       "      <td>Defensive Zone</td>\n",
       "      <td>2</td>\n",
       "      <td>2</td>\n",
       "    </tr>\n",
       "    <tr>\n",
       "      <th>2</th>\n",
       "      <td>2018-02-11</td>\n",
       "      <td>Canada</td>\n",
       "      <td>Defensive Zone</td>\n",
       "      <td>3</td>\n",
       "      <td>4</td>\n",
       "    </tr>\n",
       "    <tr>\n",
       "      <th>3</th>\n",
       "      <td>2018-02-11</td>\n",
       "      <td>Canada</td>\n",
       "      <td>Neutral Zone</td>\n",
       "      <td>1</td>\n",
       "      <td>6</td>\n",
       "    </tr>\n",
       "    <tr>\n",
       "      <th>4</th>\n",
       "      <td>2018-02-11</td>\n",
       "      <td>Canada</td>\n",
       "      <td>Neutral Zone</td>\n",
       "      <td>2</td>\n",
       "      <td>7</td>\n",
       "    </tr>\n",
       "    <tr>\n",
       "      <th>...</th>\n",
       "      <td>...</td>\n",
       "      <td>...</td>\n",
       "      <td>...</td>\n",
       "      <td>...</td>\n",
       "      <td>...</td>\n",
       "    </tr>\n",
       "    <tr>\n",
       "      <th>194</th>\n",
       "      <td>2019-04-14</td>\n",
       "      <td>USA</td>\n",
       "      <td>Neutral Zone</td>\n",
       "      <td>4</td>\n",
       "      <td>2</td>\n",
       "    </tr>\n",
       "    <tr>\n",
       "      <th>195</th>\n",
       "      <td>2019-04-14</td>\n",
       "      <td>USA</td>\n",
       "      <td>Offensive Zone</td>\n",
       "      <td>1</td>\n",
       "      <td>5</td>\n",
       "    </tr>\n",
       "    <tr>\n",
       "      <th>196</th>\n",
       "      <td>2019-04-14</td>\n",
       "      <td>USA</td>\n",
       "      <td>Offensive Zone</td>\n",
       "      <td>2</td>\n",
       "      <td>6</td>\n",
       "    </tr>\n",
       "    <tr>\n",
       "      <th>197</th>\n",
       "      <td>2019-04-14</td>\n",
       "      <td>USA</td>\n",
       "      <td>Offensive Zone</td>\n",
       "      <td>3</td>\n",
       "      <td>3</td>\n",
       "    </tr>\n",
       "    <tr>\n",
       "      <th>198</th>\n",
       "      <td>2019-04-14</td>\n",
       "      <td>USA</td>\n",
       "      <td>Offensive Zone</td>\n",
       "      <td>4</td>\n",
       "      <td>4</td>\n",
       "    </tr>\n",
       "  </tbody>\n",
       "</table>\n",
       "<p>199 rows × 5 columns</p>\n",
       "</div>"
      ],
      "text/plain": [
       "     game_date    Team            Zone  Period  Count\n",
       "0   2018-02-11  Canada  Defensive Zone       1      2\n",
       "1   2018-02-11  Canada  Defensive Zone       2      2\n",
       "2   2018-02-11  Canada  Defensive Zone       3      4\n",
       "3   2018-02-11  Canada    Neutral Zone       1      6\n",
       "4   2018-02-11  Canada    Neutral Zone       2      7\n",
       "..         ...     ...             ...     ...    ...\n",
       "194 2019-04-14     USA    Neutral Zone       4      2\n",
       "195 2019-04-14     USA  Offensive Zone       1      5\n",
       "196 2019-04-14     USA  Offensive Zone       2      6\n",
       "197 2019-04-14     USA  Offensive Zone       3      3\n",
       "198 2019-04-14     USA  Offensive Zone       4      4\n",
       "\n",
       "[199 rows x 5 columns]"
      ]
     },
     "execution_count": 21,
     "metadata": {},
     "output_type": "execute_result"
    }
   ],
   "source": [
    "faceoff_counts_df = faceoff_period_zone_counts\n",
    "faceoff_counts_df"
   ]
  },
  {
   "cell_type": "code",
   "execution_count": 22,
   "metadata": {},
   "outputs": [
    {
     "data": {
      "text/html": [
       "<div>\n",
       "<style scoped>\n",
       "    .dataframe tbody tr th:only-of-type {\n",
       "        vertical-align: middle;\n",
       "    }\n",
       "\n",
       "    .dataframe tbody tr th {\n",
       "        vertical-align: top;\n",
       "    }\n",
       "\n",
       "    .dataframe thead th {\n",
       "        text-align: right;\n",
       "    }\n",
       "</style>\n",
       "<table border=\"1\" class=\"dataframe\">\n",
       "  <thead>\n",
       "    <tr style=\"text-align: right;\">\n",
       "      <th></th>\n",
       "      <th>game_date</th>\n",
       "      <th>Count</th>\n",
       "    </tr>\n",
       "  </thead>\n",
       "  <tbody>\n",
       "    <tr>\n",
       "      <th>0</th>\n",
       "      <td>2018-02-14</td>\n",
       "      <td>28</td>\n",
       "    </tr>\n",
       "    <tr>\n",
       "      <th>1</th>\n",
       "      <td>2018-02-21</td>\n",
       "      <td>45</td>\n",
       "    </tr>\n",
       "    <tr>\n",
       "      <th>2</th>\n",
       "      <td>2019-02-12</td>\n",
       "      <td>16</td>\n",
       "    </tr>\n",
       "    <tr>\n",
       "      <th>3</th>\n",
       "      <td>2019-02-14</td>\n",
       "      <td>27</td>\n",
       "    </tr>\n",
       "    <tr>\n",
       "      <th>4</th>\n",
       "      <td>2019-02-17</td>\n",
       "      <td>30</td>\n",
       "    </tr>\n",
       "    <tr>\n",
       "      <th>5</th>\n",
       "      <td>2019-04-06</td>\n",
       "      <td>25</td>\n",
       "    </tr>\n",
       "    <tr>\n",
       "      <th>6</th>\n",
       "      <td>2019-04-14</td>\n",
       "      <td>40</td>\n",
       "    </tr>\n",
       "  </tbody>\n",
       "</table>\n",
       "</div>"
      ],
      "text/plain": [
       "   game_date  Count\n",
       "0 2018-02-14     28\n",
       "1 2018-02-21     45\n",
       "2 2019-02-12     16\n",
       "3 2019-02-14     27\n",
       "4 2019-02-17     30\n",
       "5 2019-04-06     25\n",
       "6 2019-04-14     40"
      ]
     },
     "execution_count": 22,
     "metadata": {},
     "output_type": "execute_result"
    }
   ],
   "source": [
    "faceoff_counts_df[(faceoff_counts_df[\"Team\"].str.contains(\"USA\"))].groupby(\"game_date\")[\"Count\"].sum().reset_index()"
   ]
  },
  {
   "cell_type": "code",
   "execution_count": 25,
   "metadata": {},
   "outputs": [
    {
     "name": "stderr",
     "output_type": "stream",
     "text": [
      "/var/folders/mn/zxv9btt5163290xr8yjc8v5h0000gn/T/ipykernel_27398/3249887905.py:9: UserWarning: \n",
      "The palette list has fewer values (4) than needed (7) and will cycle, which may produce an uninterpretable plot.\n",
      "  sns.barplot(data=faceoff_counts_df[(faceoff_counts_df[\"Team\"].str.contains(\"USA\"))].groupby(\"game_date\")[\"Count\"].sum().reset_index(), x= \"game_date\", y=\"Count\", palette=flames_cat, hue=\"game_date\", legend=False)\n"
     ]
    },
    {
     "data": {
      "text/plain": [
       "<Axes: xlabel='Date of Game', ylabel='Count of Faceoff Wins'>"
      ]
     },
     "execution_count": 25,
     "metadata": {},
     "output_type": "execute_result"
    },
    {
     "data": {
      "image/png": "[encoded data removed]",
      "text/plain": [
       "<Figure size 640x480 with 1 Axes>"
      ]
     },
     "metadata": {},
     "output_type": "display_data"
    }
   ],
   "source": [
    "import seaborn as sns\n",
    "import matplotlib.pyplot as plt\n",
    "plt.xticks(rotation=90)\n",
    "plt.xlabel(\"Date of Game\")\n",
    "plt.ylabel(\"Count of Faceoff Wins\")\n",
    "flames_cat = [\"#C8102E\", \"#FFCD00\", \"#101820\", \"#7D7D7D\"]  # red, gold, black, gray, light gray\n",
    "sns.set_theme(style=\"whitegrid\")\n",
    "sns.set_palette(flames_cat)\n",
    "sns.barplot(data=faceoff_counts_df[(faceoff_counts_df[\"Team\"].str.contains(\"USA\"))].groupby(\"game_date\")[\"Count\"].sum().reset_index(), x= \"game_date\", y=\"Count\", palette=flames_cat, hue=\"game_date\", legend=False)\n"
   ]
  },
  {
   "cell_type": "code",
   "execution_count": 23,
   "metadata": {},
   "outputs": [
    {
     "data": {
      "text/html": [
       "<div>\n",
       "<style scoped>\n",
       "    .dataframe tbody tr th:only-of-type {\n",
       "        vertical-align: middle;\n",
       "    }\n",
       "\n",
       "    .dataframe tbody tr th {\n",
       "        vertical-align: top;\n",
       "    }\n",
       "\n",
       "    .dataframe thead th {\n",
       "        text-align: right;\n",
       "    }\n",
       "</style>\n",
       "<table border=\"1\" class=\"dataframe\">\n",
       "  <thead>\n",
       "    <tr style=\"text-align: right;\">\n",
       "      <th></th>\n",
       "      <th>game_date</th>\n",
       "      <th>Team</th>\n",
       "      <th>Zone</th>\n",
       "      <th>Period</th>\n",
       "      <th>Count</th>\n",
       "    </tr>\n",
       "  </thead>\n",
       "  <tbody>\n",
       "    <tr>\n",
       "      <th>0</th>\n",
       "      <td>2018-02-11</td>\n",
       "      <td>Canada</td>\n",
       "      <td>Defensive Zone</td>\n",
       "      <td>1</td>\n",
       "      <td>2</td>\n",
       "    </tr>\n",
       "    <tr>\n",
       "      <th>1</th>\n",
       "      <td>2018-02-11</td>\n",
       "      <td>Canada</td>\n",
       "      <td>Defensive Zone</td>\n",
       "      <td>2</td>\n",
       "      <td>2</td>\n",
       "    </tr>\n",
       "    <tr>\n",
       "      <th>2</th>\n",
       "      <td>2018-02-11</td>\n",
       "      <td>Canada</td>\n",
       "      <td>Defensive Zone</td>\n",
       "      <td>3</td>\n",
       "      <td>4</td>\n",
       "    </tr>\n",
       "    <tr>\n",
       "      <th>3</th>\n",
       "      <td>2018-02-11</td>\n",
       "      <td>Canada</td>\n",
       "      <td>Neutral Zone</td>\n",
       "      <td>1</td>\n",
       "      <td>6</td>\n",
       "    </tr>\n",
       "    <tr>\n",
       "      <th>4</th>\n",
       "      <td>2018-02-11</td>\n",
       "      <td>Canada</td>\n",
       "      <td>Neutral Zone</td>\n",
       "      <td>2</td>\n",
       "      <td>7</td>\n",
       "    </tr>\n",
       "    <tr>\n",
       "      <th>...</th>\n",
       "      <td>...</td>\n",
       "      <td>...</td>\n",
       "      <td>...</td>\n",
       "      <td>...</td>\n",
       "      <td>...</td>\n",
       "    </tr>\n",
       "    <tr>\n",
       "      <th>194</th>\n",
       "      <td>2019-04-14</td>\n",
       "      <td>USA</td>\n",
       "      <td>Neutral Zone</td>\n",
       "      <td>4</td>\n",
       "      <td>2</td>\n",
       "    </tr>\n",
       "    <tr>\n",
       "      <th>195</th>\n",
       "      <td>2019-04-14</td>\n",
       "      <td>USA</td>\n",
       "      <td>Offensive Zone</td>\n",
       "      <td>1</td>\n",
       "      <td>5</td>\n",
       "    </tr>\n",
       "    <tr>\n",
       "      <th>196</th>\n",
       "      <td>2019-04-14</td>\n",
       "      <td>USA</td>\n",
       "      <td>Offensive Zone</td>\n",
       "      <td>2</td>\n",
       "      <td>6</td>\n",
       "    </tr>\n",
       "    <tr>\n",
       "      <th>197</th>\n",
       "      <td>2019-04-14</td>\n",
       "      <td>USA</td>\n",
       "      <td>Offensive Zone</td>\n",
       "      <td>3</td>\n",
       "      <td>3</td>\n",
       "    </tr>\n",
       "    <tr>\n",
       "      <th>198</th>\n",
       "      <td>2019-04-14</td>\n",
       "      <td>USA</td>\n",
       "      <td>Offensive Zone</td>\n",
       "      <td>4</td>\n",
       "      <td>4</td>\n",
       "    </tr>\n",
       "  </tbody>\n",
       "</table>\n",
       "<p>199 rows × 5 columns</p>\n",
       "</div>"
      ],
      "text/plain": [
       "     game_date    Team            Zone  Period  Count\n",
       "0   2018-02-11  Canada  Defensive Zone       1      2\n",
       "1   2018-02-11  Canada  Defensive Zone       2      2\n",
       "2   2018-02-11  Canada  Defensive Zone       3      4\n",
       "3   2018-02-11  Canada    Neutral Zone       1      6\n",
       "4   2018-02-11  Canada    Neutral Zone       2      7\n",
       "..         ...     ...             ...     ...    ...\n",
       "194 2019-04-14     USA    Neutral Zone       4      2\n",
       "195 2019-04-14     USA  Offensive Zone       1      5\n",
       "196 2019-04-14     USA  Offensive Zone       2      6\n",
       "197 2019-04-14     USA  Offensive Zone       3      3\n",
       "198 2019-04-14     USA  Offensive Zone       4      4\n",
       "\n",
       "[199 rows x 5 columns]"
      ]
     },
     "execution_count": 23,
     "metadata": {},
     "output_type": "execute_result"
    }
   ],
   "source": [
    "faceoff_period_zone_counts"
   ]
  },
  {
   "cell_type": "code",
   "execution_count": 26,
   "metadata": {},
   "outputs": [
    {
     "data": {
      "text/plain": [
       "<Axes: xlabel='game_date', ylabel='count'>"
      ]
     },
     "execution_count": 26,
     "metadata": {},
     "output_type": "execute_result"
    },
    {
     "data": {
      "image/png": "[encoded data removed]",
      "text/plain": [
       "<Figure size 1000x800 with 1 Axes>"
      ]
     },
     "metadata": {},
     "output_type": "display_data"
    }
   ],
   "source": [
    "plt.figure(figsize=(10, 8))\n",
    "plt.xticks(rotation=90)\n",
    "team_faceoff_zone_counts = faceoff_period_zone_counts[faceoff_period_zone_counts[\"Team\"].str.contains(\"Canada\")]\n",
    "sns.countplot(data=team_faceoff_zone_counts, x=\"game_date\", hue=\"Zone\")"
   ]
  },
  {
   "cell_type": "code",
   "execution_count": 27,
   "metadata": {},
   "outputs": [
    {
     "data": {
      "text/plain": [
       "<Axes: xlabel='game_date', ylabel='count'>"
      ]
     },
     "execution_count": 27,
     "metadata": {},
     "output_type": "execute_result"
    },
    {
     "data": {
      "image/png": "[encoded data removed]",
      "text/plain": [
       "<Figure size 1000x800 with 1 Axes>"
      ]
     },
     "metadata": {},
     "output_type": "display_data"
    }
   ],
   "source": [
    "plt.figure(figsize=(10, 8))\n",
    "plt.xticks(rotation=90)\n",
    "team_zone = (\n",
    "    faceoff_period_zone_counts[\"Team\"].str.contains(\"Canada\") & \n",
    "    faceoff_period_zone_counts[\"Zone\"].str.contains(\"Defensive\")\n",
    ")\n",
    "team_faceoff_zone_counts = faceoff_period_zone_counts.loc[team_zone].copy()\n",
    "sns.countplot(data=team_faceoff_zone_counts, x=\"game_date\", hue=\"Zone\")"
   ]
  },
  {
   "cell_type": "code",
   "execution_count": 28,
   "metadata": {},
   "outputs": [
    {
     "name": "stderr",
     "output_type": "stream",
     "text": [
      "/var/folders/mn/zxv9btt5163290xr8yjc8v5h0000gn/T/ipykernel_27398/3811595792.py:1: SettingWithCopyWarning: \n",
      "A value is trying to be set on a copy of a slice from a DataFrame.\n",
      "Try using .loc[row_indexer,col_indexer] = value instead\n",
      "\n",
      "See the caveats in the documentation: https://pandas.pydata.org/pandas-docs/stable/user_guide/indexing.html#returning-a-view-versus-a-copy\n",
      "  faceoff_df[\"Zone\"] = faceoff_df.apply(lambda x: rink_area(x[\"X Coordinate\"]), axis = 1)\n"
     ]
    },
    {
     "data": {
      "text/html": [
       "<div>\n",
       "<style scoped>\n",
       "    .dataframe tbody tr th:only-of-type {\n",
       "        vertical-align: middle;\n",
       "    }\n",
       "\n",
       "    .dataframe tbody tr th {\n",
       "        vertical-align: top;\n",
       "    }\n",
       "\n",
       "    .dataframe thead th {\n",
       "        text-align: right;\n",
       "    }\n",
       "</style>\n",
       "<table border=\"1\" class=\"dataframe\">\n",
       "  <thead>\n",
       "    <tr style=\"text-align: right;\">\n",
       "      <th></th>\n",
       "      <th>game_date</th>\n",
       "      <th>Home Team</th>\n",
       "      <th>Away Team</th>\n",
       "      <th>Period</th>\n",
       "      <th>Home Team Skaters</th>\n",
       "      <th>Away Team Skaters</th>\n",
       "      <th>Team</th>\n",
       "      <th>Player</th>\n",
       "      <th>Event</th>\n",
       "      <th>X Coordinate</th>\n",
       "      <th>Y Coordinate</th>\n",
       "      <th>Detail 1</th>\n",
       "      <th>Detail 2</th>\n",
       "      <th>Detail 3</th>\n",
       "      <th>Detail 4</th>\n",
       "      <th>Player 2</th>\n",
       "      <th>Zone</th>\n",
       "    </tr>\n",
       "  </thead>\n",
       "  <tbody>\n",
       "    <tr>\n",
       "      <th>0</th>\n",
       "      <td>2018-02-11</td>\n",
       "      <td>Olympic (Women) - Canada</td>\n",
       "      <td>Olympic (Women) - Olympic Athletes from Russia</td>\n",
       "      <td>1</td>\n",
       "      <td>5</td>\n",
       "      <td>5</td>\n",
       "      <td>Canada</td>\n",
       "      <td>Emily Clark</td>\n",
       "      <td>Faceoff Win</td>\n",
       "      <td>100</td>\n",
       "      <td>42</td>\n",
       "      <td>Backhand</td>\n",
       "      <td>NaN</td>\n",
       "      <td>NaN</td>\n",
       "      <td>NaN</td>\n",
       "      <td>Lyudmila Belyakova</td>\n",
       "      <td>Neutral Zone</td>\n",
       "    </tr>\n",
       "    <tr>\n",
       "      <th>16</th>\n",
       "      <td>2018-02-11</td>\n",
       "      <td>Olympic (Women) - Canada</td>\n",
       "      <td>Olympic (Women) - Olympic Athletes from Russia</td>\n",
       "      <td>1</td>\n",
       "      <td>5</td>\n",
       "      <td>5</td>\n",
       "      <td>Canada</td>\n",
       "      <td>Marie-Philip Poulin</td>\n",
       "      <td>Faceoff Win</td>\n",
       "      <td>80</td>\n",
       "      <td>20</td>\n",
       "      <td>Backhand</td>\n",
       "      <td>NaN</td>\n",
       "      <td>NaN</td>\n",
       "      <td>NaN</td>\n",
       "      <td>Yelena Dergachyova</td>\n",
       "      <td>Neutral Zone</td>\n",
       "    </tr>\n",
       "    <tr>\n",
       "      <th>38</th>\n",
       "      <td>2018-02-11</td>\n",
       "      <td>Olympic (Women) - Canada</td>\n",
       "      <td>Olympic (Women) - Olympic Athletes from Russia</td>\n",
       "      <td>1</td>\n",
       "      <td>5</td>\n",
       "      <td>4</td>\n",
       "      <td>Russia</td>\n",
       "      <td>Olga Sosina</td>\n",
       "      <td>Faceoff Win</td>\n",
       "      <td>31</td>\n",
       "      <td>65</td>\n",
       "      <td>Backhand</td>\n",
       "      <td>NaN</td>\n",
       "      <td>NaN</td>\n",
       "      <td>NaN</td>\n",
       "      <td>Melodie Daoust</td>\n",
       "      <td>Defensive Zone</td>\n",
       "    </tr>\n",
       "    <tr>\n",
       "      <th>55</th>\n",
       "      <td>2018-02-11</td>\n",
       "      <td>Olympic (Women) - Canada</td>\n",
       "      <td>Olympic (Women) - Olympic Athletes from Russia</td>\n",
       "      <td>1</td>\n",
       "      <td>5</td>\n",
       "      <td>4</td>\n",
       "      <td>Canada</td>\n",
       "      <td>Brianne Jenner</td>\n",
       "      <td>Faceoff Win</td>\n",
       "      <td>169</td>\n",
       "      <td>64</td>\n",
       "      <td>Backhand</td>\n",
       "      <td>NaN</td>\n",
       "      <td>NaN</td>\n",
       "      <td>NaN</td>\n",
       "      <td>Yevgenia Dyupina</td>\n",
       "      <td>Offensive Zone</td>\n",
       "    </tr>\n",
       "    <tr>\n",
       "      <th>112</th>\n",
       "      <td>2018-02-11</td>\n",
       "      <td>Olympic (Women) - Canada</td>\n",
       "      <td>Olympic (Women) - Olympic Athletes from Russia</td>\n",
       "      <td>1</td>\n",
       "      <td>5</td>\n",
       "      <td>5</td>\n",
       "      <td>Russia</td>\n",
       "      <td>Yevgenia Dyupina</td>\n",
       "      <td>Faceoff Win</td>\n",
       "      <td>169</td>\n",
       "      <td>21</td>\n",
       "      <td>Backhand</td>\n",
       "      <td>NaN</td>\n",
       "      <td>NaN</td>\n",
       "      <td>NaN</td>\n",
       "      <td>Blayre Turnbull</td>\n",
       "      <td>Offensive Zone</td>\n",
       "    </tr>\n",
       "  </tbody>\n",
       "</table>\n",
       "</div>"
      ],
      "text/plain": [
       "     game_date                 Home Team  \\\n",
       "0   2018-02-11  Olympic (Women) - Canada   \n",
       "16  2018-02-11  Olympic (Women) - Canada   \n",
       "38  2018-02-11  Olympic (Women) - Canada   \n",
       "55  2018-02-11  Olympic (Women) - Canada   \n",
       "112 2018-02-11  Olympic (Women) - Canada   \n",
       "\n",
       "                                          Away Team  Period  \\\n",
       "0    Olympic (Women) - Olympic Athletes from Russia       1   \n",
       "16   Olympic (Women) - Olympic Athletes from Russia       1   \n",
       "38   Olympic (Women) - Olympic Athletes from Russia       1   \n",
       "55   Olympic (Women) - Olympic Athletes from Russia       1   \n",
       "112  Olympic (Women) - Olympic Athletes from Russia       1   \n",
       "\n",
       "     Home Team Skaters  Away Team Skaters    Team               Player  \\\n",
       "0                    5                  5  Canada          Emily Clark   \n",
       "16                   5                  5  Canada  Marie-Philip Poulin   \n",
       "38                   5                  4  Russia          Olga Sosina   \n",
       "55                   5                  4  Canada       Brianne Jenner   \n",
       "112                  5                  5  Russia     Yevgenia Dyupina   \n",
       "\n",
       "           Event  X Coordinate  Y Coordinate  Detail 1 Detail 2 Detail 3  \\\n",
       "0    Faceoff Win           100            42  Backhand      NaN      NaN   \n",
       "16   Faceoff Win            80            20  Backhand      NaN      NaN   \n",
       "38   Faceoff Win            31            65  Backhand      NaN      NaN   \n",
       "55   Faceoff Win           169            64  Backhand      NaN      NaN   \n",
       "112  Faceoff Win           169            21  Backhand      NaN      NaN   \n",
       "\n",
       "    Detail 4            Player 2            Zone  \n",
       "0        NaN  Lyudmila Belyakova    Neutral Zone  \n",
       "16       NaN  Yelena Dergachyova    Neutral Zone  \n",
       "38       NaN      Melodie Daoust  Defensive Zone  \n",
       "55       NaN    Yevgenia Dyupina  Offensive Zone  \n",
       "112      NaN     Blayre Turnbull  Offensive Zone  "
      ]
     },
     "execution_count": 28,
     "metadata": {},
     "output_type": "execute_result"
    }
   ],
   "source": [
    "faceoff_df[\"Zone\"] = faceoff_df.apply(lambda x: rink_area(x[\"X Coordinate\"]), axis = 1)\n",
    "\n",
    "faceoff_df.head()"
   ]
  },
  {
   "cell_type": "code",
   "execution_count": 29,
   "metadata": {},
   "outputs": [
    {
     "data": {
      "text/html": [
       "<div>\n",
       "<style scoped>\n",
       "    .dataframe tbody tr th:only-of-type {\n",
       "        vertical-align: middle;\n",
       "    }\n",
       "\n",
       "    .dataframe tbody tr th {\n",
       "        vertical-align: top;\n",
       "    }\n",
       "\n",
       "    .dataframe thead th {\n",
       "        text-align: right;\n",
       "    }\n",
       "</style>\n",
       "<table border=\"1\" class=\"dataframe\">\n",
       "  <thead>\n",
       "    <tr style=\"text-align: right;\">\n",
       "      <th></th>\n",
       "      <th>game_date</th>\n",
       "      <th>Team</th>\n",
       "      <th>Zone</th>\n",
       "      <th>Count</th>\n",
       "    </tr>\n",
       "  </thead>\n",
       "  <tbody>\n",
       "    <tr>\n",
       "      <th>0</th>\n",
       "      <td>2018-02-11</td>\n",
       "      <td>Canada</td>\n",
       "      <td>Defensive Zone</td>\n",
       "      <td>8</td>\n",
       "    </tr>\n",
       "    <tr>\n",
       "      <th>1</th>\n",
       "      <td>2018-02-11</td>\n",
       "      <td>Canada</td>\n",
       "      <td>Neutral Zone</td>\n",
       "      <td>18</td>\n",
       "    </tr>\n",
       "    <tr>\n",
       "      <th>2</th>\n",
       "      <td>2018-02-11</td>\n",
       "      <td>Canada</td>\n",
       "      <td>Offensive Zone</td>\n",
       "      <td>16</td>\n",
       "    </tr>\n",
       "    <tr>\n",
       "      <th>3</th>\n",
       "      <td>2018-02-11</td>\n",
       "      <td>Russia</td>\n",
       "      <td>Defensive Zone</td>\n",
       "      <td>7</td>\n",
       "    </tr>\n",
       "    <tr>\n",
       "      <th>4</th>\n",
       "      <td>2018-02-11</td>\n",
       "      <td>Russia</td>\n",
       "      <td>Neutral Zone</td>\n",
       "      <td>4</td>\n",
       "    </tr>\n",
       "    <tr>\n",
       "      <th>...</th>\n",
       "      <td>...</td>\n",
       "      <td>...</td>\n",
       "      <td>...</td>\n",
       "      <td>...</td>\n",
       "    </tr>\n",
       "    <tr>\n",
       "      <th>61</th>\n",
       "      <td>2019-04-14</td>\n",
       "      <td>Finland</td>\n",
       "      <td>Neutral Zone</td>\n",
       "      <td>14</td>\n",
       "    </tr>\n",
       "    <tr>\n",
       "      <th>62</th>\n",
       "      <td>2019-04-14</td>\n",
       "      <td>Finland</td>\n",
       "      <td>Offensive Zone</td>\n",
       "      <td>5</td>\n",
       "    </tr>\n",
       "    <tr>\n",
       "      <th>63</th>\n",
       "      <td>2019-04-14</td>\n",
       "      <td>USA</td>\n",
       "      <td>Defensive Zone</td>\n",
       "      <td>14</td>\n",
       "    </tr>\n",
       "    <tr>\n",
       "      <th>64</th>\n",
       "      <td>2019-04-14</td>\n",
       "      <td>USA</td>\n",
       "      <td>Neutral Zone</td>\n",
       "      <td>8</td>\n",
       "    </tr>\n",
       "    <tr>\n",
       "      <th>65</th>\n",
       "      <td>2019-04-14</td>\n",
       "      <td>USA</td>\n",
       "      <td>Offensive Zone</td>\n",
       "      <td>18</td>\n",
       "    </tr>\n",
       "  </tbody>\n",
       "</table>\n",
       "<p>66 rows × 4 columns</p>\n",
       "</div>"
      ],
      "text/plain": [
       "    game_date     Team            Zone  Count\n",
       "0  2018-02-11   Canada  Defensive Zone      8\n",
       "1  2018-02-11   Canada    Neutral Zone     18\n",
       "2  2018-02-11   Canada  Offensive Zone     16\n",
       "3  2018-02-11   Russia  Defensive Zone      7\n",
       "4  2018-02-11   Russia    Neutral Zone      4\n",
       "..        ...      ...             ...    ...\n",
       "61 2019-04-14  Finland    Neutral Zone     14\n",
       "62 2019-04-14  Finland  Offensive Zone      5\n",
       "63 2019-04-14      USA  Defensive Zone     14\n",
       "64 2019-04-14      USA    Neutral Zone      8\n",
       "65 2019-04-14      USA  Offensive Zone     18\n",
       "\n",
       "[66 rows x 4 columns]"
      ]
     },
     "execution_count": 29,
     "metadata": {},
     "output_type": "execute_result"
    }
   ],
   "source": [
    "faceoff_zone_zone_counts = faceoff_df.groupby([\"game_date\",\"Team\", \"Zone\"]).size().reset_index(name=\"Count\")\n",
    "faceoff_zone_zone_counts"
   ]
  },
  {
   "cell_type": "code",
   "execution_count": 30,
   "metadata": {},
   "outputs": [
    {
     "data": {
      "text/html": [
       "<div>\n",
       "<style scoped>\n",
       "    .dataframe tbody tr th:only-of-type {\n",
       "        vertical-align: middle;\n",
       "    }\n",
       "\n",
       "    .dataframe tbody tr th {\n",
       "        vertical-align: top;\n",
       "    }\n",
       "\n",
       "    .dataframe thead th {\n",
       "        text-align: right;\n",
       "    }\n",
       "</style>\n",
       "<table border=\"1\" class=\"dataframe\">\n",
       "  <thead>\n",
       "    <tr style=\"text-align: right;\">\n",
       "      <th></th>\n",
       "      <th>game_date</th>\n",
       "      <th>Team</th>\n",
       "      <th>Zone</th>\n",
       "      <th>Count</th>\n",
       "    </tr>\n",
       "  </thead>\n",
       "  <tbody>\n",
       "    <tr>\n",
       "      <th>3</th>\n",
       "      <td>2018-02-11</td>\n",
       "      <td>Russia</td>\n",
       "      <td>Defensive Zone</td>\n",
       "      <td>7</td>\n",
       "    </tr>\n",
       "    <tr>\n",
       "      <th>21</th>\n",
       "      <td>2018-02-19</td>\n",
       "      <td>Russia</td>\n",
       "      <td>Defensive Zone</td>\n",
       "      <td>4</td>\n",
       "    </tr>\n",
       "  </tbody>\n",
       "</table>\n",
       "</div>"
      ],
      "text/plain": [
       "    game_date    Team            Zone  Count\n",
       "3  2018-02-11  Russia  Defensive Zone      7\n",
       "21 2018-02-19  Russia  Defensive Zone      4"
      ]
     },
     "execution_count": 30,
     "metadata": {},
     "output_type": "execute_result"
    }
   ],
   "source": [
    "faceoff_zone_zone_counts = faceoff_df.groupby([\"game_date\",\"Team\", \"Zone\"]).size().reset_index(name=\"Count\")\n",
    "team_zone = (\n",
    "    faceoff_zone_zone_counts[\"Team\"].str.contains(\"Russia\") & \n",
    "    faceoff_zone_zone_counts[\"Zone\"].str.contains(\"Defensive\")\n",
    ")\n",
    "team_faceoff_zone_counts = faceoff_zone_zone_counts.loc[team_zone].copy()\n",
    "\n",
    "team_faceoff_zone_counts\n"
   ]
  },
  {
   "cell_type": "code",
   "execution_count": 32,
   "metadata": {},
   "outputs": [
    {
     "data": {
      "application/vnd.plotly.v1+json": {
       "config": {
        "plotlyServerURL": "https://plot.ly"
       },
       "data": [
        {
         "alignmentgroup": "True",
         "hovertemplate": "Zone=Defensive Zone<br>game_date=%{x}<br>Count=%{y}<extra></extra>",
         "legendgroup": "Defensive Zone",
         "marker": {
          "color": "#636efa",
          "pattern": {
           "shape": ""
          }
         },
         "name": "Defensive Zone",
         "offsetgroup": "Defensive Zone",
         "orientation": "v",
         "showlegend": true,
         "textposition": "auto",
         "type": "bar",
         "x": [
          "2018-02-11T00:00:00.000000000",
          "2018-02-19T00:00:00.000000000"
         ],
         "xaxis": "x",
         "y": {
          "bdata": "BwQ=",
          "dtype": "i1"
         },
         "yaxis": "y"
        }
       ],
       "layout": {
        "barmode": "group",
        "legend": {
         "title": {
          "text": "Zone"
         },
         "tracegroupgap": 0
        },
        "template": {
         "data": {
          "bar": [
           {
            "error_x": {
             "color": "#2a3f5f"
            },
            "error_y": {
             "color": "#2a3f5f"
            },
            "marker": {
             "line": {
              "color": "#E5ECF6",
              "width": 0.5
             },
             "pattern": {
              "fillmode": "overlay",
              "size": 10,
              "solidity": 0.2
             }
            },
            "type": "bar"
           }
          ],
          "barpolar": [
           {
            "marker": {
             "line": {
              "color": "#E5ECF6",
              "width": 0.5
             },
             "pattern": {
              "fillmode": "overlay",
              "size": 10,
              "solidity": 0.2
             }
            },
            "type": "barpolar"
           }
          ],
          "carpet": [
           {
            "aaxis": {
             "endlinecolor": "#2a3f5f",
             "gridcolor": "white",
             "linecolor": "white",
             "minorgridcolor": "white",
             "startlinecolor": "#2a3f5f"
            },
            "baxis": {
             "endlinecolor": "#2a3f5f",
             "gridcolor": "white",
             "linecolor": "white",
             "minorgridcolor": "white",
             "startlinecolor": "#2a3f5f"
            },
            "type": "carpet"
           }
          ],
          "choropleth": [
           {
            "colorbar": {
             "outlinewidth": 0,
             "ticks": ""
            },
            "type": "choropleth"
           }
          ],
          "contour": [
           {
            "colorbar": {
             "outlinewidth": 0,
             "ticks": ""
            },
            "colorscale": [
             [
              0,
              "#0d0887"
             ],
             [
              0.1111111111111111,
              "#46039f"
             ],
             [
              0.2222222222222222,
              "#7201a8"
             ],
             [
              0.3333333333333333,
              "#9c179e"
             ],
             [
              0.4444444444444444,
              "#bd3786"
             ],
             [
              0.5555555555555556,
              "#d8576b"
             ],
             [
              0.6666666666666666,
              "#ed7953"
             ],
             [
              0.7777777777777778,
              "#fb9f3a"
             ],
             [
              0.8888888888888888,
              "#fdca26"
             ],
             [
              1,
              "#f0f921"
             ]
            ],
            "type": "contour"
           }
          ],
          "contourcarpet": [
           {
            "colorbar": {
             "outlinewidth": 0,
             "ticks": ""
            },
            "type": "contourcarpet"
           }
          ],
          "heatmap": [
           {
            "colorbar": {
             "outlinewidth": 0,
             "ticks": ""
            },
            "colorscale": [
             [
              0,
              "#0d0887"
             ],
             [
              0.1111111111111111,
              "#46039f"
             ],
             [
              0.2222222222222222,
              "#7201a8"
             ],
             [
              0.3333333333333333,
              "#9c179e"
             ],
             [
              0.4444444444444444,
              "#bd3786"
             ],
             [
              0.5555555555555556,
              "#d8576b"
             ],
             [
              0.6666666666666666,
              "#ed7953"
             ],
             [
              0.7777777777777778,
              "#fb9f3a"
             ],
             [
              0.8888888888888888,
              "#fdca26"
             ],
             [
              1,
              "#f0f921"
             ]
            ],
            "type": "heatmap"
           }
          ],
          "histogram": [
           {
            "marker": {
             "pattern": {
              "fillmode": "overlay",
              "size": 10,
              "solidity": 0.2
             }
            },
            "type": "histogram"
           }
          ],
          "histogram2d": [
           {
            "colorbar": {
             "outlinewidth": 0,
             "ticks": ""
            },
            "colorscale": [
             [
              0,
              "#0d0887"
             ],
             [
              0.1111111111111111,
              "#46039f"
             ],
             [
              0.2222222222222222,
              "#7201a8"
             ],
             [
              0.3333333333333333,
              "#9c179e"
             ],
             [
              0.4444444444444444,
              "#bd3786"
             ],
             [
              0.5555555555555556,
              "#d8576b"
             ],
             [
              0.6666666666666666,
              "#ed7953"
             ],
             [
              0.7777777777777778,
              "#fb9f3a"
             ],
             [
              0.8888888888888888,
              "#fdca26"
             ],
             [
              1,
              "#f0f921"
             ]
            ],
            "type": "histogram2d"
           }
          ],
          "histogram2dcontour": [
           {
            "colorbar": {
             "outlinewidth": 0,
             "ticks": ""
            },
            "colorscale": [
             [
              0,
              "#0d0887"
             ],
             [
              0.1111111111111111,
              "#46039f"
             ],
             [
              0.2222222222222222,
              "#7201a8"
             ],
             [
              0.3333333333333333,
              "#9c179e"
             ],
             [
              0.4444444444444444,
              "#bd3786"
             ],
             [
              0.5555555555555556,
              "#d8576b"
             ],
             [
              0.6666666666666666,
              "#ed7953"
             ],
             [
              0.7777777777777778,
              "#fb9f3a"
             ],
             [
              0.8888888888888888,
              "#fdca26"
             ],
             [
              1,
              "#f0f921"
             ]
            ],
            "type": "histogram2dcontour"
           }
          ],
          "mesh3d": [
           {
            "colorbar": {
             "outlinewidth": 0,
             "ticks": ""
            },
            "type": "mesh3d"
           }
          ],
          "parcoords": [
           {
            "line": {
             "colorbar": {
              "outlinewidth": 0,
              "ticks": ""
             }
            },
            "type": "parcoords"
           }
          ],
          "pie": [
           {
            "automargin": true,
            "type": "pie"
           }
          ],
          "scatter": [
           {
            "fillpattern": {
             "fillmode": "overlay",
             "size": 10,
             "solidity": 0.2
            },
            "type": "scatter"
           }
          ],
          "scatter3d": [
           {
            "line": {
             "colorbar": {
              "outlinewidth": 0,
              "ticks": ""
             }
            },
            "marker": {
             "colorbar": {
              "outlinewidth": 0,
              "ticks": ""
             }
            },
            "type": "scatter3d"
           }
          ],
          "scattercarpet": [
           {
            "marker": {
             "colorbar": {
              "outlinewidth": 0,
              "ticks": ""
             }
            },
            "type": "scattercarpet"
           }
          ],
          "scattergeo": [
           {
            "marker": {
             "colorbar": {
              "outlinewidth": 0,
              "ticks": ""
             }
            },
            "type": "scattergeo"
           }
          ],
          "scattergl": [
           {
            "marker": {
             "colorbar": {
              "outlinewidth": 0,
              "ticks": ""
             }
            },
            "type": "scattergl"
           }
          ],
          "scattermap": [
           {
            "marker": {
             "colorbar": {
              "outlinewidth": 0,
              "ticks": ""
             }
            },
            "type": "scattermap"
           }
          ],
          "scattermapbox": [
           {
            "marker": {
             "colorbar": {
              "outlinewidth": 0,
              "ticks": ""
             }
            },
            "type": "scattermapbox"
           }
          ],
          "scatterpolar": [
           {
            "marker": {
             "colorbar": {
              "outlinewidth": 0,
              "ticks": ""
             }
            },
            "type": "scatterpolar"
           }
          ],
          "scatterpolargl": [
           {
            "marker": {
             "colorbar": {
              "outlinewidth": 0,
              "ticks": ""
             }
            },
            "type": "scatterpolargl"
           }
          ],
          "scatterternary": [
           {
            "marker": {
             "colorbar": {
              "outlinewidth": 0,
              "ticks": ""
             }
            },
            "type": "scatterternary"
           }
          ],
          "surface": [
           {
            "colorbar": {
             "outlinewidth": 0,
             "ticks": ""
            },
            "colorscale": [
             [
              0,
              "#0d0887"
             ],
             [
              0.1111111111111111,
              "#46039f"
             ],
             [
              0.2222222222222222,
              "#7201a8"
             ],
             [
              0.3333333333333333,
              "#9c179e"
             ],
             [
              0.4444444444444444,
              "#bd3786"
             ],
             [
              0.5555555555555556,
              "#d8576b"
             ],
             [
              0.6666666666666666,
              "#ed7953"
             ],
             [
              0.7777777777777778,
              "#fb9f3a"
             ],
             [
              0.8888888888888888,
              "#fdca26"
             ],
             [
              1,
              "#f0f921"
             ]
            ],
            "type": "surface"
           }
          ],
          "table": [
           {
            "cells": {
             "fill": {
              "color": "#EBF0F8"
             },
             "line": {
              "color": "white"
             }
            },
            "header": {
             "fill": {
              "color": "#C8D4E3"
             },
             "line": {
              "color": "white"
             }
            },
            "type": "table"
           }
          ]
         },
         "layout": {
          "annotationdefaults": {
           "arrowcolor": "#2a3f5f",
           "arrowhead": 0,
           "arrowwidth": 1
          },
          "autotypenumbers": "strict",
          "coloraxis": {
           "colorbar": {
            "outlinewidth": 0,
            "ticks": ""
           }
          },
          "colorscale": {
           "diverging": [
            [
             0,
             "#8e0152"
            ],
            [
             0.1,
             "#c51b7d"
            ],
            [
             0.2,
             "#de77ae"
            ],
            [
             0.3,
             "#f1b6da"
            ],
            [
             0.4,
             "#fde0ef"
            ],
            [
             0.5,
             "#f7f7f7"
            ],
            [
             0.6,
             "#e6f5d0"
            ],
            [
             0.7,
             "#b8e186"
            ],
            [
             0.8,
             "#7fbc41"
            ],
            [
             0.9,
             "#4d9221"
            ],
            [
             1,
             "#276419"
            ]
           ],
           "sequential": [
            [
             0,
             "#0d0887"
            ],
            [
             0.1111111111111111,
             "#46039f"
            ],
            [
             0.2222222222222222,
             "#7201a8"
            ],
            [
             0.3333333333333333,
             "#9c179e"
            ],
            [
             0.4444444444444444,
             "#bd3786"
            ],
            [
             0.5555555555555556,
             "#d8576b"
            ],
            [
             0.6666666666666666,
             "#ed7953"
            ],
            [
             0.7777777777777778,
             "#fb9f3a"
            ],
            [
             0.8888888888888888,
             "#fdca26"
            ],
            [
             1,
             "#f0f921"
            ]
           ],
           "sequentialminus": [
            [
             0,
             "#0d0887"
            ],
            [
             0.1111111111111111,
             "#46039f"
            ],
            [
             0.2222222222222222,
             "#7201a8"
            ],
            [
             0.3333333333333333,
             "#9c179e"
            ],
            [
             0.4444444444444444,
             "#bd3786"
            ],
            [
             0.5555555555555556,
             "#d8576b"
            ],
            [
             0.6666666666666666,
             "#ed7953"
            ],
            [
             0.7777777777777778,
             "#fb9f3a"
            ],
            [
             0.8888888888888888,
             "#fdca26"
            ],
            [
             1,
             "#f0f921"
            ]
           ]
          },
          "colorway": [
           "#636efa",
           "#EF553B",
           "#00cc96",
           "#ab63fa",
           "#FFA15A",
           "#19d3f3",
           "#FF6692",
           "#B6E880",
           "#FF97FF",
           "#FECB52"
          ],
          "font": {
           "color": "#2a3f5f"
          },
          "geo": {
           "bgcolor": "white",
           "lakecolor": "white",
           "landcolor": "#E5ECF6",
           "showlakes": true,
           "showland": true,
           "subunitcolor": "white"
          },
          "hoverlabel": {
           "align": "left"
          },
          "hovermode": "closest",
          "mapbox": {
           "style": "light"
          },
          "paper_bgcolor": "white",
          "plot_bgcolor": "#E5ECF6",
          "polar": {
           "angularaxis": {
            "gridcolor": "white",
            "linecolor": "white",
            "ticks": ""
           },
           "bgcolor": "#E5ECF6",
           "radialaxis": {
            "gridcolor": "white",
            "linecolor": "white",
            "ticks": ""
           }
          },
          "scene": {
           "xaxis": {
            "backgroundcolor": "#E5ECF6",
            "gridcolor": "white",
            "gridwidth": 2,
            "linecolor": "white",
            "showbackground": true,
            "ticks": "",
            "zerolinecolor": "white"
           },
           "yaxis": {
            "backgroundcolor": "#E5ECF6",
            "gridcolor": "white",
            "gridwidth": 2,
            "linecolor": "white",
            "showbackground": true,
            "ticks": "",
            "zerolinecolor": "white"
           },
           "zaxis": {
            "backgroundcolor": "#E5ECF6",
            "gridcolor": "white",
            "gridwidth": 2,
            "linecolor": "white",
            "showbackground": true,
            "ticks": "",
            "zerolinecolor": "white"
           }
          },
          "shapedefaults": {
           "line": {
            "color": "#2a3f5f"
           }
          },
          "ternary": {
           "aaxis": {
            "gridcolor": "white",
            "linecolor": "white",
            "ticks": ""
           },
           "baxis": {
            "gridcolor": "white",
            "linecolor": "white",
            "ticks": ""
           },
           "bgcolor": "#E5ECF6",
           "caxis": {
            "gridcolor": "white",
            "linecolor": "white",
            "ticks": ""
           }
          },
          "title": {
           "x": 0.05
          },
          "xaxis": {
           "automargin": true,
           "gridcolor": "white",
           "linecolor": "white",
           "ticks": "",
           "title": {
            "standoff": 15
           },
           "zerolinecolor": "white",
           "zerolinewidth": 2
          },
          "yaxis": {
           "automargin": true,
           "gridcolor": "white",
           "linecolor": "white",
           "ticks": "",
           "title": {
            "standoff": 15
           },
           "zerolinecolor": "white",
           "zerolinewidth": 2
          }
         }
        },
        "title": {
         "text": "Faceoff Wins by Zone"
        },
        "xaxis": {
         "anchor": "y",
         "domain": [
          0,
          1
         ],
         "title": {
          "text": "game_date"
         }
        },
        "yaxis": {
         "anchor": "x",
         "domain": [
          0,
          1
         ],
         "title": {
          "text": "Count"
         }
        }
       }
      }
     },
     "metadata": {},
     "output_type": "display_data"
    }
   ],
   "source": [
    "import plotly.tools as tls\n",
    "import plotly.express as px\n",
    "from plotly.io import to_html\n",
    "\n",
    "fig = px.bar(team_faceoff_zone_counts, x=\"game_date\", y=\"Count\", color=\"Zone\",\n",
    "             barmode=\"group\", title=\"Faceoff Wins by Zone\")\n",
    "\n",
    "chart_html = to_html(fig, include_plotlyjs=\"cdn\", full_html=False)\n",
    "\n",
    "fig"
   ]
  },
  {
   "cell_type": "code",
   "execution_count": 35,
   "metadata": {},
   "outputs": [
    {
     "ename": "NameError",
     "evalue": "name 'team_counts_per_detail_df' is not defined",
     "output_type": "error",
     "traceback": [
      "\u001b[31m---------------------------------------------------------------------------\u001b[39m",
      "\u001b[31mNameError\u001b[39m                                 Traceback (most recent call last)",
      "\u001b[36mCell\u001b[39m\u001b[36m \u001b[39m\u001b[32mIn[35]\u001b[39m\u001b[32m, line 2\u001b[39m\n\u001b[32m      1\u001b[39m \u001b[38;5;66;03m#team_counts_per_detail_df[\"Period\"] = team_counts_per_detail_df[\"Period\"].astype(\"category\")\u001b[39;00m\n\u001b[32m----> \u001b[39m\u001b[32m2\u001b[39m fig = px.bar(\u001b[43mteam_counts_per_detail_df\u001b[49m, x=\u001b[33m\"\u001b[39m\u001b[33mgame_date\u001b[39m\u001b[33m\"\u001b[39m, y=\u001b[33m\"\u001b[39m\u001b[33mCount\u001b[39m\u001b[33m\"\u001b[39m, color=\u001b[33m\"\u001b[39m\u001b[33mDetail 1\u001b[39m\u001b[33m\"\u001b[39m,\n\u001b[32m      3\u001b[39m              barmode=\u001b[33m\"\u001b[39m\u001b[33mgroup\u001b[39m\u001b[33m\"\u001b[39m, title=\u001b[33m\"\u001b[39m\u001b[33mZone Entries by Detail\u001b[39m\u001b[33m\"\u001b[39m)\n\u001b[32m      5\u001b[39m chart_html = to_html(fig, include_plotlyjs=\u001b[33m\"\u001b[39m\u001b[33mcdn\u001b[39m\u001b[33m\"\u001b[39m, full_html=\u001b[38;5;28;01mFalse\u001b[39;00m)\n\u001b[32m      7\u001b[39m fig\n",
      "\u001b[31mNameError\u001b[39m: name 'team_counts_per_detail_df' is not defined"
     ]
    }
   ],
   "source": [
    "#team_counts_per_detail_df[\"Period\"] = team_counts_per_detail_df[\"Period\"].astype(\"category\")\n",
    "fig = px.bar(team_counts_per_detail_df, x=\"game_date\", y=\"Count\", color=\"Detail 1\",\n",
    "             barmode=\"group\", title=\"Zone Entries by Detail\")\n",
    "\n",
    "chart_html = to_html(fig, include_plotlyjs=\"cdn\", full_html=False)\n",
    "\n",
    "fig"
   ]
  }
 ],
 "metadata": {
  "kernelspec": {
   "display_name": ".venv",
   "language": "python",
   "name": "python3"
  },
  "language_info": {
   "codemirror_mode": {
    "name": "ipython",
    "version": 3
   },
   "file_extension": ".py",
   "mimetype": "text/x-python",
   "name": "python",
   "nbconvert_exporter": "python",
   "pygments_lexer": "ipython3",
   "version": "3.11.4"
  }
 },
 "nbformat": 4,
 "nbformat_minor": 2
}
