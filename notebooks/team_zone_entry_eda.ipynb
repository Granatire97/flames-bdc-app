{
 "cells": [
  {
   "cell_type": "code",
   "execution_count": 1,
   "metadata": {},
   "outputs": [
    {
     "name": "stdout",
     "output_type": "stream",
     "text": [
      "['game_date', 'Home Team', 'Away Team', 'Period', 'Clock', 'Home Team Skaters', 'Away Team Skaters', 'Home Team Goals', 'Away Team Goals', 'Team', 'Player', 'Event', 'X Coordinate', 'Y Coordinate', 'Detail 1', 'Detail 2', 'Detail 3', 'Detail 4', 'Player 2', 'X Coordinate 2', 'Y Coordinate 2']\n"
     ]
    },
    {
     "data": {
      "text/html": [
       "<div>\n",
       "<style scoped>\n",
       "    .dataframe tbody tr th:only-of-type {\n",
       "        vertical-align: middle;\n",
       "    }\n",
       "\n",
       "    .dataframe tbody tr th {\n",
       "        vertical-align: top;\n",
       "    }\n",
       "\n",
       "    .dataframe thead th {\n",
       "        text-align: right;\n",
       "    }\n",
       "</style>\n",
       "<table border=\"1\" class=\"dataframe\">\n",
       "  <thead>\n",
       "    <tr style=\"text-align: right;\">\n",
       "      <th></th>\n",
       "      <th>game_date</th>\n",
       "      <th>Home Team</th>\n",
       "      <th>Away Team</th>\n",
       "      <th>Period</th>\n",
       "      <th>Home Team Skaters</th>\n",
       "      <th>Away Team Skaters</th>\n",
       "      <th>Team</th>\n",
       "      <th>Player</th>\n",
       "      <th>Event</th>\n",
       "      <th>X Coordinate</th>\n",
       "      <th>Y Coordinate</th>\n",
       "      <th>Detail 1</th>\n",
       "      <th>Detail 2</th>\n",
       "      <th>Detail 3</th>\n",
       "      <th>Detail 4</th>\n",
       "      <th>Player 2</th>\n",
       "    </tr>\n",
       "  </thead>\n",
       "  <tbody>\n",
       "    <tr>\n",
       "      <th>0</th>\n",
       "      <td>2018-02-11</td>\n",
       "      <td>Olympic (Women) - Canada</td>\n",
       "      <td>Olympic (Women) - Olympic Athletes from Russia</td>\n",
       "      <td>1</td>\n",
       "      <td>5</td>\n",
       "      <td>5</td>\n",
       "      <td>Olympic (Women) - Canada</td>\n",
       "      <td>Emily Clark</td>\n",
       "      <td>Faceoff Win</td>\n",
       "      <td>100</td>\n",
       "      <td>42</td>\n",
       "      <td>Backhand</td>\n",
       "      <td>NaN</td>\n",
       "      <td>NaN</td>\n",
       "      <td>NaN</td>\n",
       "      <td>Lyudmila Belyakova</td>\n",
       "    </tr>\n",
       "    <tr>\n",
       "      <th>1</th>\n",
       "      <td>2018-02-11</td>\n",
       "      <td>Olympic (Women) - Canada</td>\n",
       "      <td>Olympic (Women) - Olympic Athletes from Russia</td>\n",
       "      <td>1</td>\n",
       "      <td>5</td>\n",
       "      <td>5</td>\n",
       "      <td>Olympic (Women) - Canada</td>\n",
       "      <td>Meaghan Mikkelson</td>\n",
       "      <td>Puck Recovery</td>\n",
       "      <td>91</td>\n",
       "      <td>67</td>\n",
       "      <td>NaN</td>\n",
       "      <td>NaN</td>\n",
       "      <td>NaN</td>\n",
       "      <td>NaN</td>\n",
       "      <td>NaN</td>\n",
       "    </tr>\n",
       "    <tr>\n",
       "      <th>2</th>\n",
       "      <td>2018-02-11</td>\n",
       "      <td>Olympic (Women) - Canada</td>\n",
       "      <td>Olympic (Women) - Olympic Athletes from Russia</td>\n",
       "      <td>1</td>\n",
       "      <td>5</td>\n",
       "      <td>5</td>\n",
       "      <td>Olympic (Women) - Canada</td>\n",
       "      <td>Meaghan Mikkelson</td>\n",
       "      <td>Dump In/Out</td>\n",
       "      <td>106</td>\n",
       "      <td>81</td>\n",
       "      <td>Retained</td>\n",
       "      <td>NaN</td>\n",
       "      <td>NaN</td>\n",
       "      <td>NaN</td>\n",
       "      <td>NaN</td>\n",
       "    </tr>\n",
       "    <tr>\n",
       "      <th>3</th>\n",
       "      <td>2018-02-11</td>\n",
       "      <td>Olympic (Women) - Canada</td>\n",
       "      <td>Olympic (Women) - Olympic Athletes from Russia</td>\n",
       "      <td>1</td>\n",
       "      <td>5</td>\n",
       "      <td>5</td>\n",
       "      <td>Olympic (Women) - Canada</td>\n",
       "      <td>Meaghan Mikkelson</td>\n",
       "      <td>Zone Entry</td>\n",
       "      <td>106</td>\n",
       "      <td>81</td>\n",
       "      <td>Dumped</td>\n",
       "      <td>NaN</td>\n",
       "      <td>NaN</td>\n",
       "      <td>NaN</td>\n",
       "      <td>Liana Ganeyeva</td>\n",
       "    </tr>\n",
       "    <tr>\n",
       "      <th>4</th>\n",
       "      <td>2018-02-11</td>\n",
       "      <td>Olympic (Women) - Canada</td>\n",
       "      <td>Olympic (Women) - Olympic Athletes from Russia</td>\n",
       "      <td>1</td>\n",
       "      <td>5</td>\n",
       "      <td>5</td>\n",
       "      <td>Olympic (Women) - Canada</td>\n",
       "      <td>Sarah Nurse</td>\n",
       "      <td>Puck Recovery</td>\n",
       "      <td>168</td>\n",
       "      <td>1</td>\n",
       "      <td>NaN</td>\n",
       "      <td>NaN</td>\n",
       "      <td>NaN</td>\n",
       "      <td>NaN</td>\n",
       "      <td>NaN</td>\n",
       "    </tr>\n",
       "  </tbody>\n",
       "</table>\n",
       "</div>"
      ],
      "text/plain": [
       "   game_date                 Home Team  \\\n",
       "0 2018-02-11  Olympic (Women) - Canada   \n",
       "1 2018-02-11  Olympic (Women) - Canada   \n",
       "2 2018-02-11  Olympic (Women) - Canada   \n",
       "3 2018-02-11  Olympic (Women) - Canada   \n",
       "4 2018-02-11  Olympic (Women) - Canada   \n",
       "\n",
       "                                        Away Team  Period  Home Team Skaters  \\\n",
       "0  Olympic (Women) - Olympic Athletes from Russia       1                  5   \n",
       "1  Olympic (Women) - Olympic Athletes from Russia       1                  5   \n",
       "2  Olympic (Women) - Olympic Athletes from Russia       1                  5   \n",
       "3  Olympic (Women) - Olympic Athletes from Russia       1                  5   \n",
       "4  Olympic (Women) - Olympic Athletes from Russia       1                  5   \n",
       "\n",
       "   Away Team Skaters                      Team             Player  \\\n",
       "0                  5  Olympic (Women) - Canada        Emily Clark   \n",
       "1                  5  Olympic (Women) - Canada  Meaghan Mikkelson   \n",
       "2                  5  Olympic (Women) - Canada  Meaghan Mikkelson   \n",
       "3                  5  Olympic (Women) - Canada  Meaghan Mikkelson   \n",
       "4                  5  Olympic (Women) - Canada        Sarah Nurse   \n",
       "\n",
       "           Event  X Coordinate  Y Coordinate  Detail 1 Detail 2 Detail 3  \\\n",
       "0    Faceoff Win           100            42  Backhand      NaN      NaN   \n",
       "1  Puck Recovery            91            67       NaN      NaN      NaN   \n",
       "2    Dump In/Out           106            81  Retained      NaN      NaN   \n",
       "3     Zone Entry           106            81    Dumped      NaN      NaN   \n",
       "4  Puck Recovery           168             1       NaN      NaN      NaN   \n",
       "\n",
       "  Detail 4            Player 2  \n",
       "0      NaN  Lyudmila Belyakova  \n",
       "1      NaN                 NaN  \n",
       "2      NaN                 NaN  \n",
       "3      NaN      Liana Ganeyeva  \n",
       "4      NaN                 NaN  "
      ]
     },
     "execution_count": 1,
     "metadata": {},
     "output_type": "execute_result"
    }
   ],
   "source": [
    "import pandas as pd\n",
    "\n",
    "df = pd.read_csv(\"/Users/markgranatire/Documents/flames-bdc-app/data/files/olympic_womens_dataset.csv\")\n",
    "df.head()\n",
    "print(df.columns.tolist())\n",
    "\n",
    "df = df.drop([\"Clock\", \"Home Team Goals\", \"Away Team Goals\", \"X Coordinate 2\", \"Y Coordinate 2\"], axis=1)\n",
    "df['game_date'] = pd.to_datetime(df['game_date'])\n",
    "df.head()"
   ]
  },
  {
   "cell_type": "code",
   "execution_count": 2,
   "metadata": {},
   "outputs": [
    {
     "data": {
      "text/plain": [
       "array(['Olympic (Women) - Canada',\n",
       "       'Olympic (Women) - Olympic Athletes from Russia',\n",
       "       'Olympic (Women) - Finland', 'Olympic (Women) - United States',\n",
       "       'St. Lawrence Saints', 'Clarkson Golden Knights'], dtype=object)"
      ]
     },
     "execution_count": 2,
     "metadata": {},
     "output_type": "execute_result"
    }
   ],
   "source": [
    "df['Team'].unique()"
   ]
  },
  {
   "cell_type": "code",
   "execution_count": 3,
   "metadata": {},
   "outputs": [
    {
     "data": {
      "text/plain": [
       "array(['Olympic (Women) - Canada',\n",
       "       'Olympic (Women) - Olympic Athletes from Russia',\n",
       "       'Olympic (Women) - Finland', 'Olympic (Women) - United States'],\n",
       "      dtype=object)"
      ]
     },
     "execution_count": 3,
     "metadata": {},
     "output_type": "execute_result"
    }
   ],
   "source": [
    "df = df.drop(df[df[\"Team\"].isin([\"St. Lawrence Saints\", \"Clarkson Golden Knights\"])].index)\n",
    "df['Team'].unique()"
   ]
  },
  {
   "cell_type": "code",
   "execution_count": 4,
   "metadata": {},
   "outputs": [
    {
     "data": {
      "text/plain": [
       "array(['Canada', 'Russia', 'Finland', 'USA'], dtype=object)"
      ]
     },
     "execution_count": 4,
     "metadata": {},
     "output_type": "execute_result"
    }
   ],
   "source": [
    "df[\"Team\"] = df[\"Team\"].replace({\n",
    "    \"Olympic (Women) - Canada\": \"Canada\",\n",
    "    \"Olympic (Women) - Olympic Athletes from Russia\": \"Russia\",\n",
    "    \"Olympic (Women) - Finland\": \"Finland\",\n",
    "    \"Olympic (Women) - United States\": \"USA\"\n",
    "})\n",
    "df['Team'].unique()"
   ]
  },
  {
   "cell_type": "code",
   "execution_count": 5,
   "metadata": {},
   "outputs": [
    {
     "data": {
      "text/html": [
       "<div>\n",
       "<style scoped>\n",
       "    .dataframe tbody tr th:only-of-type {\n",
       "        vertical-align: middle;\n",
       "    }\n",
       "\n",
       "    .dataframe tbody tr th {\n",
       "        vertical-align: top;\n",
       "    }\n",
       "\n",
       "    .dataframe thead th {\n",
       "        text-align: right;\n",
       "    }\n",
       "</style>\n",
       "<table border=\"1\" class=\"dataframe\">\n",
       "  <thead>\n",
       "    <tr style=\"text-align: right;\">\n",
       "      <th></th>\n",
       "      <th>game_date</th>\n",
       "      <th>Home Team</th>\n",
       "      <th>Away Team</th>\n",
       "      <th>Period</th>\n",
       "      <th>Home Team Skaters</th>\n",
       "      <th>Away Team Skaters</th>\n",
       "      <th>Team</th>\n",
       "      <th>Player</th>\n",
       "      <th>Event</th>\n",
       "      <th>X Coordinate</th>\n",
       "      <th>Y Coordinate</th>\n",
       "      <th>Detail 1</th>\n",
       "      <th>Detail 2</th>\n",
       "      <th>Detail 3</th>\n",
       "      <th>Detail 4</th>\n",
       "      <th>Player 2</th>\n",
       "    </tr>\n",
       "  </thead>\n",
       "  <tbody>\n",
       "    <tr>\n",
       "      <th>3</th>\n",
       "      <td>2018-02-11</td>\n",
       "      <td>Olympic (Women) - Canada</td>\n",
       "      <td>Olympic (Women) - Olympic Athletes from Russia</td>\n",
       "      <td>1</td>\n",
       "      <td>5</td>\n",
       "      <td>5</td>\n",
       "      <td>Canada</td>\n",
       "      <td>Meaghan Mikkelson</td>\n",
       "      <td>Zone Entry</td>\n",
       "      <td>106</td>\n",
       "      <td>81</td>\n",
       "      <td>Dumped</td>\n",
       "      <td>NaN</td>\n",
       "      <td>NaN</td>\n",
       "      <td>NaN</td>\n",
       "      <td>Liana Ganeyeva</td>\n",
       "    </tr>\n",
       "    <tr>\n",
       "      <th>10</th>\n",
       "      <td>2018-02-11</td>\n",
       "      <td>Olympic (Women) - Canada</td>\n",
       "      <td>Olympic (Women) - Olympic Athletes from Russia</td>\n",
       "      <td>1</td>\n",
       "      <td>5</td>\n",
       "      <td>5</td>\n",
       "      <td>Russia</td>\n",
       "      <td>Valeria Pavlova</td>\n",
       "      <td>Zone Entry</td>\n",
       "      <td>124</td>\n",
       "      <td>2</td>\n",
       "      <td>Carried</td>\n",
       "      <td>NaN</td>\n",
       "      <td>NaN</td>\n",
       "      <td>NaN</td>\n",
       "      <td>Meaghan Mikkelson</td>\n",
       "    </tr>\n",
       "    <tr>\n",
       "      <th>15</th>\n",
       "      <td>2018-02-11</td>\n",
       "      <td>Olympic (Women) - Canada</td>\n",
       "      <td>Olympic (Women) - Olympic Athletes from Russia</td>\n",
       "      <td>1</td>\n",
       "      <td>5</td>\n",
       "      <td>5</td>\n",
       "      <td>Canada</td>\n",
       "      <td>Sarah Nurse</td>\n",
       "      <td>Zone Entry</td>\n",
       "      <td>97</td>\n",
       "      <td>3</td>\n",
       "      <td>Dumped</td>\n",
       "      <td>NaN</td>\n",
       "      <td>NaN</td>\n",
       "      <td>NaN</td>\n",
       "      <td>Angelina Goncharenko</td>\n",
       "    </tr>\n",
       "    <tr>\n",
       "      <th>21</th>\n",
       "      <td>2018-02-11</td>\n",
       "      <td>Olympic (Women) - Canada</td>\n",
       "      <td>Olympic (Women) - Olympic Athletes from Russia</td>\n",
       "      <td>1</td>\n",
       "      <td>5</td>\n",
       "      <td>5</td>\n",
       "      <td>Canada</td>\n",
       "      <td>Melodie Daoust</td>\n",
       "      <td>Zone Entry</td>\n",
       "      <td>125</td>\n",
       "      <td>31</td>\n",
       "      <td>Played</td>\n",
       "      <td>NaN</td>\n",
       "      <td>NaN</td>\n",
       "      <td>NaN</td>\n",
       "      <td>Angelina Goncharenko</td>\n",
       "    </tr>\n",
       "    <tr>\n",
       "      <th>28</th>\n",
       "      <td>2018-02-11</td>\n",
       "      <td>Olympic (Women) - Canada</td>\n",
       "      <td>Olympic (Women) - Olympic Athletes from Russia</td>\n",
       "      <td>1</td>\n",
       "      <td>5</td>\n",
       "      <td>5</td>\n",
       "      <td>Canada</td>\n",
       "      <td>Marie-Philip Poulin</td>\n",
       "      <td>Zone Entry</td>\n",
       "      <td>125</td>\n",
       "      <td>79</td>\n",
       "      <td>Carried</td>\n",
       "      <td>NaN</td>\n",
       "      <td>NaN</td>\n",
       "      <td>NaN</td>\n",
       "      <td>Angelina Goncharenko</td>\n",
       "    </tr>\n",
       "  </tbody>\n",
       "</table>\n",
       "</div>"
      ],
      "text/plain": [
       "    game_date                 Home Team  \\\n",
       "3  2018-02-11  Olympic (Women) - Canada   \n",
       "10 2018-02-11  Olympic (Women) - Canada   \n",
       "15 2018-02-11  Olympic (Women) - Canada   \n",
       "21 2018-02-11  Olympic (Women) - Canada   \n",
       "28 2018-02-11  Olympic (Women) - Canada   \n",
       "\n",
       "                                         Away Team  Period  Home Team Skaters  \\\n",
       "3   Olympic (Women) - Olympic Athletes from Russia       1                  5   \n",
       "10  Olympic (Women) - Olympic Athletes from Russia       1                  5   \n",
       "15  Olympic (Women) - Olympic Athletes from Russia       1                  5   \n",
       "21  Olympic (Women) - Olympic Athletes from Russia       1                  5   \n",
       "28  Olympic (Women) - Olympic Athletes from Russia       1                  5   \n",
       "\n",
       "    Away Team Skaters    Team               Player       Event  X Coordinate  \\\n",
       "3                   5  Canada    Meaghan Mikkelson  Zone Entry           106   \n",
       "10                  5  Russia      Valeria Pavlova  Zone Entry           124   \n",
       "15                  5  Canada          Sarah Nurse  Zone Entry            97   \n",
       "21                  5  Canada       Melodie Daoust  Zone Entry           125   \n",
       "28                  5  Canada  Marie-Philip Poulin  Zone Entry           125   \n",
       "\n",
       "    Y Coordinate Detail 1 Detail 2 Detail 3 Detail 4              Player 2  \n",
       "3             81   Dumped      NaN      NaN      NaN        Liana Ganeyeva  \n",
       "10             2  Carried      NaN      NaN      NaN     Meaghan Mikkelson  \n",
       "15             3   Dumped      NaN      NaN      NaN  Angelina Goncharenko  \n",
       "21            31   Played      NaN      NaN      NaN  Angelina Goncharenko  \n",
       "28            79  Carried      NaN      NaN      NaN  Angelina Goncharenko  "
      ]
     },
     "execution_count": 5,
     "metadata": {},
     "output_type": "execute_result"
    }
   ],
   "source": [
    "zone_df = df[df[\"Event\"].str.contains(\"Zone\")]\n",
    "zone_df.head()"
   ]
  },
  {
   "cell_type": "code",
   "execution_count": 6,
   "metadata": {},
   "outputs": [],
   "source": [
    "def rink_area(x):\n",
    "    if 0 <= x < 75:\n",
    "        return \"Defensive Zone\"\n",
    "    elif 75 <= x <= 125:\n",
    "        return \"Neutral Zone\"\n",
    "    else: \n",
    "        return \"Offensive Zone\""
   ]
  },
  {
   "cell_type": "code",
   "execution_count": 7,
   "metadata": {},
   "outputs": [
    {
     "name": "stderr",
     "output_type": "stream",
     "text": [
      "/var/folders/mn/zxv9btt5163290xr8yjc8v5h0000gn/T/ipykernel_27261/1715203218.py:1: SettingWithCopyWarning: \n",
      "A value is trying to be set on a copy of a slice from a DataFrame.\n",
      "Try using .loc[row_indexer,col_indexer] = value instead\n",
      "\n",
      "See the caveats in the documentation: https://pandas.pydata.org/pandas-docs/stable/user_guide/indexing.html#returning-a-view-versus-a-copy\n",
      "  zone_df[\"Zone\"] = zone_df.apply(lambda x: rink_area(x[\"X Coordinate\"]), axis = 1)\n"
     ]
    },
    {
     "data": {
      "text/html": [
       "<div>\n",
       "<style scoped>\n",
       "    .dataframe tbody tr th:only-of-type {\n",
       "        vertical-align: middle;\n",
       "    }\n",
       "\n",
       "    .dataframe tbody tr th {\n",
       "        vertical-align: top;\n",
       "    }\n",
       "\n",
       "    .dataframe thead th {\n",
       "        text-align: right;\n",
       "    }\n",
       "</style>\n",
       "<table border=\"1\" class=\"dataframe\">\n",
       "  <thead>\n",
       "    <tr style=\"text-align: right;\">\n",
       "      <th></th>\n",
       "      <th>game_date</th>\n",
       "      <th>Home Team</th>\n",
       "      <th>Away Team</th>\n",
       "      <th>Period</th>\n",
       "      <th>Home Team Skaters</th>\n",
       "      <th>Away Team Skaters</th>\n",
       "      <th>Team</th>\n",
       "      <th>Player</th>\n",
       "      <th>Event</th>\n",
       "      <th>X Coordinate</th>\n",
       "      <th>Y Coordinate</th>\n",
       "      <th>Detail 1</th>\n",
       "      <th>Detail 2</th>\n",
       "      <th>Detail 3</th>\n",
       "      <th>Detail 4</th>\n",
       "      <th>Player 2</th>\n",
       "      <th>Zone</th>\n",
       "    </tr>\n",
       "  </thead>\n",
       "  <tbody>\n",
       "    <tr>\n",
       "      <th>3</th>\n",
       "      <td>2018-02-11</td>\n",
       "      <td>Olympic (Women) - Canada</td>\n",
       "      <td>Olympic (Women) - Olympic Athletes from Russia</td>\n",
       "      <td>1</td>\n",
       "      <td>5</td>\n",
       "      <td>5</td>\n",
       "      <td>Canada</td>\n",
       "      <td>Meaghan Mikkelson</td>\n",
       "      <td>Zone Entry</td>\n",
       "      <td>106</td>\n",
       "      <td>81</td>\n",
       "      <td>Dumped</td>\n",
       "      <td>NaN</td>\n",
       "      <td>NaN</td>\n",
       "      <td>NaN</td>\n",
       "      <td>Liana Ganeyeva</td>\n",
       "      <td>Neutral Zone</td>\n",
       "    </tr>\n",
       "    <tr>\n",
       "      <th>10</th>\n",
       "      <td>2018-02-11</td>\n",
       "      <td>Olympic (Women) - Canada</td>\n",
       "      <td>Olympic (Women) - Olympic Athletes from Russia</td>\n",
       "      <td>1</td>\n",
       "      <td>5</td>\n",
       "      <td>5</td>\n",
       "      <td>Russia</td>\n",
       "      <td>Valeria Pavlova</td>\n",
       "      <td>Zone Entry</td>\n",
       "      <td>124</td>\n",
       "      <td>2</td>\n",
       "      <td>Carried</td>\n",
       "      <td>NaN</td>\n",
       "      <td>NaN</td>\n",
       "      <td>NaN</td>\n",
       "      <td>Meaghan Mikkelson</td>\n",
       "      <td>Neutral Zone</td>\n",
       "    </tr>\n",
       "    <tr>\n",
       "      <th>15</th>\n",
       "      <td>2018-02-11</td>\n",
       "      <td>Olympic (Women) - Canada</td>\n",
       "      <td>Olympic (Women) - Olympic Athletes from Russia</td>\n",
       "      <td>1</td>\n",
       "      <td>5</td>\n",
       "      <td>5</td>\n",
       "      <td>Canada</td>\n",
       "      <td>Sarah Nurse</td>\n",
       "      <td>Zone Entry</td>\n",
       "      <td>97</td>\n",
       "      <td>3</td>\n",
       "      <td>Dumped</td>\n",
       "      <td>NaN</td>\n",
       "      <td>NaN</td>\n",
       "      <td>NaN</td>\n",
       "      <td>Angelina Goncharenko</td>\n",
       "      <td>Neutral Zone</td>\n",
       "    </tr>\n",
       "    <tr>\n",
       "      <th>21</th>\n",
       "      <td>2018-02-11</td>\n",
       "      <td>Olympic (Women) - Canada</td>\n",
       "      <td>Olympic (Women) - Olympic Athletes from Russia</td>\n",
       "      <td>1</td>\n",
       "      <td>5</td>\n",
       "      <td>5</td>\n",
       "      <td>Canada</td>\n",
       "      <td>Melodie Daoust</td>\n",
       "      <td>Zone Entry</td>\n",
       "      <td>125</td>\n",
       "      <td>31</td>\n",
       "      <td>Played</td>\n",
       "      <td>NaN</td>\n",
       "      <td>NaN</td>\n",
       "      <td>NaN</td>\n",
       "      <td>Angelina Goncharenko</td>\n",
       "      <td>Neutral Zone</td>\n",
       "    </tr>\n",
       "    <tr>\n",
       "      <th>28</th>\n",
       "      <td>2018-02-11</td>\n",
       "      <td>Olympic (Women) - Canada</td>\n",
       "      <td>Olympic (Women) - Olympic Athletes from Russia</td>\n",
       "      <td>1</td>\n",
       "      <td>5</td>\n",
       "      <td>5</td>\n",
       "      <td>Canada</td>\n",
       "      <td>Marie-Philip Poulin</td>\n",
       "      <td>Zone Entry</td>\n",
       "      <td>125</td>\n",
       "      <td>79</td>\n",
       "      <td>Carried</td>\n",
       "      <td>NaN</td>\n",
       "      <td>NaN</td>\n",
       "      <td>NaN</td>\n",
       "      <td>Angelina Goncharenko</td>\n",
       "      <td>Neutral Zone</td>\n",
       "    </tr>\n",
       "    <tr>\n",
       "      <th>34</th>\n",
       "      <td>2018-02-11</td>\n",
       "      <td>Olympic (Women) - Canada</td>\n",
       "      <td>Olympic (Women) - Olympic Athletes from Russia</td>\n",
       "      <td>1</td>\n",
       "      <td>5</td>\n",
       "      <td>5</td>\n",
       "      <td>Canada</td>\n",
       "      <td>Marie-Philip Poulin</td>\n",
       "      <td>Zone Entry</td>\n",
       "      <td>124</td>\n",
       "      <td>70</td>\n",
       "      <td>Carried</td>\n",
       "      <td>NaN</td>\n",
       "      <td>NaN</td>\n",
       "      <td>NaN</td>\n",
       "      <td>Angelina Goncharenko</td>\n",
       "      <td>Neutral Zone</td>\n",
       "    </tr>\n",
       "    <tr>\n",
       "      <th>76</th>\n",
       "      <td>2018-02-11</td>\n",
       "      <td>Olympic (Women) - Canada</td>\n",
       "      <td>Olympic (Women) - Olympic Athletes from Russia</td>\n",
       "      <td>1</td>\n",
       "      <td>5</td>\n",
       "      <td>4</td>\n",
       "      <td>Canada</td>\n",
       "      <td>Natalie Spooner</td>\n",
       "      <td>Zone Entry</td>\n",
       "      <td>125</td>\n",
       "      <td>64</td>\n",
       "      <td>Carried</td>\n",
       "      <td>NaN</td>\n",
       "      <td>NaN</td>\n",
       "      <td>NaN</td>\n",
       "      <td>Maria Batalova</td>\n",
       "      <td>Neutral Zone</td>\n",
       "    </tr>\n",
       "    <tr>\n",
       "      <th>94</th>\n",
       "      <td>2018-02-11</td>\n",
       "      <td>Olympic (Women) - Canada</td>\n",
       "      <td>Olympic (Women) - Olympic Athletes from Russia</td>\n",
       "      <td>1</td>\n",
       "      <td>5</td>\n",
       "      <td>4</td>\n",
       "      <td>Canada</td>\n",
       "      <td>Rebecca Johnston</td>\n",
       "      <td>Zone Entry</td>\n",
       "      <td>124</td>\n",
       "      <td>8</td>\n",
       "      <td>Carried</td>\n",
       "      <td>NaN</td>\n",
       "      <td>NaN</td>\n",
       "      <td>NaN</td>\n",
       "      <td>Liana Ganeyeva</td>\n",
       "      <td>Neutral Zone</td>\n",
       "    </tr>\n",
       "    <tr>\n",
       "      <th>104</th>\n",
       "      <td>2018-02-11</td>\n",
       "      <td>Olympic (Women) - Canada</td>\n",
       "      <td>Olympic (Women) - Olympic Athletes from Russia</td>\n",
       "      <td>1</td>\n",
       "      <td>5</td>\n",
       "      <td>5</td>\n",
       "      <td>Canada</td>\n",
       "      <td>Melodie Daoust</td>\n",
       "      <td>Zone Entry</td>\n",
       "      <td>124</td>\n",
       "      <td>80</td>\n",
       "      <td>Carried</td>\n",
       "      <td>NaN</td>\n",
       "      <td>NaN</td>\n",
       "      <td>NaN</td>\n",
       "      <td>Yekaterina Nikolayeva</td>\n",
       "      <td>Neutral Zone</td>\n",
       "    </tr>\n",
       "    <tr>\n",
       "      <th>110</th>\n",
       "      <td>2018-02-11</td>\n",
       "      <td>Olympic (Women) - Canada</td>\n",
       "      <td>Olympic (Women) - Olympic Athletes from Russia</td>\n",
       "      <td>1</td>\n",
       "      <td>5</td>\n",
       "      <td>5</td>\n",
       "      <td>Russia</td>\n",
       "      <td>Valeria Pavlova</td>\n",
       "      <td>Zone Entry</td>\n",
       "      <td>125</td>\n",
       "      <td>31</td>\n",
       "      <td>Carried</td>\n",
       "      <td>NaN</td>\n",
       "      <td>NaN</td>\n",
       "      <td>NaN</td>\n",
       "      <td>Jocelyne Larocque</td>\n",
       "      <td>Neutral Zone</td>\n",
       "    </tr>\n",
       "    <tr>\n",
       "      <th>117</th>\n",
       "      <td>2018-02-11</td>\n",
       "      <td>Olympic (Women) - Canada</td>\n",
       "      <td>Olympic (Women) - Olympic Athletes from Russia</td>\n",
       "      <td>1</td>\n",
       "      <td>5</td>\n",
       "      <td>5</td>\n",
       "      <td>Canada</td>\n",
       "      <td>Emily Clark</td>\n",
       "      <td>Zone Entry</td>\n",
       "      <td>125</td>\n",
       "      <td>4</td>\n",
       "      <td>Carried</td>\n",
       "      <td>NaN</td>\n",
       "      <td>NaN</td>\n",
       "      <td>NaN</td>\n",
       "      <td>Yekaterina Nikolayeva</td>\n",
       "      <td>Neutral Zone</td>\n",
       "    </tr>\n",
       "    <tr>\n",
       "      <th>128</th>\n",
       "      <td>2018-02-11</td>\n",
       "      <td>Olympic (Women) - Canada</td>\n",
       "      <td>Olympic (Women) - Olympic Athletes from Russia</td>\n",
       "      <td>1</td>\n",
       "      <td>5</td>\n",
       "      <td>5</td>\n",
       "      <td>Canada</td>\n",
       "      <td>Emily Clark</td>\n",
       "      <td>Zone Entry</td>\n",
       "      <td>98</td>\n",
       "      <td>80</td>\n",
       "      <td>Dumped</td>\n",
       "      <td>NaN</td>\n",
       "      <td>NaN</td>\n",
       "      <td>NaN</td>\n",
       "      <td>Nina Pirogova</td>\n",
       "      <td>Neutral Zone</td>\n",
       "    </tr>\n",
       "    <tr>\n",
       "      <th>139</th>\n",
       "      <td>2018-02-11</td>\n",
       "      <td>Olympic (Women) - Canada</td>\n",
       "      <td>Olympic (Women) - Olympic Athletes from Russia</td>\n",
       "      <td>1</td>\n",
       "      <td>5</td>\n",
       "      <td>5</td>\n",
       "      <td>Canada</td>\n",
       "      <td>Rebecca Johnston</td>\n",
       "      <td>Zone Entry</td>\n",
       "      <td>123</td>\n",
       "      <td>80</td>\n",
       "      <td>Carried</td>\n",
       "      <td>NaN</td>\n",
       "      <td>NaN</td>\n",
       "      <td>NaN</td>\n",
       "      <td>Angelina Goncharenko</td>\n",
       "      <td>Neutral Zone</td>\n",
       "    </tr>\n",
       "    <tr>\n",
       "      <th>147</th>\n",
       "      <td>2018-02-11</td>\n",
       "      <td>Olympic (Women) - Canada</td>\n",
       "      <td>Olympic (Women) - Olympic Athletes from Russia</td>\n",
       "      <td>1</td>\n",
       "      <td>5</td>\n",
       "      <td>5</td>\n",
       "      <td>Russia</td>\n",
       "      <td>Anna Shokhina</td>\n",
       "      <td>Zone Entry</td>\n",
       "      <td>115</td>\n",
       "      <td>72</td>\n",
       "      <td>Dumped</td>\n",
       "      <td>NaN</td>\n",
       "      <td>NaN</td>\n",
       "      <td>NaN</td>\n",
       "      <td>Jocelyne Larocque</td>\n",
       "      <td>Neutral Zone</td>\n",
       "    </tr>\n",
       "    <tr>\n",
       "      <th>151</th>\n",
       "      <td>2018-02-11</td>\n",
       "      <td>Olympic (Women) - Canada</td>\n",
       "      <td>Olympic (Women) - Olympic Athletes from Russia</td>\n",
       "      <td>1</td>\n",
       "      <td>5</td>\n",
       "      <td>5</td>\n",
       "      <td>Canada</td>\n",
       "      <td>Marie-Philip Poulin</td>\n",
       "      <td>Zone Entry</td>\n",
       "      <td>125</td>\n",
       "      <td>47</td>\n",
       "      <td>Carried</td>\n",
       "      <td>NaN</td>\n",
       "      <td>NaN</td>\n",
       "      <td>NaN</td>\n",
       "      <td>Maria Batalova</td>\n",
       "      <td>Neutral Zone</td>\n",
       "    </tr>\n",
       "    <tr>\n",
       "      <th>161</th>\n",
       "      <td>2018-02-11</td>\n",
       "      <td>Olympic (Women) - Canada</td>\n",
       "      <td>Olympic (Women) - Olympic Athletes from Russia</td>\n",
       "      <td>1</td>\n",
       "      <td>5</td>\n",
       "      <td>5</td>\n",
       "      <td>Canada</td>\n",
       "      <td>Melodie Daoust</td>\n",
       "      <td>Zone Entry</td>\n",
       "      <td>125</td>\n",
       "      <td>44</td>\n",
       "      <td>Carried</td>\n",
       "      <td>NaN</td>\n",
       "      <td>NaN</td>\n",
       "      <td>NaN</td>\n",
       "      <td>Yekaterina Lovova</td>\n",
       "      <td>Neutral Zone</td>\n",
       "    </tr>\n",
       "    <tr>\n",
       "      <th>171</th>\n",
       "      <td>2018-02-11</td>\n",
       "      <td>Olympic (Women) - Canada</td>\n",
       "      <td>Olympic (Women) - Olympic Athletes from Russia</td>\n",
       "      <td>1</td>\n",
       "      <td>5</td>\n",
       "      <td>5</td>\n",
       "      <td>Canada</td>\n",
       "      <td>Jennifer Wakefield</td>\n",
       "      <td>Zone Entry</td>\n",
       "      <td>124</td>\n",
       "      <td>53</td>\n",
       "      <td>Played</td>\n",
       "      <td>NaN</td>\n",
       "      <td>NaN</td>\n",
       "      <td>NaN</td>\n",
       "      <td>Yekaterina Nikolayeva</td>\n",
       "      <td>Neutral Zone</td>\n",
       "    </tr>\n",
       "    <tr>\n",
       "      <th>176</th>\n",
       "      <td>2018-02-11</td>\n",
       "      <td>Olympic (Women) - Canada</td>\n",
       "      <td>Olympic (Women) - Olympic Athletes from Russia</td>\n",
       "      <td>1</td>\n",
       "      <td>5</td>\n",
       "      <td>5</td>\n",
       "      <td>Canada</td>\n",
       "      <td>Natalie Spooner</td>\n",
       "      <td>Zone Entry</td>\n",
       "      <td>123</td>\n",
       "      <td>49</td>\n",
       "      <td>Carried</td>\n",
       "      <td>NaN</td>\n",
       "      <td>NaN</td>\n",
       "      <td>NaN</td>\n",
       "      <td>Yekaterina Lovova</td>\n",
       "      <td>Neutral Zone</td>\n",
       "    </tr>\n",
       "    <tr>\n",
       "      <th>180</th>\n",
       "      <td>2018-02-11</td>\n",
       "      <td>Olympic (Women) - Canada</td>\n",
       "      <td>Olympic (Women) - Olympic Athletes from Russia</td>\n",
       "      <td>1</td>\n",
       "      <td>5</td>\n",
       "      <td>5</td>\n",
       "      <td>Canada</td>\n",
       "      <td>Brigette Lacquette</td>\n",
       "      <td>Zone Entry</td>\n",
       "      <td>96</td>\n",
       "      <td>61</td>\n",
       "      <td>Dumped</td>\n",
       "      <td>NaN</td>\n",
       "      <td>NaN</td>\n",
       "      <td>NaN</td>\n",
       "      <td>Nina Pirogova</td>\n",
       "      <td>Neutral Zone</td>\n",
       "    </tr>\n",
       "    <tr>\n",
       "      <th>184</th>\n",
       "      <td>2018-02-11</td>\n",
       "      <td>Olympic (Women) - Canada</td>\n",
       "      <td>Olympic (Women) - Olympic Athletes from Russia</td>\n",
       "      <td>1</td>\n",
       "      <td>5</td>\n",
       "      <td>5</td>\n",
       "      <td>Canada</td>\n",
       "      <td>Brigette Lacquette</td>\n",
       "      <td>Zone Entry</td>\n",
       "      <td>116</td>\n",
       "      <td>81</td>\n",
       "      <td>Dumped</td>\n",
       "      <td>NaN</td>\n",
       "      <td>NaN</td>\n",
       "      <td>NaN</td>\n",
       "      <td>Nina Pirogova</td>\n",
       "      <td>Neutral Zone</td>\n",
       "    </tr>\n",
       "  </tbody>\n",
       "</table>\n",
       "</div>"
      ],
      "text/plain": [
       "     game_date                 Home Team  \\\n",
       "3   2018-02-11  Olympic (Women) - Canada   \n",
       "10  2018-02-11  Olympic (Women) - Canada   \n",
       "15  2018-02-11  Olympic (Women) - Canada   \n",
       "21  2018-02-11  Olympic (Women) - Canada   \n",
       "28  2018-02-11  Olympic (Women) - Canada   \n",
       "34  2018-02-11  Olympic (Women) - Canada   \n",
       "76  2018-02-11  Olympic (Women) - Canada   \n",
       "94  2018-02-11  Olympic (Women) - Canada   \n",
       "104 2018-02-11  Olympic (Women) - Canada   \n",
       "110 2018-02-11  Olympic (Women) - Canada   \n",
       "117 2018-02-11  Olympic (Women) - Canada   \n",
       "128 2018-02-11  Olympic (Women) - Canada   \n",
       "139 2018-02-11  Olympic (Women) - Canada   \n",
       "147 2018-02-11  Olympic (Women) - Canada   \n",
       "151 2018-02-11  Olympic (Women) - Canada   \n",
       "161 2018-02-11  Olympic (Women) - Canada   \n",
       "171 2018-02-11  Olympic (Women) - Canada   \n",
       "176 2018-02-11  Olympic (Women) - Canada   \n",
       "180 2018-02-11  Olympic (Women) - Canada   \n",
       "184 2018-02-11  Olympic (Women) - Canada   \n",
       "\n",
       "                                          Away Team  Period  \\\n",
       "3    Olympic (Women) - Olympic Athletes from Russia       1   \n",
       "10   Olympic (Women) - Olympic Athletes from Russia       1   \n",
       "15   Olympic (Women) - Olympic Athletes from Russia       1   \n",
       "21   Olympic (Women) - Olympic Athletes from Russia       1   \n",
       "28   Olympic (Women) - Olympic Athletes from Russia       1   \n",
       "34   Olympic (Women) - Olympic Athletes from Russia       1   \n",
       "76   Olympic (Women) - Olympic Athletes from Russia       1   \n",
       "94   Olympic (Women) - Olympic Athletes from Russia       1   \n",
       "104  Olympic (Women) - Olympic Athletes from Russia       1   \n",
       "110  Olympic (Women) - Olympic Athletes from Russia       1   \n",
       "117  Olympic (Women) - Olympic Athletes from Russia       1   \n",
       "128  Olympic (Women) - Olympic Athletes from Russia       1   \n",
       "139  Olympic (Women) - Olympic Athletes from Russia       1   \n",
       "147  Olympic (Women) - Olympic Athletes from Russia       1   \n",
       "151  Olympic (Women) - Olympic Athletes from Russia       1   \n",
       "161  Olympic (Women) - Olympic Athletes from Russia       1   \n",
       "171  Olympic (Women) - Olympic Athletes from Russia       1   \n",
       "176  Olympic (Women) - Olympic Athletes from Russia       1   \n",
       "180  Olympic (Women) - Olympic Athletes from Russia       1   \n",
       "184  Olympic (Women) - Olympic Athletes from Russia       1   \n",
       "\n",
       "     Home Team Skaters  Away Team Skaters    Team               Player  \\\n",
       "3                    5                  5  Canada    Meaghan Mikkelson   \n",
       "10                   5                  5  Russia      Valeria Pavlova   \n",
       "15                   5                  5  Canada          Sarah Nurse   \n",
       "21                   5                  5  Canada       Melodie Daoust   \n",
       "28                   5                  5  Canada  Marie-Philip Poulin   \n",
       "34                   5                  5  Canada  Marie-Philip Poulin   \n",
       "76                   5                  4  Canada      Natalie Spooner   \n",
       "94                   5                  4  Canada     Rebecca Johnston   \n",
       "104                  5                  5  Canada       Melodie Daoust   \n",
       "110                  5                  5  Russia      Valeria Pavlova   \n",
       "117                  5                  5  Canada          Emily Clark   \n",
       "128                  5                  5  Canada          Emily Clark   \n",
       "139                  5                  5  Canada     Rebecca Johnston   \n",
       "147                  5                  5  Russia        Anna Shokhina   \n",
       "151                  5                  5  Canada  Marie-Philip Poulin   \n",
       "161                  5                  5  Canada       Melodie Daoust   \n",
       "171                  5                  5  Canada   Jennifer Wakefield   \n",
       "176                  5                  5  Canada      Natalie Spooner   \n",
       "180                  5                  5  Canada   Brigette Lacquette   \n",
       "184                  5                  5  Canada   Brigette Lacquette   \n",
       "\n",
       "          Event  X Coordinate  Y Coordinate Detail 1 Detail 2 Detail 3  \\\n",
       "3    Zone Entry           106            81   Dumped      NaN      NaN   \n",
       "10   Zone Entry           124             2  Carried      NaN      NaN   \n",
       "15   Zone Entry            97             3   Dumped      NaN      NaN   \n",
       "21   Zone Entry           125            31   Played      NaN      NaN   \n",
       "28   Zone Entry           125            79  Carried      NaN      NaN   \n",
       "34   Zone Entry           124            70  Carried      NaN      NaN   \n",
       "76   Zone Entry           125            64  Carried      NaN      NaN   \n",
       "94   Zone Entry           124             8  Carried      NaN      NaN   \n",
       "104  Zone Entry           124            80  Carried      NaN      NaN   \n",
       "110  Zone Entry           125            31  Carried      NaN      NaN   \n",
       "117  Zone Entry           125             4  Carried      NaN      NaN   \n",
       "128  Zone Entry            98            80   Dumped      NaN      NaN   \n",
       "139  Zone Entry           123            80  Carried      NaN      NaN   \n",
       "147  Zone Entry           115            72   Dumped      NaN      NaN   \n",
       "151  Zone Entry           125            47  Carried      NaN      NaN   \n",
       "161  Zone Entry           125            44  Carried      NaN      NaN   \n",
       "171  Zone Entry           124            53   Played      NaN      NaN   \n",
       "176  Zone Entry           123            49  Carried      NaN      NaN   \n",
       "180  Zone Entry            96            61   Dumped      NaN      NaN   \n",
       "184  Zone Entry           116            81   Dumped      NaN      NaN   \n",
       "\n",
       "    Detail 4               Player 2          Zone  \n",
       "3        NaN         Liana Ganeyeva  Neutral Zone  \n",
       "10       NaN      Meaghan Mikkelson  Neutral Zone  \n",
       "15       NaN   Angelina Goncharenko  Neutral Zone  \n",
       "21       NaN   Angelina Goncharenko  Neutral Zone  \n",
       "28       NaN   Angelina Goncharenko  Neutral Zone  \n",
       "34       NaN   Angelina Goncharenko  Neutral Zone  \n",
       "76       NaN         Maria Batalova  Neutral Zone  \n",
       "94       NaN         Liana Ganeyeva  Neutral Zone  \n",
       "104      NaN  Yekaterina Nikolayeva  Neutral Zone  \n",
       "110      NaN      Jocelyne Larocque  Neutral Zone  \n",
       "117      NaN  Yekaterina Nikolayeva  Neutral Zone  \n",
       "128      NaN          Nina Pirogova  Neutral Zone  \n",
       "139      NaN   Angelina Goncharenko  Neutral Zone  \n",
       "147      NaN      Jocelyne Larocque  Neutral Zone  \n",
       "151      NaN         Maria Batalova  Neutral Zone  \n",
       "161      NaN      Yekaterina Lovova  Neutral Zone  \n",
       "171      NaN  Yekaterina Nikolayeva  Neutral Zone  \n",
       "176      NaN      Yekaterina Lovova  Neutral Zone  \n",
       "180      NaN          Nina Pirogova  Neutral Zone  \n",
       "184      NaN          Nina Pirogova  Neutral Zone  "
      ]
     },
     "execution_count": 7,
     "metadata": {},
     "output_type": "execute_result"
    }
   ],
   "source": [
    "zone_df[\"Zone\"] = zone_df.apply(lambda x: rink_area(x[\"X Coordinate\"]), axis = 1)\n",
    "\n",
    "zone_df.head(20)"
   ]
  },
  {
   "cell_type": "code",
   "execution_count": 8,
   "metadata": {},
   "outputs": [
    {
     "data": {
      "text/plain": [
       "<Axes: xlabel='Date of Game', ylabel='Zone Entries Per Detail'>"
      ]
     },
     "execution_count": 8,
     "metadata": {},
     "output_type": "execute_result"
    },
    {
     "data": {
      "image/png": "[encoded data removed]",
      "text/plain": [
       "<Figure size 640x480 with 1 Axes>"
      ]
     },
     "metadata": {},
     "output_type": "display_data"
    }
   ],
   "source": [
    "import seaborn as sns\n",
    "import matplotlib.pyplot as plt\n",
    "plt.xticks(rotation=90)\n",
    "plt.xlabel(\"Date of Game\")\n",
    "plt.ylabel(\"Zone Entries Per Detail\")\n",
    "flames_cat = [\"#C8102E\", \"#FFCD00\", \"#101820\", \"#7D7D7D\"]  # red, gold, black, gray, light gray\n",
    "sns.set_theme(style=\"whitegrid\")\n",
    "sns.set_palette(flames_cat)\n",
    "\n",
    "#plt.figure(figsize=(10, 8))\n",
    "team_zone_df = zone_df[zone_df[\"Team\"].str.contains(\"USA\")]\n",
    "sns.countplot(data=team_zone_df, x=\"game_date\", hue=\"Detail 1\")"
   ]
  },
  {
   "cell_type": "code",
   "execution_count": 9,
   "metadata": {},
   "outputs": [
    {
     "data": {
      "text/plain": [
       "<Axes: xlabel='Date of Game', ylabel='Zone Entries'>"
      ]
     },
     "execution_count": 9,
     "metadata": {},
     "output_type": "execute_result"
    },
    {
     "data": {
      "image/png": "[encoded data removed]",
      "text/plain": [
       "<Figure size 640x480 with 1 Axes>"
      ]
     },
     "metadata": {},
     "output_type": "display_data"
    }
   ],
   "source": [
    "plt.xticks(rotation=90)\n",
    "plt.xlabel(\"Date of Game\")\n",
    "plt.ylabel(\"Zone Entries\")\n",
    "flames_cat = [\"#C8102E\", \"#FFCD00\", \"#101820\", \"#7D7D7D\"]  # red, gold, black, gray, light gray\n",
    "sns.set_theme(style=\"whitegrid\")\n",
    "sns.set_palette(flames_cat)\n",
    "\n",
    "team_zone_df = zone_df[zone_df[\"Team\"].str.contains(\"Canada\")]\n",
    "sns.countplot(data=team_zone_df, x=\"game_date\", hue=\"Period\")"
   ]
  },
  {
   "cell_type": "code",
   "execution_count": 10,
   "metadata": {},
   "outputs": [
    {
     "data": {
      "image/png": "[encoded data removed]",
      "text/plain": [
       "<Figure size 640x480 with 1 Axes>"
      ]
     },
     "metadata": {},
     "output_type": "display_data"
    }
   ],
   "source": [
    "fig = plt.subplots()\n",
    "team_zone_df = zone_df[zone_df[\"Team\"].str.contains(\"Russia\")]\n",
    "fig = sns.countplot(data=team_zone_df, x=\"game_date\", hue=\"Period\")"
   ]
  },
  {
   "cell_type": "code",
   "execution_count": 11,
   "metadata": {},
   "outputs": [
    {
     "data": {
      "text/html": [
       "<div>\n",
       "<style scoped>\n",
       "    .dataframe tbody tr th:only-of-type {\n",
       "        vertical-align: middle;\n",
       "    }\n",
       "\n",
       "    .dataframe tbody tr th {\n",
       "        vertical-align: top;\n",
       "    }\n",
       "\n",
       "    .dataframe thead th {\n",
       "        text-align: right;\n",
       "    }\n",
       "</style>\n",
       "<table border=\"1\" class=\"dataframe\">\n",
       "  <thead>\n",
       "    <tr style=\"text-align: right;\">\n",
       "      <th></th>\n",
       "      <th>game_date</th>\n",
       "      <th>Home Team</th>\n",
       "      <th>Away Team</th>\n",
       "      <th>Period</th>\n",
       "      <th>Home Team Skaters</th>\n",
       "      <th>Away Team Skaters</th>\n",
       "      <th>Team</th>\n",
       "      <th>Player</th>\n",
       "      <th>Event</th>\n",
       "      <th>X Coordinate</th>\n",
       "      <th>Y Coordinate</th>\n",
       "      <th>Detail 1</th>\n",
       "      <th>Detail 2</th>\n",
       "      <th>Detail 3</th>\n",
       "      <th>Detail 4</th>\n",
       "      <th>Player 2</th>\n",
       "      <th>Zone</th>\n",
       "    </tr>\n",
       "  </thead>\n",
       "  <tbody>\n",
       "    <tr>\n",
       "      <th>10</th>\n",
       "      <td>2018-02-11</td>\n",
       "      <td>Olympic (Women) - Canada</td>\n",
       "      <td>Olympic (Women) - Olympic Athletes from Russia</td>\n",
       "      <td>1</td>\n",
       "      <td>5</td>\n",
       "      <td>5</td>\n",
       "      <td>Russia</td>\n",
       "      <td>Valeria Pavlova</td>\n",
       "      <td>Zone Entry</td>\n",
       "      <td>124</td>\n",
       "      <td>2</td>\n",
       "      <td>Carried</td>\n",
       "      <td>NaN</td>\n",
       "      <td>NaN</td>\n",
       "      <td>NaN</td>\n",
       "      <td>Meaghan Mikkelson</td>\n",
       "      <td>Neutral Zone</td>\n",
       "    </tr>\n",
       "    <tr>\n",
       "      <th>110</th>\n",
       "      <td>2018-02-11</td>\n",
       "      <td>Olympic (Women) - Canada</td>\n",
       "      <td>Olympic (Women) - Olympic Athletes from Russia</td>\n",
       "      <td>1</td>\n",
       "      <td>5</td>\n",
       "      <td>5</td>\n",
       "      <td>Russia</td>\n",
       "      <td>Valeria Pavlova</td>\n",
       "      <td>Zone Entry</td>\n",
       "      <td>125</td>\n",
       "      <td>31</td>\n",
       "      <td>Carried</td>\n",
       "      <td>NaN</td>\n",
       "      <td>NaN</td>\n",
       "      <td>NaN</td>\n",
       "      <td>Jocelyne Larocque</td>\n",
       "      <td>Neutral Zone</td>\n",
       "    </tr>\n",
       "    <tr>\n",
       "      <th>147</th>\n",
       "      <td>2018-02-11</td>\n",
       "      <td>Olympic (Women) - Canada</td>\n",
       "      <td>Olympic (Women) - Olympic Athletes from Russia</td>\n",
       "      <td>1</td>\n",
       "      <td>5</td>\n",
       "      <td>5</td>\n",
       "      <td>Russia</td>\n",
       "      <td>Anna Shokhina</td>\n",
       "      <td>Zone Entry</td>\n",
       "      <td>115</td>\n",
       "      <td>72</td>\n",
       "      <td>Dumped</td>\n",
       "      <td>NaN</td>\n",
       "      <td>NaN</td>\n",
       "      <td>NaN</td>\n",
       "      <td>Jocelyne Larocque</td>\n",
       "      <td>Neutral Zone</td>\n",
       "    </tr>\n",
       "    <tr>\n",
       "      <th>212</th>\n",
       "      <td>2018-02-11</td>\n",
       "      <td>Olympic (Women) - Canada</td>\n",
       "      <td>Olympic (Women) - Olympic Athletes from Russia</td>\n",
       "      <td>1</td>\n",
       "      <td>5</td>\n",
       "      <td>5</td>\n",
       "      <td>Russia</td>\n",
       "      <td>Valeria Pavlova</td>\n",
       "      <td>Zone Entry</td>\n",
       "      <td>126</td>\n",
       "      <td>3</td>\n",
       "      <td>Carried</td>\n",
       "      <td>NaN</td>\n",
       "      <td>NaN</td>\n",
       "      <td>NaN</td>\n",
       "      <td>Renata Fast</td>\n",
       "      <td>Offensive Zone</td>\n",
       "    </tr>\n",
       "    <tr>\n",
       "      <th>233</th>\n",
       "      <td>2018-02-11</td>\n",
       "      <td>Olympic (Women) - Canada</td>\n",
       "      <td>Olympic (Women) - Olympic Athletes from Russia</td>\n",
       "      <td>1</td>\n",
       "      <td>5</td>\n",
       "      <td>5</td>\n",
       "      <td>Russia</td>\n",
       "      <td>Fanuza Kadirova</td>\n",
       "      <td>Zone Entry</td>\n",
       "      <td>126</td>\n",
       "      <td>80</td>\n",
       "      <td>Carried</td>\n",
       "      <td>NaN</td>\n",
       "      <td>NaN</td>\n",
       "      <td>NaN</td>\n",
       "      <td>Lauriane Rougeau</td>\n",
       "      <td>Offensive Zone</td>\n",
       "    </tr>\n",
       "    <tr>\n",
       "      <th>...</th>\n",
       "      <td>...</td>\n",
       "      <td>...</td>\n",
       "      <td>...</td>\n",
       "      <td>...</td>\n",
       "      <td>...</td>\n",
       "      <td>...</td>\n",
       "      <td>...</td>\n",
       "      <td>...</td>\n",
       "      <td>...</td>\n",
       "      <td>...</td>\n",
       "      <td>...</td>\n",
       "      <td>...</td>\n",
       "      <td>...</td>\n",
       "      <td>...</td>\n",
       "      <td>...</td>\n",
       "      <td>...</td>\n",
       "      <td>...</td>\n",
       "    </tr>\n",
       "    <tr>\n",
       "      <th>6875</th>\n",
       "      <td>2018-02-19</td>\n",
       "      <td>Olympic (Women) - Olympic Athletes from Russia</td>\n",
       "      <td>Olympic (Women) - Canada</td>\n",
       "      <td>3</td>\n",
       "      <td>5</td>\n",
       "      <td>5</td>\n",
       "      <td>Russia</td>\n",
       "      <td>Alyona Starovoitova</td>\n",
       "      <td>Zone Entry</td>\n",
       "      <td>126</td>\n",
       "      <td>6</td>\n",
       "      <td>Carried</td>\n",
       "      <td>NaN</td>\n",
       "      <td>NaN</td>\n",
       "      <td>NaN</td>\n",
       "      <td>Renata Fast</td>\n",
       "      <td>Offensive Zone</td>\n",
       "    </tr>\n",
       "    <tr>\n",
       "      <th>6881</th>\n",
       "      <td>2018-02-19</td>\n",
       "      <td>Olympic (Women) - Olympic Athletes from Russia</td>\n",
       "      <td>Olympic (Women) - Canada</td>\n",
       "      <td>3</td>\n",
       "      <td>5</td>\n",
       "      <td>5</td>\n",
       "      <td>Russia</td>\n",
       "      <td>Lyudmila Belyakova</td>\n",
       "      <td>Zone Entry</td>\n",
       "      <td>126</td>\n",
       "      <td>22</td>\n",
       "      <td>Carried</td>\n",
       "      <td>NaN</td>\n",
       "      <td>NaN</td>\n",
       "      <td>NaN</td>\n",
       "      <td>Renata Fast</td>\n",
       "      <td>Offensive Zone</td>\n",
       "    </tr>\n",
       "    <tr>\n",
       "      <th>6891</th>\n",
       "      <td>2018-02-19</td>\n",
       "      <td>Olympic (Women) - Olympic Athletes from Russia</td>\n",
       "      <td>Olympic (Women) - Canada</td>\n",
       "      <td>3</td>\n",
       "      <td>5</td>\n",
       "      <td>5</td>\n",
       "      <td>Russia</td>\n",
       "      <td>Valeria Pavlova</td>\n",
       "      <td>Zone Entry</td>\n",
       "      <td>126</td>\n",
       "      <td>64</td>\n",
       "      <td>Played</td>\n",
       "      <td>NaN</td>\n",
       "      <td>NaN</td>\n",
       "      <td>NaN</td>\n",
       "      <td>Jocelyne Larocque</td>\n",
       "      <td>Offensive Zone</td>\n",
       "    </tr>\n",
       "    <tr>\n",
       "      <th>6913</th>\n",
       "      <td>2018-02-19</td>\n",
       "      <td>Olympic (Women) - Olympic Athletes from Russia</td>\n",
       "      <td>Olympic (Women) - Canada</td>\n",
       "      <td>3</td>\n",
       "      <td>5</td>\n",
       "      <td>5</td>\n",
       "      <td>Russia</td>\n",
       "      <td>Angelina Goncharenko</td>\n",
       "      <td>Zone Entry</td>\n",
       "      <td>103</td>\n",
       "      <td>18</td>\n",
       "      <td>Dumped</td>\n",
       "      <td>NaN</td>\n",
       "      <td>NaN</td>\n",
       "      <td>NaN</td>\n",
       "      <td>Lauriane Rougeau</td>\n",
       "      <td>Neutral Zone</td>\n",
       "    </tr>\n",
       "    <tr>\n",
       "      <th>6932</th>\n",
       "      <td>2018-02-19</td>\n",
       "      <td>Olympic (Women) - Olympic Athletes from Russia</td>\n",
       "      <td>Olympic (Women) - Canada</td>\n",
       "      <td>3</td>\n",
       "      <td>5</td>\n",
       "      <td>5</td>\n",
       "      <td>Russia</td>\n",
       "      <td>Alevtina Shtaryova</td>\n",
       "      <td>Zone Entry</td>\n",
       "      <td>119</td>\n",
       "      <td>9</td>\n",
       "      <td>Dumped</td>\n",
       "      <td>NaN</td>\n",
       "      <td>NaN</td>\n",
       "      <td>NaN</td>\n",
       "      <td>Brigette Lacquette</td>\n",
       "      <td>Neutral Zone</td>\n",
       "    </tr>\n",
       "  </tbody>\n",
       "</table>\n",
       "<p>82 rows × 17 columns</p>\n",
       "</div>"
      ],
      "text/plain": [
       "      game_date                                       Home Team  \\\n",
       "10   2018-02-11                        Olympic (Women) - Canada   \n",
       "110  2018-02-11                        Olympic (Women) - Canada   \n",
       "147  2018-02-11                        Olympic (Women) - Canada   \n",
       "212  2018-02-11                        Olympic (Women) - Canada   \n",
       "233  2018-02-11                        Olympic (Women) - Canada   \n",
       "...         ...                                             ...   \n",
       "6875 2018-02-19  Olympic (Women) - Olympic Athletes from Russia   \n",
       "6881 2018-02-19  Olympic (Women) - Olympic Athletes from Russia   \n",
       "6891 2018-02-19  Olympic (Women) - Olympic Athletes from Russia   \n",
       "6913 2018-02-19  Olympic (Women) - Olympic Athletes from Russia   \n",
       "6932 2018-02-19  Olympic (Women) - Olympic Athletes from Russia   \n",
       "\n",
       "                                           Away Team  Period  \\\n",
       "10    Olympic (Women) - Olympic Athletes from Russia       1   \n",
       "110   Olympic (Women) - Olympic Athletes from Russia       1   \n",
       "147   Olympic (Women) - Olympic Athletes from Russia       1   \n",
       "212   Olympic (Women) - Olympic Athletes from Russia       1   \n",
       "233   Olympic (Women) - Olympic Athletes from Russia       1   \n",
       "...                                              ...     ...   \n",
       "6875                        Olympic (Women) - Canada       3   \n",
       "6881                        Olympic (Women) - Canada       3   \n",
       "6891                        Olympic (Women) - Canada       3   \n",
       "6913                        Olympic (Women) - Canada       3   \n",
       "6932                        Olympic (Women) - Canada       3   \n",
       "\n",
       "      Home Team Skaters  Away Team Skaters    Team                Player  \\\n",
       "10                    5                  5  Russia       Valeria Pavlova   \n",
       "110                   5                  5  Russia       Valeria Pavlova   \n",
       "147                   5                  5  Russia         Anna Shokhina   \n",
       "212                   5                  5  Russia       Valeria Pavlova   \n",
       "233                   5                  5  Russia       Fanuza Kadirova   \n",
       "...                 ...                ...     ...                   ...   \n",
       "6875                  5                  5  Russia   Alyona Starovoitova   \n",
       "6881                  5                  5  Russia    Lyudmila Belyakova   \n",
       "6891                  5                  5  Russia       Valeria Pavlova   \n",
       "6913                  5                  5  Russia  Angelina Goncharenko   \n",
       "6932                  5                  5  Russia    Alevtina Shtaryova   \n",
       "\n",
       "           Event  X Coordinate  Y Coordinate Detail 1 Detail 2 Detail 3  \\\n",
       "10    Zone Entry           124             2  Carried      NaN      NaN   \n",
       "110   Zone Entry           125            31  Carried      NaN      NaN   \n",
       "147   Zone Entry           115            72   Dumped      NaN      NaN   \n",
       "212   Zone Entry           126             3  Carried      NaN      NaN   \n",
       "233   Zone Entry           126            80  Carried      NaN      NaN   \n",
       "...          ...           ...           ...      ...      ...      ...   \n",
       "6875  Zone Entry           126             6  Carried      NaN      NaN   \n",
       "6881  Zone Entry           126            22  Carried      NaN      NaN   \n",
       "6891  Zone Entry           126            64   Played      NaN      NaN   \n",
       "6913  Zone Entry           103            18   Dumped      NaN      NaN   \n",
       "6932  Zone Entry           119             9   Dumped      NaN      NaN   \n",
       "\n",
       "     Detail 4            Player 2            Zone  \n",
       "10        NaN   Meaghan Mikkelson    Neutral Zone  \n",
       "110       NaN   Jocelyne Larocque    Neutral Zone  \n",
       "147       NaN   Jocelyne Larocque    Neutral Zone  \n",
       "212       NaN         Renata Fast  Offensive Zone  \n",
       "233       NaN    Lauriane Rougeau  Offensive Zone  \n",
       "...       ...                 ...             ...  \n",
       "6875      NaN         Renata Fast  Offensive Zone  \n",
       "6881      NaN         Renata Fast  Offensive Zone  \n",
       "6891      NaN   Jocelyne Larocque  Offensive Zone  \n",
       "6913      NaN    Lauriane Rougeau    Neutral Zone  \n",
       "6932      NaN  Brigette Lacquette    Neutral Zone  \n",
       "\n",
       "[82 rows x 17 columns]"
      ]
     },
     "execution_count": 11,
     "metadata": {},
     "output_type": "execute_result"
    }
   ],
   "source": [
    "team_zone_df"
   ]
  },
  {
   "cell_type": "code",
   "execution_count": 12,
   "metadata": {},
   "outputs": [
    {
     "data": {
      "text/html": [
       "<div>\n",
       "<style scoped>\n",
       "    .dataframe tbody tr th:only-of-type {\n",
       "        vertical-align: middle;\n",
       "    }\n",
       "\n",
       "    .dataframe tbody tr th {\n",
       "        vertical-align: top;\n",
       "    }\n",
       "\n",
       "    .dataframe thead th {\n",
       "        text-align: right;\n",
       "    }\n",
       "</style>\n",
       "<table border=\"1\" class=\"dataframe\">\n",
       "  <thead>\n",
       "    <tr style=\"text-align: right;\">\n",
       "      <th></th>\n",
       "      <th>game_date</th>\n",
       "      <th>Team</th>\n",
       "      <th>Period</th>\n",
       "      <th>Count</th>\n",
       "    </tr>\n",
       "  </thead>\n",
       "  <tbody>\n",
       "    <tr>\n",
       "      <th>0</th>\n",
       "      <td>2018-02-11</td>\n",
       "      <td>Russia</td>\n",
       "      <td>1</td>\n",
       "      <td>13</td>\n",
       "    </tr>\n",
       "    <tr>\n",
       "      <th>1</th>\n",
       "      <td>2018-02-11</td>\n",
       "      <td>Russia</td>\n",
       "      <td>2</td>\n",
       "      <td>20</td>\n",
       "    </tr>\n",
       "    <tr>\n",
       "      <th>2</th>\n",
       "      <td>2018-02-11</td>\n",
       "      <td>Russia</td>\n",
       "      <td>3</td>\n",
       "      <td>8</td>\n",
       "    </tr>\n",
       "    <tr>\n",
       "      <th>3</th>\n",
       "      <td>2018-02-19</td>\n",
       "      <td>Russia</td>\n",
       "      <td>1</td>\n",
       "      <td>11</td>\n",
       "    </tr>\n",
       "    <tr>\n",
       "      <th>4</th>\n",
       "      <td>2018-02-19</td>\n",
       "      <td>Russia</td>\n",
       "      <td>2</td>\n",
       "      <td>11</td>\n",
       "    </tr>\n",
       "  </tbody>\n",
       "</table>\n",
       "</div>"
      ],
      "text/plain": [
       "   game_date    Team  Period  Count\n",
       "0 2018-02-11  Russia       1     13\n",
       "1 2018-02-11  Russia       2     20\n",
       "2 2018-02-11  Russia       3      8\n",
       "3 2018-02-19  Russia       1     11\n",
       "4 2018-02-19  Russia       2     11"
      ]
     },
     "execution_count": 12,
     "metadata": {},
     "output_type": "execute_result"
    }
   ],
   "source": [
    "team_counts_per_period_df = team_zone_df.groupby([\"game_date\",\"Team\", \"Period\"]).size().reset_index(name=\"Count\")\n",
    "\n",
    "team_counts_per_period_df.head()"
   ]
  },
  {
   "cell_type": "code",
   "execution_count": 13,
   "metadata": {},
   "outputs": [
    {
     "data": {
      "application/vnd.plotly.v1+json": {
       "config": {
        "plotlyServerURL": "https://plot.ly"
       },
       "data": [
        {
         "alignmentgroup": "True",
         "hovertemplate": "Period=1<br>game_date=%{x}<br>Count=%{y}<extra></extra>",
         "legendgroup": "1",
         "marker": {
          "color": "#636efa",
          "pattern": {
           "shape": ""
          }
         },
         "name": "1",
         "offsetgroup": "1",
         "orientation": "v",
         "showlegend": true,
         "textposition": "auto",
         "type": "bar",
         "x": [
          "2018-02-11T00:00:00.000000000",
          "2018-02-19T00:00:00.000000000"
         ],
         "xaxis": "x",
         "y": {
          "bdata": "DQs=",
          "dtype": "i1"
         },
         "yaxis": "y"
        },
        {
         "alignmentgroup": "True",
         "hovertemplate": "Period=2<br>game_date=%{x}<br>Count=%{y}<extra></extra>",
         "legendgroup": "2",
         "marker": {
          "color": "#EF553B",
          "pattern": {
           "shape": ""
          }
         },
         "name": "2",
         "offsetgroup": "2",
         "orientation": "v",
         "showlegend": true,
         "textposition": "auto",
         "type": "bar",
         "x": [
          "2018-02-11T00:00:00.000000000",
          "2018-02-19T00:00:00.000000000"
         ],
         "xaxis": "x",
         "y": {
          "bdata": "FAs=",
          "dtype": "i1"
         },
         "yaxis": "y"
        },
        {
         "alignmentgroup": "True",
         "hovertemplate": "Period=3<br>game_date=%{x}<br>Count=%{y}<extra></extra>",
         "legendgroup": "3",
         "marker": {
          "color": "#00cc96",
          "pattern": {
           "shape": ""
          }
         },
         "name": "3",
         "offsetgroup": "3",
         "orientation": "v",
         "showlegend": true,
         "textposition": "auto",
         "type": "bar",
         "x": [
          "2018-02-11T00:00:00.000000000",
          "2018-02-19T00:00:00.000000000"
         ],
         "xaxis": "x",
         "y": {
          "bdata": "CBM=",
          "dtype": "i1"
         },
         "yaxis": "y"
        }
       ],
       "layout": {
        "barmode": "group",
        "legend": {
         "title": {
          "text": "Period"
         },
         "tracegroupgap": 0
        },
        "template": {
         "data": {
          "bar": [
           {
            "error_x": {
             "color": "#2a3f5f"
            },
            "error_y": {
             "color": "#2a3f5f"
            },
            "marker": {
             "line": {
              "color": "#E5ECF6",
              "width": 0.5
             },
             "pattern": {
              "fillmode": "overlay",
              "size": 10,
              "solidity": 0.2
             }
            },
            "type": "bar"
           }
          ],
          "barpolar": [
           {
            "marker": {
             "line": {
              "color": "#E5ECF6",
              "width": 0.5
             },
             "pattern": {
              "fillmode": "overlay",
              "size": 10,
              "solidity": 0.2
             }
            },
            "type": "barpolar"
           }
          ],
          "carpet": [
           {
            "aaxis": {
             "endlinecolor": "#2a3f5f",
             "gridcolor": "white",
             "linecolor": "white",
             "minorgridcolor": "white",
             "startlinecolor": "#2a3f5f"
            },
            "baxis": {
             "endlinecolor": "#2a3f5f",
             "gridcolor": "white",
             "linecolor": "white",
             "minorgridcolor": "white",
             "startlinecolor": "#2a3f5f"
            },
            "type": "carpet"
           }
          ],
          "choropleth": [
           {
            "colorbar": {
             "outlinewidth": 0,
             "ticks": ""
            },
            "type": "choropleth"
           }
          ],
          "contour": [
           {
            "colorbar": {
             "outlinewidth": 0,
             "ticks": ""
            },
            "colorscale": [
             [
              0,
              "#0d0887"
             ],
             [
              0.1111111111111111,
              "#46039f"
             ],
             [
              0.2222222222222222,
              "#7201a8"
             ],
             [
              0.3333333333333333,
              "#9c179e"
             ],
             [
              0.4444444444444444,
              "#bd3786"
             ],
             [
              0.5555555555555556,
              "#d8576b"
             ],
             [
              0.6666666666666666,
              "#ed7953"
             ],
             [
              0.7777777777777778,
              "#fb9f3a"
             ],
             [
              0.8888888888888888,
              "#fdca26"
             ],
             [
              1,
              "#f0f921"
             ]
            ],
            "type": "contour"
           }
          ],
          "contourcarpet": [
           {
            "colorbar": {
             "outlinewidth": 0,
             "ticks": ""
            },
            "type": "contourcarpet"
           }
          ],
          "heatmap": [
           {
            "colorbar": {
             "outlinewidth": 0,
             "ticks": ""
            },
            "colorscale": [
             [
              0,
              "#0d0887"
             ],
             [
              0.1111111111111111,
              "#46039f"
             ],
             [
              0.2222222222222222,
              "#7201a8"
             ],
             [
              0.3333333333333333,
              "#9c179e"
             ],
             [
              0.4444444444444444,
              "#bd3786"
             ],
             [
              0.5555555555555556,
              "#d8576b"
             ],
             [
              0.6666666666666666,
              "#ed7953"
             ],
             [
              0.7777777777777778,
              "#fb9f3a"
             ],
             [
              0.8888888888888888,
              "#fdca26"
             ],
             [
              1,
              "#f0f921"
             ]
            ],
            "type": "heatmap"
           }
          ],
          "histogram": [
           {
            "marker": {
             "pattern": {
              "fillmode": "overlay",
              "size": 10,
              "solidity": 0.2
             }
            },
            "type": "histogram"
           }
          ],
          "histogram2d": [
           {
            "colorbar": {
             "outlinewidth": 0,
             "ticks": ""
            },
            "colorscale": [
             [
              0,
              "#0d0887"
             ],
             [
              0.1111111111111111,
              "#46039f"
             ],
             [
              0.2222222222222222,
              "#7201a8"
             ],
             [
              0.3333333333333333,
              "#9c179e"
             ],
             [
              0.4444444444444444,
              "#bd3786"
             ],
             [
              0.5555555555555556,
              "#d8576b"
             ],
             [
              0.6666666666666666,
              "#ed7953"
             ],
             [
              0.7777777777777778,
              "#fb9f3a"
             ],
             [
              0.8888888888888888,
              "#fdca26"
             ],
             [
              1,
              "#f0f921"
             ]
            ],
            "type": "histogram2d"
           }
          ],
          "histogram2dcontour": [
           {
            "colorbar": {
             "outlinewidth": 0,
             "ticks": ""
            },
            "colorscale": [
             [
              0,
              "#0d0887"
             ],
             [
              0.1111111111111111,
              "#46039f"
             ],
             [
              0.2222222222222222,
              "#7201a8"
             ],
             [
              0.3333333333333333,
              "#9c179e"
             ],
             [
              0.4444444444444444,
              "#bd3786"
             ],
             [
              0.5555555555555556,
              "#d8576b"
             ],
             [
              0.6666666666666666,
              "#ed7953"
             ],
             [
              0.7777777777777778,
              "#fb9f3a"
             ],
             [
              0.8888888888888888,
              "#fdca26"
             ],
             [
              1,
              "#f0f921"
             ]
            ],
            "type": "histogram2dcontour"
           }
          ],
          "mesh3d": [
           {
            "colorbar": {
             "outlinewidth": 0,
             "ticks": ""
            },
            "type": "mesh3d"
           }
          ],
          "parcoords": [
           {
            "line": {
             "colorbar": {
              "outlinewidth": 0,
              "ticks": ""
             }
            },
            "type": "parcoords"
           }
          ],
          "pie": [
           {
            "automargin": true,
            "type": "pie"
           }
          ],
          "scatter": [
           {
            "fillpattern": {
             "fillmode": "overlay",
             "size": 10,
             "solidity": 0.2
            },
            "type": "scatter"
           }
          ],
          "scatter3d": [
           {
            "line": {
             "colorbar": {
              "outlinewidth": 0,
              "ticks": ""
             }
            },
            "marker": {
             "colorbar": {
              "outlinewidth": 0,
              "ticks": ""
             }
            },
            "type": "scatter3d"
           }
          ],
          "scattercarpet": [
           {
            "marker": {
             "colorbar": {
              "outlinewidth": 0,
              "ticks": ""
             }
            },
            "type": "scattercarpet"
           }
          ],
          "scattergeo": [
           {
            "marker": {
             "colorbar": {
              "outlinewidth": 0,
              "ticks": ""
             }
            },
            "type": "scattergeo"
           }
          ],
          "scattergl": [
           {
            "marker": {
             "colorbar": {
              "outlinewidth": 0,
              "ticks": ""
             }
            },
            "type": "scattergl"
           }
          ],
          "scattermap": [
           {
            "marker": {
             "colorbar": {
              "outlinewidth": 0,
              "ticks": ""
             }
            },
            "type": "scattermap"
           }
          ],
          "scattermapbox": [
           {
            "marker": {
             "colorbar": {
              "outlinewidth": 0,
              "ticks": ""
             }
            },
            "type": "scattermapbox"
           }
          ],
          "scatterpolar": [
           {
            "marker": {
             "colorbar": {
              "outlinewidth": 0,
              "ticks": ""
             }
            },
            "type": "scatterpolar"
           }
          ],
          "scatterpolargl": [
           {
            "marker": {
             "colorbar": {
              "outlinewidth": 0,
              "ticks": ""
             }
            },
            "type": "scatterpolargl"
           }
          ],
          "scatterternary": [
           {
            "marker": {
             "colorbar": {
              "outlinewidth": 0,
              "ticks": ""
             }
            },
            "type": "scatterternary"
           }
          ],
          "surface": [
           {
            "colorbar": {
             "outlinewidth": 0,
             "ticks": ""
            },
            "colorscale": [
             [
              0,
              "#0d0887"
             ],
             [
              0.1111111111111111,
              "#46039f"
             ],
             [
              0.2222222222222222,
              "#7201a8"
             ],
             [
              0.3333333333333333,
              "#9c179e"
             ],
             [
              0.4444444444444444,
              "#bd3786"
             ],
             [
              0.5555555555555556,
              "#d8576b"
             ],
             [
              0.6666666666666666,
              "#ed7953"
             ],
             [
              0.7777777777777778,
              "#fb9f3a"
             ],
             [
              0.8888888888888888,
              "#fdca26"
             ],
             [
              1,
              "#f0f921"
             ]
            ],
            "type": "surface"
           }
          ],
          "table": [
           {
            "cells": {
             "fill": {
              "color": "#EBF0F8"
             },
             "line": {
              "color": "white"
             }
            },
            "header": {
             "fill": {
              "color": "#C8D4E3"
             },
             "line": {
              "color": "white"
             }
            },
            "type": "table"
           }
          ]
         },
         "layout": {
          "annotationdefaults": {
           "arrowcolor": "#2a3f5f",
           "arrowhead": 0,
           "arrowwidth": 1
          },
          "autotypenumbers": "strict",
          "coloraxis": {
           "colorbar": {
            "outlinewidth": 0,
            "ticks": ""
           }
          },
          "colorscale": {
           "diverging": [
            [
             0,
             "#8e0152"
            ],
            [
             0.1,
             "#c51b7d"
            ],
            [
             0.2,
             "#de77ae"
            ],
            [
             0.3,
             "#f1b6da"
            ],
            [
             0.4,
             "#fde0ef"
            ],
            [
             0.5,
             "#f7f7f7"
            ],
            [
             0.6,
             "#e6f5d0"
            ],
            [
             0.7,
             "#b8e186"
            ],
            [
             0.8,
             "#7fbc41"
            ],
            [
             0.9,
             "#4d9221"
            ],
            [
             1,
             "#276419"
            ]
           ],
           "sequential": [
            [
             0,
             "#0d0887"
            ],
            [
             0.1111111111111111,
             "#46039f"
            ],
            [
             0.2222222222222222,
             "#7201a8"
            ],
            [
             0.3333333333333333,
             "#9c179e"
            ],
            [
             0.4444444444444444,
             "#bd3786"
            ],
            [
             0.5555555555555556,
             "#d8576b"
            ],
            [
             0.6666666666666666,
             "#ed7953"
            ],
            [
             0.7777777777777778,
             "#fb9f3a"
            ],
            [
             0.8888888888888888,
             "#fdca26"
            ],
            [
             1,
             "#f0f921"
            ]
           ],
           "sequentialminus": [
            [
             0,
             "#0d0887"
            ],
            [
             0.1111111111111111,
             "#46039f"
            ],
            [
             0.2222222222222222,
             "#7201a8"
            ],
            [
             0.3333333333333333,
             "#9c179e"
            ],
            [
             0.4444444444444444,
             "#bd3786"
            ],
            [
             0.5555555555555556,
             "#d8576b"
            ],
            [
             0.6666666666666666,
             "#ed7953"
            ],
            [
             0.7777777777777778,
             "#fb9f3a"
            ],
            [
             0.8888888888888888,
             "#fdca26"
            ],
            [
             1,
             "#f0f921"
            ]
           ]
          },
          "colorway": [
           "#636efa",
           "#EF553B",
           "#00cc96",
           "#ab63fa",
           "#FFA15A",
           "#19d3f3",
           "#FF6692",
           "#B6E880",
           "#FF97FF",
           "#FECB52"
          ],
          "font": {
           "color": "#2a3f5f"
          },
          "geo": {
           "bgcolor": "white",
           "lakecolor": "white",
           "landcolor": "#E5ECF6",
           "showlakes": true,
           "showland": true,
           "subunitcolor": "white"
          },
          "hoverlabel": {
           "align": "left"
          },
          "hovermode": "closest",
          "mapbox": {
           "style": "light"
          },
          "paper_bgcolor": "white",
          "plot_bgcolor": "#E5ECF6",
          "polar": {
           "angularaxis": {
            "gridcolor": "white",
            "linecolor": "white",
            "ticks": ""
           },
           "bgcolor": "#E5ECF6",
           "radialaxis": {
            "gridcolor": "white",
            "linecolor": "white",
            "ticks": ""
           }
          },
          "scene": {
           "xaxis": {
            "backgroundcolor": "#E5ECF6",
            "gridcolor": "white",
            "gridwidth": 2,
            "linecolor": "white",
            "showbackground": true,
            "ticks": "",
            "zerolinecolor": "white"
           },
           "yaxis": {
            "backgroundcolor": "#E5ECF6",
            "gridcolor": "white",
            "gridwidth": 2,
            "linecolor": "white",
            "showbackground": true,
            "ticks": "",
            "zerolinecolor": "white"
           },
           "zaxis": {
            "backgroundcolor": "#E5ECF6",
            "gridcolor": "white",
            "gridwidth": 2,
            "linecolor": "white",
            "showbackground": true,
            "ticks": "",
            "zerolinecolor": "white"
           }
          },
          "shapedefaults": {
           "line": {
            "color": "#2a3f5f"
           }
          },
          "ternary": {
           "aaxis": {
            "gridcolor": "white",
            "linecolor": "white",
            "ticks": ""
           },
           "baxis": {
            "gridcolor": "white",
            "linecolor": "white",
            "ticks": ""
           },
           "bgcolor": "#E5ECF6",
           "caxis": {
            "gridcolor": "white",
            "linecolor": "white",
            "ticks": ""
           }
          },
          "title": {
           "x": 0.05
          },
          "xaxis": {
           "automargin": true,
           "gridcolor": "white",
           "linecolor": "white",
           "ticks": "",
           "title": {
            "standoff": 15
           },
           "zerolinecolor": "white",
           "zerolinewidth": 2
          },
          "yaxis": {
           "automargin": true,
           "gridcolor": "white",
           "linecolor": "white",
           "ticks": "",
           "title": {
            "standoff": 15
           },
           "zerolinecolor": "white",
           "zerolinewidth": 2
          }
         }
        },
        "title": {
         "text": "Zone Entries by Period"
        },
        "xaxis": {
         "anchor": "y",
         "domain": [
          0,
          1
         ],
         "title": {
          "text": "game_date"
         }
        },
        "yaxis": {
         "anchor": "x",
         "domain": [
          0,
          1
         ],
         "title": {
          "text": "Count"
         }
        }
       }
      }
     },
     "metadata": {},
     "output_type": "display_data"
    }
   ],
   "source": [
    "import plotly.tools as tls\n",
    "import plotly.express as px\n",
    "from plotly.io import to_html\n",
    "\n",
    "team_counts_per_period_df[\"Period\"] = team_counts_per_period_df[\"Period\"].astype(\"category\")\n",
    "fig = px.bar(team_counts_per_period_df, x=\"game_date\", y=\"Count\", color=\"Period\",\n",
    "             barmode=\"group\", title=\"Zone Entries by Period\")\n",
    "\n",
    "chart_html = to_html(fig, include_plotlyjs=\"cdn\", full_html=False)\n",
    "\n",
    "fig"
   ]
  },
  {
   "cell_type": "code",
   "execution_count": 14,
   "metadata": {},
   "outputs": [
    {
     "data": {
      "text/html": [
       "<div>\n",
       "<style scoped>\n",
       "    .dataframe tbody tr th:only-of-type {\n",
       "        vertical-align: middle;\n",
       "    }\n",
       "\n",
       "    .dataframe tbody tr th {\n",
       "        vertical-align: top;\n",
       "    }\n",
       "\n",
       "    .dataframe thead th {\n",
       "        text-align: right;\n",
       "    }\n",
       "</style>\n",
       "<table border=\"1\" class=\"dataframe\">\n",
       "  <thead>\n",
       "    <tr style=\"text-align: right;\">\n",
       "      <th></th>\n",
       "      <th>game_date</th>\n",
       "      <th>Team</th>\n",
       "      <th>Detail 1</th>\n",
       "      <th>Count</th>\n",
       "    </tr>\n",
       "  </thead>\n",
       "  <tbody>\n",
       "    <tr>\n",
       "      <th>0</th>\n",
       "      <td>2018-02-11</td>\n",
       "      <td>Russia</td>\n",
       "      <td>Carried</td>\n",
       "      <td>26</td>\n",
       "    </tr>\n",
       "    <tr>\n",
       "      <th>1</th>\n",
       "      <td>2018-02-11</td>\n",
       "      <td>Russia</td>\n",
       "      <td>Dumped</td>\n",
       "      <td>13</td>\n",
       "    </tr>\n",
       "    <tr>\n",
       "      <th>2</th>\n",
       "      <td>2018-02-11</td>\n",
       "      <td>Russia</td>\n",
       "      <td>Played</td>\n",
       "      <td>2</td>\n",
       "    </tr>\n",
       "    <tr>\n",
       "      <th>3</th>\n",
       "      <td>2018-02-19</td>\n",
       "      <td>Russia</td>\n",
       "      <td>Carried</td>\n",
       "      <td>24</td>\n",
       "    </tr>\n",
       "    <tr>\n",
       "      <th>4</th>\n",
       "      <td>2018-02-19</td>\n",
       "      <td>Russia</td>\n",
       "      <td>Dumped</td>\n",
       "      <td>13</td>\n",
       "    </tr>\n",
       "  </tbody>\n",
       "</table>\n",
       "</div>"
      ],
      "text/plain": [
       "   game_date    Team Detail 1  Count\n",
       "0 2018-02-11  Russia  Carried     26\n",
       "1 2018-02-11  Russia   Dumped     13\n",
       "2 2018-02-11  Russia   Played      2\n",
       "3 2018-02-19  Russia  Carried     24\n",
       "4 2018-02-19  Russia   Dumped     13"
      ]
     },
     "execution_count": 14,
     "metadata": {},
     "output_type": "execute_result"
    }
   ],
   "source": [
    "team_counts_per_detail_df = team_zone_df.groupby([\"game_date\",\"Team\", \"Detail 1\"]).size().reset_index(name=\"Count\")\n",
    "\n",
    "team_counts_per_detail_df.head()"
   ]
  },
  {
   "cell_type": "code",
   "execution_count": 15,
   "metadata": {},
   "outputs": [
    {
     "data": {
      "application/vnd.plotly.v1+json": {
       "config": {
        "plotlyServerURL": "https://plot.ly"
       },
       "data": [
        {
         "alignmentgroup": "True",
         "hovertemplate": "Detail 1=Carried<br>game_date=%{x}<br>Count=%{y}<extra></extra>",
         "legendgroup": "Carried",
         "marker": {
          "color": "#636efa",
          "pattern": {
           "shape": ""
          }
         },
         "name": "Carried",
         "offsetgroup": "Carried",
         "orientation": "v",
         "showlegend": true,
         "textposition": "auto",
         "type": "bar",
         "x": [
          "2018-02-11T00:00:00.000000000",
          "2018-02-19T00:00:00.000000000"
         ],
         "xaxis": "x",
         "y": {
          "bdata": "Ghg=",
          "dtype": "i1"
         },
         "yaxis": "y"
        },
        {
         "alignmentgroup": "True",
         "hovertemplate": "Detail 1=Dumped<br>game_date=%{x}<br>Count=%{y}<extra></extra>",
         "legendgroup": "Dumped",
         "marker": {
          "color": "#EF553B",
          "pattern": {
           "shape": ""
          }
         },
         "name": "Dumped",
         "offsetgroup": "Dumped",
         "orientation": "v",
         "showlegend": true,
         "textposition": "auto",
         "type": "bar",
         "x": [
          "2018-02-11T00:00:00.000000000",
          "2018-02-19T00:00:00.000000000"
         ],
         "xaxis": "x",
         "y": {
          "bdata": "DQ0=",
          "dtype": "i1"
         },
         "yaxis": "y"
        },
        {
         "alignmentgroup": "True",
         "hovertemplate": "Detail 1=Played<br>game_date=%{x}<br>Count=%{y}<extra></extra>",
         "legendgroup": "Played",
         "marker": {
          "color": "#00cc96",
          "pattern": {
           "shape": ""
          }
         },
         "name": "Played",
         "offsetgroup": "Played",
         "orientation": "v",
         "showlegend": true,
         "textposition": "auto",
         "type": "bar",
         "x": [
          "2018-02-11T00:00:00.000000000",
          "2018-02-19T00:00:00.000000000"
         ],
         "xaxis": "x",
         "y": {
          "bdata": "AgQ=",
          "dtype": "i1"
         },
         "yaxis": "y"
        }
       ],
       "layout": {
        "barmode": "group",
        "legend": {
         "title": {
          "text": "Detail 1"
         },
         "tracegroupgap": 0
        },
        "template": {
         "data": {
          "bar": [
           {
            "error_x": {
             "color": "#2a3f5f"
            },
            "error_y": {
             "color": "#2a3f5f"
            },
            "marker": {
             "line": {
              "color": "#E5ECF6",
              "width": 0.5
             },
             "pattern": {
              "fillmode": "overlay",
              "size": 10,
              "solidity": 0.2
             }
            },
            "type": "bar"
           }
          ],
          "barpolar": [
           {
            "marker": {
             "line": {
              "color": "#E5ECF6",
              "width": 0.5
             },
             "pattern": {
              "fillmode": "overlay",
              "size": 10,
              "solidity": 0.2
             }
            },
            "type": "barpolar"
           }
          ],
          "carpet": [
           {
            "aaxis": {
             "endlinecolor": "#2a3f5f",
             "gridcolor": "white",
             "linecolor": "white",
             "minorgridcolor": "white",
             "startlinecolor": "#2a3f5f"
            },
            "baxis": {
             "endlinecolor": "#2a3f5f",
             "gridcolor": "white",
             "linecolor": "white",
             "minorgridcolor": "white",
             "startlinecolor": "#2a3f5f"
            },
            "type": "carpet"
           }
          ],
          "choropleth": [
           {
            "colorbar": {
             "outlinewidth": 0,
             "ticks": ""
            },
            "type": "choropleth"
           }
          ],
          "contour": [
           {
            "colorbar": {
             "outlinewidth": 0,
             "ticks": ""
            },
            "colorscale": [
             [
              0,
              "#0d0887"
             ],
             [
              0.1111111111111111,
              "#46039f"
             ],
             [
              0.2222222222222222,
              "#7201a8"
             ],
             [
              0.3333333333333333,
              "#9c179e"
             ],
             [
              0.4444444444444444,
              "#bd3786"
             ],
             [
              0.5555555555555556,
              "#d8576b"
             ],
             [
              0.6666666666666666,
              "#ed7953"
             ],
             [
              0.7777777777777778,
              "#fb9f3a"
             ],
             [
              0.8888888888888888,
              "#fdca26"
             ],
             [
              1,
              "#f0f921"
             ]
            ],
            "type": "contour"
           }
          ],
          "contourcarpet": [
           {
            "colorbar": {
             "outlinewidth": 0,
             "ticks": ""
            },
            "type": "contourcarpet"
           }
          ],
          "heatmap": [
           {
            "colorbar": {
             "outlinewidth": 0,
             "ticks": ""
            },
            "colorscale": [
             [
              0,
              "#0d0887"
             ],
             [
              0.1111111111111111,
              "#46039f"
             ],
             [
              0.2222222222222222,
              "#7201a8"
             ],
             [
              0.3333333333333333,
              "#9c179e"
             ],
             [
              0.4444444444444444,
              "#bd3786"
             ],
             [
              0.5555555555555556,
              "#d8576b"
             ],
             [
              0.6666666666666666,
              "#ed7953"
             ],
             [
              0.7777777777777778,
              "#fb9f3a"
             ],
             [
              0.8888888888888888,
              "#fdca26"
             ],
             [
              1,
              "#f0f921"
             ]
            ],
            "type": "heatmap"
           }
          ],
          "histogram": [
           {
            "marker": {
             "pattern": {
              "fillmode": "overlay",
              "size": 10,
              "solidity": 0.2
             }
            },
            "type": "histogram"
           }
          ],
          "histogram2d": [
           {
            "colorbar": {
             "outlinewidth": 0,
             "ticks": ""
            },
            "colorscale": [
             [
              0,
              "#0d0887"
             ],
             [
              0.1111111111111111,
              "#46039f"
             ],
             [
              0.2222222222222222,
              "#7201a8"
             ],
             [
              0.3333333333333333,
              "#9c179e"
             ],
             [
              0.4444444444444444,
              "#bd3786"
             ],
             [
              0.5555555555555556,
              "#d8576b"
             ],
             [
              0.6666666666666666,
              "#ed7953"
             ],
             [
              0.7777777777777778,
              "#fb9f3a"
             ],
             [
              0.8888888888888888,
              "#fdca26"
             ],
             [
              1,
              "#f0f921"
             ]
            ],
            "type": "histogram2d"
           }
          ],
          "histogram2dcontour": [
           {
            "colorbar": {
             "outlinewidth": 0,
             "ticks": ""
            },
            "colorscale": [
             [
              0,
              "#0d0887"
             ],
             [
              0.1111111111111111,
              "#46039f"
             ],
             [
              0.2222222222222222,
              "#7201a8"
             ],
             [
              0.3333333333333333,
              "#9c179e"
             ],
             [
              0.4444444444444444,
              "#bd3786"
             ],
             [
              0.5555555555555556,
              "#d8576b"
             ],
             [
              0.6666666666666666,
              "#ed7953"
             ],
             [
              0.7777777777777778,
              "#fb9f3a"
             ],
             [
              0.8888888888888888,
              "#fdca26"
             ],
             [
              1,
              "#f0f921"
             ]
            ],
            "type": "histogram2dcontour"
           }
          ],
          "mesh3d": [
           {
            "colorbar": {
             "outlinewidth": 0,
             "ticks": ""
            },
            "type": "mesh3d"
           }
          ],
          "parcoords": [
           {
            "line": {
             "colorbar": {
              "outlinewidth": 0,
              "ticks": ""
             }
            },
            "type": "parcoords"
           }
          ],
          "pie": [
           {
            "automargin": true,
            "type": "pie"
           }
          ],
          "scatter": [
           {
            "fillpattern": {
             "fillmode": "overlay",
             "size": 10,
             "solidity": 0.2
            },
            "type": "scatter"
           }
          ],
          "scatter3d": [
           {
            "line": {
             "colorbar": {
              "outlinewidth": 0,
              "ticks": ""
             }
            },
            "marker": {
             "colorbar": {
              "outlinewidth": 0,
              "ticks": ""
             }
            },
            "type": "scatter3d"
           }
          ],
          "scattercarpet": [
           {
            "marker": {
             "colorbar": {
              "outlinewidth": 0,
              "ticks": ""
             }
            },
            "type": "scattercarpet"
           }
          ],
          "scattergeo": [
           {
            "marker": {
             "colorbar": {
              "outlinewidth": 0,
              "ticks": ""
             }
            },
            "type": "scattergeo"
           }
          ],
          "scattergl": [
           {
            "marker": {
             "colorbar": {
              "outlinewidth": 0,
              "ticks": ""
             }
            },
            "type": "scattergl"
           }
          ],
          "scattermap": [
           {
            "marker": {
             "colorbar": {
              "outlinewidth": 0,
              "ticks": ""
             }
            },
            "type": "scattermap"
           }
          ],
          "scattermapbox": [
           {
            "marker": {
             "colorbar": {
              "outlinewidth": 0,
              "ticks": ""
             }
            },
            "type": "scattermapbox"
           }
          ],
          "scatterpolar": [
           {
            "marker": {
             "colorbar": {
              "outlinewidth": 0,
              "ticks": ""
             }
            },
            "type": "scatterpolar"
           }
          ],
          "scatterpolargl": [
           {
            "marker": {
             "colorbar": {
              "outlinewidth": 0,
              "ticks": ""
             }
            },
            "type": "scatterpolargl"
           }
          ],
          "scatterternary": [
           {
            "marker": {
             "colorbar": {
              "outlinewidth": 0,
              "ticks": ""
             }
            },
            "type": "scatterternary"
           }
          ],
          "surface": [
           {
            "colorbar": {
             "outlinewidth": 0,
             "ticks": ""
            },
            "colorscale": [
             [
              0,
              "#0d0887"
             ],
             [
              0.1111111111111111,
              "#46039f"
             ],
             [
              0.2222222222222222,
              "#7201a8"
             ],
             [
              0.3333333333333333,
              "#9c179e"
             ],
             [
              0.4444444444444444,
              "#bd3786"
             ],
             [
              0.5555555555555556,
              "#d8576b"
             ],
             [
              0.6666666666666666,
              "#ed7953"
             ],
             [
              0.7777777777777778,
              "#fb9f3a"
             ],
             [
              0.8888888888888888,
              "#fdca26"
             ],
             [
              1,
              "#f0f921"
             ]
            ],
            "type": "surface"
           }
          ],
          "table": [
           {
            "cells": {
             "fill": {
              "color": "#EBF0F8"
             },
             "line": {
              "color": "white"
             }
            },
            "header": {
             "fill": {
              "color": "#C8D4E3"
             },
             "line": {
              "color": "white"
             }
            },
            "type": "table"
           }
          ]
         },
         "layout": {
          "annotationdefaults": {
           "arrowcolor": "#2a3f5f",
           "arrowhead": 0,
           "arrowwidth": 1
          },
          "autotypenumbers": "strict",
          "coloraxis": {
           "colorbar": {
            "outlinewidth": 0,
            "ticks": ""
           }
          },
          "colorscale": {
           "diverging": [
            [
             0,
             "#8e0152"
            ],
            [
             0.1,
             "#c51b7d"
            ],
            [
             0.2,
             "#de77ae"
            ],
            [
             0.3,
             "#f1b6da"
            ],
            [
             0.4,
             "#fde0ef"
            ],
            [
             0.5,
             "#f7f7f7"
            ],
            [
             0.6,
             "#e6f5d0"
            ],
            [
             0.7,
             "#b8e186"
            ],
            [
             0.8,
             "#7fbc41"
            ],
            [
             0.9,
             "#4d9221"
            ],
            [
             1,
             "#276419"
            ]
           ],
           "sequential": [
            [
             0,
             "#0d0887"
            ],
            [
             0.1111111111111111,
             "#46039f"
            ],
            [
             0.2222222222222222,
             "#7201a8"
            ],
            [
             0.3333333333333333,
             "#9c179e"
            ],
            [
             0.4444444444444444,
             "#bd3786"
            ],
            [
             0.5555555555555556,
             "#d8576b"
            ],
            [
             0.6666666666666666,
             "#ed7953"
            ],
            [
             0.7777777777777778,
             "#fb9f3a"
            ],
            [
             0.8888888888888888,
             "#fdca26"
            ],
            [
             1,
             "#f0f921"
            ]
           ],
           "sequentialminus": [
            [
             0,
             "#0d0887"
            ],
            [
             0.1111111111111111,
             "#46039f"
            ],
            [
             0.2222222222222222,
             "#7201a8"
            ],
            [
             0.3333333333333333,
             "#9c179e"
            ],
            [
             0.4444444444444444,
             "#bd3786"
            ],
            [
             0.5555555555555556,
             "#d8576b"
            ],
            [
             0.6666666666666666,
             "#ed7953"
            ],
            [
             0.7777777777777778,
             "#fb9f3a"
            ],
            [
             0.8888888888888888,
             "#fdca26"
            ],
            [
             1,
             "#f0f921"
            ]
           ]
          },
          "colorway": [
           "#636efa",
           "#EF553B",
           "#00cc96",
           "#ab63fa",
           "#FFA15A",
           "#19d3f3",
           "#FF6692",
           "#B6E880",
           "#FF97FF",
           "#FECB52"
          ],
          "font": {
           "color": "#2a3f5f"
          },
          "geo": {
           "bgcolor": "white",
           "lakecolor": "white",
           "landcolor": "#E5ECF6",
           "showlakes": true,
           "showland": true,
           "subunitcolor": "white"
          },
          "hoverlabel": {
           "align": "left"
          },
          "hovermode": "closest",
          "mapbox": {
           "style": "light"
          },
          "paper_bgcolor": "white",
          "plot_bgcolor": "#E5ECF6",
          "polar": {
           "angularaxis": {
            "gridcolor": "white",
            "linecolor": "white",
            "ticks": ""
           },
           "bgcolor": "#E5ECF6",
           "radialaxis": {
            "gridcolor": "white",
            "linecolor": "white",
            "ticks": ""
           }
          },
          "scene": {
           "xaxis": {
            "backgroundcolor": "#E5ECF6",
            "gridcolor": "white",
            "gridwidth": 2,
            "linecolor": "white",
            "showbackground": true,
            "ticks": "",
            "zerolinecolor": "white"
           },
           "yaxis": {
            "backgroundcolor": "#E5ECF6",
            "gridcolor": "white",
            "gridwidth": 2,
            "linecolor": "white",
            "showbackground": true,
            "ticks": "",
            "zerolinecolor": "white"
           },
           "zaxis": {
            "backgroundcolor": "#E5ECF6",
            "gridcolor": "white",
            "gridwidth": 2,
            "linecolor": "white",
            "showbackground": true,
            "ticks": "",
            "zerolinecolor": "white"
           }
          },
          "shapedefaults": {
           "line": {
            "color": "#2a3f5f"
           }
          },
          "ternary": {
           "aaxis": {
            "gridcolor": "white",
            "linecolor": "white",
            "ticks": ""
           },
           "baxis": {
            "gridcolor": "white",
            "linecolor": "white",
            "ticks": ""
           },
           "bgcolor": "#E5ECF6",
           "caxis": {
            "gridcolor": "white",
            "linecolor": "white",
            "ticks": ""
           }
          },
          "title": {
           "x": 0.05
          },
          "xaxis": {
           "automargin": true,
           "gridcolor": "white",
           "linecolor": "white",
           "ticks": "",
           "title": {
            "standoff": 15
           },
           "zerolinecolor": "white",
           "zerolinewidth": 2
          },
          "yaxis": {
           "automargin": true,
           "gridcolor": "white",
           "linecolor": "white",
           "ticks": "",
           "title": {
            "standoff": 15
           },
           "zerolinecolor": "white",
           "zerolinewidth": 2
          }
         }
        },
        "title": {
         "text": "Zone Entries by Detail"
        },
        "xaxis": {
         "anchor": "y",
         "domain": [
          0,
          1
         ],
         "title": {
          "text": "game_date"
         }
        },
        "yaxis": {
         "anchor": "x",
         "domain": [
          0,
          1
         ],
         "title": {
          "text": "Count"
         }
        }
       }
      }
     },
     "metadata": {},
     "output_type": "display_data"
    }
   ],
   "source": [
    "#team_counts_per_detail_df[\"Period\"] = team_counts_per_detail_df[\"Period\"].astype(\"category\")\n",
    "fig = px.bar(team_counts_per_detail_df, x=\"game_date\", y=\"Count\", color=\"Detail 1\",\n",
    "             barmode=\"group\", title=\"Zone Entries by Detail\")\n",
    "\n",
    "chart_html = to_html(fig, include_plotlyjs=\"cdn\", full_html=False)\n",
    "\n",
    "fig"
   ]
  }
 ],
 "metadata": {
  "kernelspec": {
   "display_name": ".venv",
   "language": "python",
   "name": "python3"
  },
  "language_info": {
   "codemirror_mode": {
    "name": "ipython",
    "version": 3
   },
   "file_extension": ".py",
   "mimetype": "text/x-python",
   "name": "python",
   "nbconvert_exporter": "python",
   "pygments_lexer": "ipython3",
   "version": "3.11.4"
  }
 },
 "nbformat": 4,
 "nbformat_minor": 2
}
